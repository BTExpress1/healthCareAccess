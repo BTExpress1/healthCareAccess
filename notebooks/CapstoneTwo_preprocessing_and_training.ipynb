{
 "cells": [
  {
   "cell_type": "markdown",
   "id": "bffb2ec4-63ae-4ba0-b473-a6b08cf9238e",
   "metadata": {},
   "source": [
    "## <div class=\"alert alert-info\"><h1>Imports</h1></div>"
   ]
  },
  {
   "cell_type": "code",
   "execution_count": 1,
   "id": "67366e5f-f673-4afa-86de-0037c2cb5c3d",
   "metadata": {
    "execution": {
     "iopub.execute_input": "2025-03-14T21:21:22.642713Z",
     "iopub.status.busy": "2025-03-14T21:21:22.642512Z",
     "iopub.status.idle": "2025-03-14T21:21:23.671209Z",
     "shell.execute_reply": "2025-03-14T21:21:23.670761Z",
     "shell.execute_reply.started": "2025-03-14T21:21:22.642700Z"
    }
   },
   "outputs": [],
   "source": [
    "import pandas as pd\n",
    "import numpy as np\n",
    "import os\n",
    "import pickle\n",
    "import matplotlib.pyplot as plt\n",
    "import seaborn as sns\n",
    "import time\n",
    "import joblib\n",
    "import lightgbm as lgb\n",
    "import sklearn\n",
    "from sklearn import __version__ as sklearn_version\n",
    "from sklearn.decomposition import PCA\n",
    "from sklearn.preprocessing import scale\n",
    "from sklearn.model_selection import train_test_split, cross_validate, GridSearchCV, learning_curve\n",
    "from sklearn.preprocessing import StandardScaler, MinMaxScaler\n",
    "from sklearn.dummy import DummyRegressor\n",
    "from sklearn.linear_model import LinearRegression\n",
    "from sklearn.ensemble import RandomForestRegressor\n",
    "from sklearn.metrics import r2_score, mean_squared_error, mean_absolute_error\n",
    "from sklearn.pipeline import make_pipeline\n",
    "from sklearn.impute import SimpleImputer\n",
    "from sklearn.feature_selection import SelectKBest, f_regression\n",
    "from sklearn.model_selection import RandomizedSearchCV, ShuffleSplit\n",
    "from sklearn.feature_selection import VarianceThreshold\n",
    "import datetime\n",
    "\n",
    "#Start a timer to check the execution time of the notebook.\n",
    "start_time = time.time()"
   ]
  },
  {
   "cell_type": "markdown",
   "id": "c6dc1ce2-47c3-4031-b7a1-1a1aef8ae476",
   "metadata": {},
   "source": [
    "## <div class=\"alert alert-info\"><h1>Function Definitions</h1></div>"
   ]
  },
  {
   "cell_type": "code",
   "execution_count": 2,
   "id": "2f263247-da0e-42fa-ac72-cb13d8325404",
   "metadata": {
    "execution": {
     "iopub.execute_input": "2025-03-14T21:21:23.671932Z",
     "iopub.status.busy": "2025-03-14T21:21:23.671602Z",
     "iopub.status.idle": "2025-03-14T21:21:23.675218Z",
     "shell.execute_reply": "2025-03-14T21:21:23.674603Z",
     "shell.execute_reply.started": "2025-03-14T21:21:23.671914Z"
    }
   },
   "outputs": [],
   "source": [
    "#Calculate the R^2 as defined above\n",
    "def r_squared(y, ypred):\n",
    "    \"\"\"R-squared score.\n",
    "    \n",
    "    Calculate the R-squared, or coefficient of determination, of the input.\n",
    "    \n",
    "    Arguments:\n",
    "    y -- the observed values\n",
    "    ypred -- the predicted values\n",
    "    \"\"\"\n",
    "    ybar = np.sum(y) / len(y) #yes, we could use np.mean(y)\n",
    "    sum_sq_tot = np.sum((y - ybar)**2) #total sum of squares error\n",
    "    sum_sq_res = np.sum((y - ypred)**2) #residual sum of squares error\n",
    "    R2 = 1.0 - sum_sq_res / sum_sq_tot \n",
    "    return R2"
   ]
  },
  {
   "cell_type": "markdown",
   "id": "5782f184-6f55-402d-9ade-fcf15c864fbe",
   "metadata": {},
   "source": [
    "This is very simply the average of the absolute errors:\n",
    "\n",
    "$$MAE = \\frac{1}{n}\\sum_i^n|y_i - \\hat{y}|$$"
   ]
  },
  {
   "cell_type": "code",
   "execution_count": 3,
   "id": "c6e71e93-2d98-425d-b0e8-4b3b6010db18",
   "metadata": {
    "execution": {
     "iopub.execute_input": "2025-03-14T21:21:23.676151Z",
     "iopub.status.busy": "2025-03-14T21:21:23.675744Z",
     "iopub.status.idle": "2025-03-14T21:21:23.678795Z",
     "shell.execute_reply": "2025-03-14T21:21:23.678051Z",
     "shell.execute_reply.started": "2025-03-14T21:21:23.676138Z"
    }
   },
   "outputs": [],
   "source": [
    "#Calculate the MAE as defined above\n",
    "def mae(y, ypred):\n",
    "    \"\"\"Mean absolute error.\n",
    "    \n",
    "    Calculate the mean absolute error of the arguments\n",
    "\n",
    "    Arguments:\n",
    "    y -- the observed values\n",
    "    ypred -- the predicted values\n",
    "    \"\"\"\n",
    "    abs_error = np.abs(y - ypred)\n",
    "    mae = np.mean(abs_error)\n",
    "    return mae"
   ]
  },
  {
   "cell_type": "markdown",
   "id": "24243957-9b47-4fce-ae4b-df31f043d73b",
   "metadata": {},
   "source": [
    "Another common metric (and an important one internally for optimizing machine learning models) is the mean squared error. This is simply the average of the square of the errors:\n",
    "\n",
    "$$MSE = \\frac{1}{n}\\sum_i^n(y_i - \\hat{y})^2$$"
   ]
  },
  {
   "cell_type": "code",
   "execution_count": 4,
   "id": "917cd281-9e00-4bc1-9f84-305e50a4fe60",
   "metadata": {
    "execution": {
     "iopub.execute_input": "2025-03-14T21:21:23.679997Z",
     "iopub.status.busy": "2025-03-14T21:21:23.679700Z",
     "iopub.status.idle": "2025-03-14T21:21:23.683538Z",
     "shell.execute_reply": "2025-03-14T21:21:23.682610Z",
     "shell.execute_reply.started": "2025-03-14T21:21:23.679979Z"
    }
   },
   "outputs": [],
   "source": [
    "#Calculate the MSE as defined above\n",
    "def mse(y, ypred):\n",
    "    \"\"\"Mean square error.\n",
    "    \n",
    "    Calculate the mean square error of the arguments\n",
    "\n",
    "    Arguments:\n",
    "    y -- the observed values\n",
    "    ypred -- the predicted values\n",
    "    \"\"\"\n",
    "    sq_error = (y - ypred)**2\n",
    "    mse = np.mean(sq_error)\n",
    "    return mse"
   ]
  },
  {
   "cell_type": "markdown",
   "id": "04a76f70-4564-4841-8f06-fd480e753130",
   "metadata": {},
   "source": [
    "## <div class=\"alert alert-info\"><h1>Load the Data</h1></div>"
   ]
  },
  {
   "cell_type": "code",
   "execution_count": 5,
   "id": "c01e797e-1421-4d8b-b12c-ee974ccdbc39",
   "metadata": {
    "execution": {
     "iopub.execute_input": "2025-03-14T21:21:23.684207Z",
     "iopub.status.busy": "2025-03-14T21:21:23.684038Z",
     "iopub.status.idle": "2025-03-14T21:21:25.327632Z",
     "shell.execute_reply": "2025-03-14T21:21:25.327060Z",
     "shell.execute_reply.started": "2025-03-14T21:21:23.684194Z"
    }
   },
   "outputs": [],
   "source": [
    "datapath = '../data/health_cdc_data_EDA_features.csv'\n",
    "health_rec = pd.read_csv(datapath)"
   ]
  },
  {
   "cell_type": "code",
   "execution_count": 6,
   "id": "9d699af2-8ef2-42ca-815d-efb54f7a9e6c",
   "metadata": {
    "execution": {
     "iopub.execute_input": "2025-03-14T21:21:25.328911Z",
     "iopub.status.busy": "2025-03-14T21:21:25.328740Z",
     "iopub.status.idle": "2025-03-14T21:21:25.342900Z",
     "shell.execute_reply": "2025-03-14T21:21:25.342203Z",
     "shell.execute_reply.started": "2025-03-14T21:21:25.328900Z"
    }
   },
   "outputs": [
    {
     "data": {
      "text/html": [
       "<div>\n",
       "<style scoped>\n",
       "    .dataframe tbody tr th:only-of-type {\n",
       "        vertical-align: middle;\n",
       "    }\n",
       "\n",
       "    .dataframe tbody tr th {\n",
       "        vertical-align: top;\n",
       "    }\n",
       "\n",
       "    .dataframe thead th {\n",
       "        text-align: right;\n",
       "    }\n",
       "</style>\n",
       "<table border=\"1\" class=\"dataframe\">\n",
       "  <thead>\n",
       "    <tr style=\"text-align: right;\">\n",
       "      <th></th>\n",
       "      <th>region</th>\n",
       "      <th>state</th>\n",
       "      <th>city</th>\n",
       "      <th>total_days_of_care</th>\n",
       "      <th>total_charges</th>\n",
       "      <th>total_cases</th>\n",
       "      <th>min_copay_for_new_patient</th>\n",
       "      <th>max_copay_for_new_patient</th>\n",
       "      <th>mode_copay_for_new_patient</th>\n",
       "      <th>min_copay_for_established_patient</th>\n",
       "      <th>...</th>\n",
       "      <th>hearingdf</th>\n",
       "      <th>state_total_hispallp</th>\n",
       "      <th>occupation_per_100kcapita</th>\n",
       "      <th>occupation_per_100ksq_mile</th>\n",
       "      <th>race_ratio</th>\n",
       "      <th>access_ratio</th>\n",
       "      <th>discrimination_ratio</th>\n",
       "      <th>vigilance_ratio</th>\n",
       "      <th>sex_ratio</th>\n",
       "      <th>hispanic_ratio</th>\n",
       "    </tr>\n",
       "  </thead>\n",
       "  <tbody>\n",
       "    <tr>\n",
       "      <th>0</th>\n",
       "      <td>south</td>\n",
       "      <td>south carolina</td>\n",
       "      <td>Sumter</td>\n",
       "      <td>16460.0</td>\n",
       "      <td>131894850.0</td>\n",
       "      <td>3156.0</td>\n",
       "      <td>120.562500</td>\n",
       "      <td>368.75000</td>\n",
       "      <td>187.125000</td>\n",
       "      <td>38.187500</td>\n",
       "      <td>...</td>\n",
       "      <td>1.0</td>\n",
       "      <td>31606</td>\n",
       "      <td>0.718626</td>\n",
       "      <td>115.552780</td>\n",
       "      <td>0.000041</td>\n",
       "      <td>0.000057</td>\n",
       "      <td>0.000083</td>\n",
       "      <td>0.000075</td>\n",
       "      <td>0.000091</td>\n",
       "      <td>0.000063</td>\n",
       "    </tr>\n",
       "    <tr>\n",
       "      <th>1</th>\n",
       "      <td>south</td>\n",
       "      <td>texas</td>\n",
       "      <td>Huffman</td>\n",
       "      <td>527.0</td>\n",
       "      <td>7650966.0</td>\n",
       "      <td>72.0</td>\n",
       "      <td>43.687500</td>\n",
       "      <td>132.75000</td>\n",
       "      <td>67.812500</td>\n",
       "      <td>13.953125</td>\n",
       "      <td>...</td>\n",
       "      <td>1.0</td>\n",
       "      <td>106227</td>\n",
       "      <td>0.127604</td>\n",
       "      <td>13.775335</td>\n",
       "      <td>0.000025</td>\n",
       "      <td>0.000017</td>\n",
       "      <td>0.000025</td>\n",
       "      <td>0.000022</td>\n",
       "      <td>0.000027</td>\n",
       "      <td>0.000028</td>\n",
       "    </tr>\n",
       "    <tr>\n",
       "      <th>2</th>\n",
       "      <td>south</td>\n",
       "      <td>oklahoma</td>\n",
       "      <td>Oktaha</td>\n",
       "      <td>220.0</td>\n",
       "      <td>2020002.0</td>\n",
       "      <td>58.0</td>\n",
       "      <td>13.250000</td>\n",
       "      <td>40.65625</td>\n",
       "      <td>20.609375</td>\n",
       "      <td>4.171875</td>\n",
       "      <td>...</td>\n",
       "      <td>1.0</td>\n",
       "      <td>34405</td>\n",
       "      <td>0.909787</td>\n",
       "      <td>51.502883</td>\n",
       "      <td>0.000038</td>\n",
       "      <td>0.000052</td>\n",
       "      <td>0.000076</td>\n",
       "      <td>0.000069</td>\n",
       "      <td>0.000041</td>\n",
       "      <td>0.000058</td>\n",
       "    </tr>\n",
       "    <tr>\n",
       "      <th>3</th>\n",
       "      <td>midwest</td>\n",
       "      <td>minnesota</td>\n",
       "      <td>Zumbrota</td>\n",
       "      <td>49.0</td>\n",
       "      <td>321551.0</td>\n",
       "      <td>13.0</td>\n",
       "      <td>14.000000</td>\n",
       "      <td>42.06250</td>\n",
       "      <td>21.453125</td>\n",
       "      <td>4.578125</td>\n",
       "      <td>...</td>\n",
       "      <td>1.0</td>\n",
       "      <td>27092</td>\n",
       "      <td>0.656071</td>\n",
       "      <td>42.560044</td>\n",
       "      <td>0.000060</td>\n",
       "      <td>0.000067</td>\n",
       "      <td>0.000098</td>\n",
       "      <td>0.000085</td>\n",
       "      <td>0.000051</td>\n",
       "      <td>0.000074</td>\n",
       "    </tr>\n",
       "    <tr>\n",
       "      <th>4</th>\n",
       "      <td>south</td>\n",
       "      <td>texas</td>\n",
       "      <td>Hubbard</td>\n",
       "      <td>242.0</td>\n",
       "      <td>2751082.0</td>\n",
       "      <td>50.0</td>\n",
       "      <td>13.710938</td>\n",
       "      <td>41.71875</td>\n",
       "      <td>21.234375</td>\n",
       "      <td>4.382812</td>\n",
       "      <td>...</td>\n",
       "      <td>1.0</td>\n",
       "      <td>106227</td>\n",
       "      <td>0.127604</td>\n",
       "      <td>13.775335</td>\n",
       "      <td>0.000012</td>\n",
       "      <td>0.000017</td>\n",
       "      <td>0.000025</td>\n",
       "      <td>0.000022</td>\n",
       "      <td>0.000027</td>\n",
       "      <td>0.000019</td>\n",
       "    </tr>\n",
       "  </tbody>\n",
       "</table>\n",
       "<p>5 rows × 43 columns</p>\n",
       "</div>"
      ],
      "text/plain": [
       "    region           state      city  total_days_of_care  total_charges  \\\n",
       "0    south  south carolina    Sumter             16460.0    131894850.0   \n",
       "1    south           texas   Huffman               527.0      7650966.0   \n",
       "2    south        oklahoma    Oktaha               220.0      2020002.0   \n",
       "3  midwest       minnesota  Zumbrota                49.0       321551.0   \n",
       "4    south           texas   Hubbard               242.0      2751082.0   \n",
       "\n",
       "   total_cases  min_copay_for_new_patient  max_copay_for_new_patient  \\\n",
       "0       3156.0                 120.562500                  368.75000   \n",
       "1         72.0                  43.687500                  132.75000   \n",
       "2         58.0                  13.250000                   40.65625   \n",
       "3         13.0                  14.000000                   42.06250   \n",
       "4         50.0                  13.710938                   41.71875   \n",
       "\n",
       "   mode_copay_for_new_patient  min_copay_for_established_patient  ...  \\\n",
       "0                  187.125000                          38.187500  ...   \n",
       "1                   67.812500                          13.953125  ...   \n",
       "2                   20.609375                           4.171875  ...   \n",
       "3                   21.453125                           4.578125  ...   \n",
       "4                   21.234375                           4.382812  ...   \n",
       "\n",
       "   hearingdf  state_total_hispallp  occupation_per_100kcapita  \\\n",
       "0        1.0                 31606                   0.718626   \n",
       "1        1.0                106227                   0.127604   \n",
       "2        1.0                 34405                   0.909787   \n",
       "3        1.0                 27092                   0.656071   \n",
       "4        1.0                106227                   0.127604   \n",
       "\n",
       "  occupation_per_100ksq_mile  race_ratio  access_ratio  discrimination_ratio  \\\n",
       "0                 115.552780    0.000041      0.000057              0.000083   \n",
       "1                  13.775335    0.000025      0.000017              0.000025   \n",
       "2                  51.502883    0.000038      0.000052              0.000076   \n",
       "3                  42.560044    0.000060      0.000067              0.000098   \n",
       "4                  13.775335    0.000012      0.000017              0.000025   \n",
       "\n",
       "   vigilance_ratio  sex_ratio  hispanic_ratio  \n",
       "0         0.000075   0.000091        0.000063  \n",
       "1         0.000022   0.000027        0.000028  \n",
       "2         0.000069   0.000041        0.000058  \n",
       "3         0.000085   0.000051        0.000074  \n",
       "4         0.000022   0.000027        0.000019  \n",
       "\n",
       "[5 rows x 43 columns]"
      ]
     },
     "execution_count": 6,
     "metadata": {},
     "output_type": "execute_result"
    }
   ],
   "source": [
    "health_rec.head()"
   ]
  },
  {
   "cell_type": "code",
   "execution_count": 7,
   "id": "a7a131fb-dca7-4ba1-a73e-b70feec21455",
   "metadata": {
    "execution": {
     "iopub.execute_input": "2025-03-14T21:21:25.343868Z",
     "iopub.status.busy": "2025-03-14T21:21:25.343684Z",
     "iopub.status.idle": "2025-03-14T21:21:25.433480Z",
     "shell.execute_reply": "2025-03-14T21:21:25.432958Z",
     "shell.execute_reply.started": "2025-03-14T21:21:25.343857Z"
    }
   },
   "outputs": [
    {
     "data": {
      "text/plain": [
       "(621951, 37)"
      ]
     },
     "execution_count": 7,
     "metadata": {},
     "output_type": "execute_result"
    }
   ],
   "source": [
    "# Drop all columns that start with 'state_total_', 'min_' or 'max_'\n",
    "health_rec = health_rec.drop(columns=[col for col in health_rec.columns if col.startswith(('state_total_','min_', 'max_'))])\n",
    "health_rec = health_rec.drop('aggregation_level',axis=1)\n",
    "health_rec.shape"
   ]
  },
  {
   "cell_type": "markdown",
   "id": "1ed45680-82b4-4cf8-988d-f8eadbf9c97d",
   "metadata": {},
   "source": [
    "<div class=\"alert alert-info\"><strong>Extracting Black race from the rest of the data</strong></div>"
   ]
  },
  {
   "cell_type": "markdown",
   "id": "7f23f502-b820-43f2-ab35-77692a365039",
   "metadata": {},
   "source": [
    "<div style=\"background-color: rgba(128, 0, 128, 0.7); padding: 10px; color: white;\"> Race definition:<br>\n",
    "1 White<br> \n",
    "2 Black/African American <br>\n",
    "3 Asian <br>\n",
    "4 AIAN <br>\n",
    "5 AIAN and any other group <br>\n",
    "6 Other single and multiple races <br>\n",
    "7 Refused <br>\n",
    "8 Not Ascertained<br>\n",
    "9 Don't know"
   ]
  },
  {
   "cell_type": "markdown",
   "id": "de7093ed-b5b9-4272-b4bb-7e4c5321417a",
   "metadata": {},
   "source": [
    "<div style=\"background-color: rgba(128, 0, 128, 0.7); padding: 10px; color: white;\"> Hispanic definition:<br>\n",
    "1 Hispanic <br>\n",
    "2 Non-Hispanic White only <br>\n",
    "3 Non-Hispanic Black/African American only <br>\n",
    "4 Non-Hispanic Asian only <br>\n",
    "5 Non-Hispanic AIAN only <br>\n",
    "6 Non-Hispanic AIAN and any other group <br>\n",
    "7 Other single and multiple races <br>"
   ]
  },
  {
   "cell_type": "code",
   "execution_count": 8,
   "id": "c41e0a73-a31a-42a0-b1bb-d36b1aecc8e6",
   "metadata": {
    "execution": {
     "iopub.execute_input": "2025-03-14T21:21:25.434189Z",
     "iopub.status.busy": "2025-03-14T21:21:25.434041Z",
     "iopub.status.idle": "2025-03-14T21:21:25.440137Z",
     "shell.execute_reply": "2025-03-14T21:21:25.439401Z",
     "shell.execute_reply.started": "2025-03-14T21:21:25.434179Z"
    }
   },
   "outputs": [
    {
     "name": "stdout",
     "output_type": "stream",
     "text": [
      "All cases where hispanic == 3 have race == 2.\n"
     ]
    }
   ],
   "source": [
    "# Filter cases where hispanic == 3 and race is NOT 2\n",
    "non_matching_rows = health_rec[(health_rec['hispanic'] == 3) & (health_rec['race'] != 2)]\n",
    "\n",
    "# Check if such cases exist\n",
    "if not non_matching_rows.empty:\n",
    "    print(\"There are cases where hispanic == 3 but race is NOT 2.\")\n",
    "    print(non_matching_rows)\n",
    "else:\n",
    "    print(\"All cases where hispanic == 3 have race == 2.\")"
   ]
  },
  {
   "cell_type": "markdown",
   "id": "fa12afca-8523-4561-995f-f6e9d4bc2971",
   "metadata": {},
   "source": [
    "<div class=\"alert alert-info\">First we check if hispanic column black and race column black are always the same.<br>\n",
    "The result shows we can focus on filtering by race only<br><br>\n",
    "We will consider doing the same exercice by extractic all Hispanic</div>"
   ]
  },
  {
   "cell_type": "code",
   "execution_count": 9,
   "id": "6a59bd2b-97ac-4aa4-9e89-f228fe79c26c",
   "metadata": {
    "execution": {
     "iopub.execute_input": "2025-03-14T21:21:25.441114Z",
     "iopub.status.busy": "2025-03-14T21:21:25.440941Z",
     "iopub.status.idle": "2025-03-14T21:21:25.470658Z",
     "shell.execute_reply": "2025-03-14T21:21:25.469428Z",
     "shell.execute_reply.started": "2025-03-14T21:21:25.441104Z"
    }
   },
   "outputs": [],
   "source": [
    "blk_race = health_rec[health_rec.race == 2]"
   ]
  },
  {
   "cell_type": "code",
   "execution_count": 10,
   "id": "f4bcd05d-8f49-430c-87ef-c70681ac7d93",
   "metadata": {
    "execution": {
     "iopub.execute_input": "2025-03-14T21:21:25.471668Z",
     "iopub.status.busy": "2025-03-14T21:21:25.471419Z",
     "iopub.status.idle": "2025-03-14T21:21:25.479310Z",
     "shell.execute_reply": "2025-03-14T21:21:25.478387Z",
     "shell.execute_reply.started": "2025-03-14T21:21:25.471653Z"
    }
   },
   "outputs": [
    {
     "data": {
      "text/html": [
       "<div>\n",
       "<style scoped>\n",
       "    .dataframe tbody tr th:only-of-type {\n",
       "        vertical-align: middle;\n",
       "    }\n",
       "\n",
       "    .dataframe tbody tr th {\n",
       "        vertical-align: top;\n",
       "    }\n",
       "\n",
       "    .dataframe thead th {\n",
       "        text-align: right;\n",
       "    }\n",
       "</style>\n",
       "<table border=\"1\" class=\"dataframe\">\n",
       "  <thead>\n",
       "    <tr style=\"text-align: right;\">\n",
       "      <th></th>\n",
       "      <th>1</th>\n",
       "      <th>8</th>\n",
       "      <th>20</th>\n",
       "      <th>24</th>\n",
       "      <th>26</th>\n",
       "    </tr>\n",
       "  </thead>\n",
       "  <tbody>\n",
       "    <tr>\n",
       "      <th>region</th>\n",
       "      <td>south</td>\n",
       "      <td>south</td>\n",
       "      <td>south</td>\n",
       "      <td>south</td>\n",
       "      <td>south</td>\n",
       "    </tr>\n",
       "    <tr>\n",
       "      <th>state</th>\n",
       "      <td>texas</td>\n",
       "      <td>west virginia</td>\n",
       "      <td>alabama</td>\n",
       "      <td>louisiana</td>\n",
       "      <td>maryland</td>\n",
       "    </tr>\n",
       "    <tr>\n",
       "      <th>city</th>\n",
       "      <td>Huffman</td>\n",
       "      <td>Harrisville</td>\n",
       "      <td>Moulton</td>\n",
       "      <td>Monroe</td>\n",
       "      <td>Dunkirk</td>\n",
       "    </tr>\n",
       "    <tr>\n",
       "      <th>total_days_of_care</th>\n",
       "      <td>527.0</td>\n",
       "      <td>180.0</td>\n",
       "      <td>692.0</td>\n",
       "      <td>7701.0</td>\n",
       "      <td>112.0</td>\n",
       "    </tr>\n",
       "    <tr>\n",
       "      <th>total_charges</th>\n",
       "      <td>7650966.0</td>\n",
       "      <td>2777041.0</td>\n",
       "      <td>12128407.0</td>\n",
       "      <td>76742790.0</td>\n",
       "      <td>544773.0</td>\n",
       "    </tr>\n",
       "    <tr>\n",
       "      <th>total_cases</th>\n",
       "      <td>72.0</td>\n",
       "      <td>28.0</td>\n",
       "      <td>141.0</td>\n",
       "      <td>979.0</td>\n",
       "      <td>11.0</td>\n",
       "    </tr>\n",
       "    <tr>\n",
       "      <th>mode_copay_for_new_patient</th>\n",
       "      <td>67.8125</td>\n",
       "      <td>20.875</td>\n",
       "      <td>40.9375</td>\n",
       "      <td>209.0</td>\n",
       "      <td>22.4375</td>\n",
       "    </tr>\n",
       "    <tr>\n",
       "      <th>mode_copay_for_established_patient</th>\n",
       "      <td>77.0625</td>\n",
       "      <td>23.703125</td>\n",
       "      <td>46.875</td>\n",
       "      <td>237.75</td>\n",
       "      <td>25.53125</td>\n",
       "    </tr>\n",
       "    <tr>\n",
       "      <th>total_agi</th>\n",
       "      <td>1939422.0</td>\n",
       "      <td>78047.0</td>\n",
       "      <td>710862.0</td>\n",
       "      <td>6942040.0</td>\n",
       "      <td>468760.0</td>\n",
       "    </tr>\n",
       "    <tr>\n",
       "      <th>race</th>\n",
       "      <td>2.0</td>\n",
       "      <td>2.0</td>\n",
       "      <td>2.0</td>\n",
       "      <td>2.0</td>\n",
       "      <td>2.0</td>\n",
       "    </tr>\n",
       "    <tr>\n",
       "      <th>hispanic</th>\n",
       "      <td>3.0</td>\n",
       "      <td>3.0</td>\n",
       "      <td>3.0</td>\n",
       "      <td>3.0</td>\n",
       "      <td>3.0</td>\n",
       "    </tr>\n",
       "    <tr>\n",
       "      <th>sex</th>\n",
       "      <td>2.0</td>\n",
       "      <td>1.0</td>\n",
       "      <td>2.0</td>\n",
       "      <td>1.0</td>\n",
       "      <td>1.0</td>\n",
       "    </tr>\n",
       "    <tr>\n",
       "      <th>discrimination</th>\n",
       "      <td>5.0</td>\n",
       "      <td>4.0</td>\n",
       "      <td>2.0</td>\n",
       "      <td>5.0</td>\n",
       "      <td>4.0</td>\n",
       "    </tr>\n",
       "    <tr>\n",
       "      <th>vigilance</th>\n",
       "      <td>5.0</td>\n",
       "      <td>5.0</td>\n",
       "      <td>5.0</td>\n",
       "      <td>5.0</td>\n",
       "      <td>1.0</td>\n",
       "    </tr>\n",
       "    <tr>\n",
       "      <th>access</th>\n",
       "      <td>1.0</td>\n",
       "      <td>1.0</td>\n",
       "      <td>1.0</td>\n",
       "      <td>1.0</td>\n",
       "      <td>1.0</td>\n",
       "    </tr>\n",
       "    <tr>\n",
       "      <th>gtgrisk</th>\n",
       "      <td>2.0</td>\n",
       "      <td>2.0</td>\n",
       "      <td>2.0</td>\n",
       "      <td>2.0</td>\n",
       "      <td>2.0</td>\n",
       "    </tr>\n",
       "    <tr>\n",
       "      <th>wellness</th>\n",
       "      <td>1.0</td>\n",
       "      <td>1.0</td>\n",
       "      <td>1.0</td>\n",
       "      <td>1.0</td>\n",
       "      <td>1.0</td>\n",
       "    </tr>\n",
       "    <tr>\n",
       "      <th>demenev</th>\n",
       "      <td>2.0</td>\n",
       "      <td>2.0</td>\n",
       "      <td>2.0</td>\n",
       "      <td>2.0</td>\n",
       "      <td>2.0</td>\n",
       "    </tr>\n",
       "    <tr>\n",
       "      <th>paillmb3m</th>\n",
       "      <td>3.0</td>\n",
       "      <td>3.0</td>\n",
       "      <td>3.0</td>\n",
       "      <td>0.0</td>\n",
       "      <td>0.0</td>\n",
       "    </tr>\n",
       "    <tr>\n",
       "      <th>marital</th>\n",
       "      <td>3.0</td>\n",
       "      <td>1.0</td>\n",
       "      <td>1.0</td>\n",
       "      <td>3.0</td>\n",
       "      <td>1.0</td>\n",
       "    </tr>\n",
       "    <tr>\n",
       "      <th>medicare</th>\n",
       "      <td>1.0</td>\n",
       "      <td>1.0</td>\n",
       "      <td>3.0</td>\n",
       "      <td>3.0</td>\n",
       "      <td>3.0</td>\n",
       "    </tr>\n",
       "    <tr>\n",
       "      <th>mhthrpy</th>\n",
       "      <td>2.0</td>\n",
       "      <td>2.0</td>\n",
       "      <td>2.0</td>\n",
       "      <td>2.0</td>\n",
       "      <td>2.0</td>\n",
       "    </tr>\n",
       "    <tr>\n",
       "      <th>discrim3</th>\n",
       "      <td>3.0</td>\n",
       "      <td>5.0</td>\n",
       "      <td>5.0</td>\n",
       "      <td>5.0</td>\n",
       "      <td>4.0</td>\n",
       "    </tr>\n",
       "    <tr>\n",
       "      <th>hisdetp</th>\n",
       "      <td>3.0</td>\n",
       "      <td>3.0</td>\n",
       "      <td>3.0</td>\n",
       "      <td>3.0</td>\n",
       "      <td>3.0</td>\n",
       "    </tr>\n",
       "    <tr>\n",
       "      <th>citznstp</th>\n",
       "      <td>1.0</td>\n",
       "      <td>1.0</td>\n",
       "      <td>1.0</td>\n",
       "      <td>1.0</td>\n",
       "      <td>1.0</td>\n",
       "    </tr>\n",
       "    <tr>\n",
       "      <th>ecigev</th>\n",
       "      <td>2.0</td>\n",
       "      <td>2.0</td>\n",
       "      <td>2.0</td>\n",
       "      <td>2.0</td>\n",
       "      <td>2.0</td>\n",
       "    </tr>\n",
       "    <tr>\n",
       "      <th>ahearst1</th>\n",
       "      <td>2.0</td>\n",
       "      <td>2.0</td>\n",
       "      <td>1.0</td>\n",
       "      <td>1.0</td>\n",
       "      <td>2.0</td>\n",
       "    </tr>\n",
       "    <tr>\n",
       "      <th>depev</th>\n",
       "      <td>1.0</td>\n",
       "      <td>2.0</td>\n",
       "      <td>2.0</td>\n",
       "      <td>2.0</td>\n",
       "      <td>2.0</td>\n",
       "    </tr>\n",
       "    <tr>\n",
       "      <th>hearingdf</th>\n",
       "      <td>1.0</td>\n",
       "      <td>1.0</td>\n",
       "      <td>1.0</td>\n",
       "      <td>1.0</td>\n",
       "      <td>1.0</td>\n",
       "    </tr>\n",
       "    <tr>\n",
       "      <th>occupation_per_100kcapita</th>\n",
       "      <td>0.127604</td>\n",
       "      <td>1.952965</td>\n",
       "      <td>0.734217</td>\n",
       "      <td>0.774394</td>\n",
       "      <td>0.612007</td>\n",
       "    </tr>\n",
       "    <tr>\n",
       "      <th>occupation_per_100ksq_mile</th>\n",
       "      <td>13.775335</td>\n",
       "      <td>144.44903</td>\n",
       "      <td>68.676078</td>\n",
       "      <td>68.731147</td>\n",
       "      <td>298.242786</td>\n",
       "    </tr>\n",
       "    <tr>\n",
       "      <th>race_ratio</th>\n",
       "      <td>0.000025</td>\n",
       "      <td>0.000072</td>\n",
       "      <td>0.000059</td>\n",
       "      <td>0.000078</td>\n",
       "      <td>0.000092</td>\n",
       "    </tr>\n",
       "    <tr>\n",
       "      <th>access_ratio</th>\n",
       "      <td>0.000017</td>\n",
       "      <td>0.00005</td>\n",
       "      <td>0.000041</td>\n",
       "      <td>0.000054</td>\n",
       "      <td>0.000063</td>\n",
       "    </tr>\n",
       "    <tr>\n",
       "      <th>discrimination_ratio</th>\n",
       "      <td>0.000025</td>\n",
       "      <td>0.000059</td>\n",
       "      <td>0.000024</td>\n",
       "      <td>0.000079</td>\n",
       "      <td>0.000074</td>\n",
       "    </tr>\n",
       "    <tr>\n",
       "      <th>vigilance_ratio</th>\n",
       "      <td>0.000022</td>\n",
       "      <td>0.000066</td>\n",
       "      <td>0.000054</td>\n",
       "      <td>0.000071</td>\n",
       "      <td>0.000017</td>\n",
       "    </tr>\n",
       "    <tr>\n",
       "      <th>sex_ratio</th>\n",
       "      <td>0.000027</td>\n",
       "      <td>0.00004</td>\n",
       "      <td>0.000065</td>\n",
       "      <td>0.000043</td>\n",
       "      <td>0.00005</td>\n",
       "    </tr>\n",
       "    <tr>\n",
       "      <th>hispanic_ratio</th>\n",
       "      <td>0.000028</td>\n",
       "      <td>0.000084</td>\n",
       "      <td>0.000068</td>\n",
       "      <td>0.00009</td>\n",
       "      <td>0.000104</td>\n",
       "    </tr>\n",
       "  </tbody>\n",
       "</table>\n",
       "</div>"
      ],
      "text/plain": [
       "                                           1              8           20  \\\n",
       "region                                  south          south       south   \n",
       "state                                   texas  west virginia     alabama   \n",
       "city                                  Huffman    Harrisville     Moulton   \n",
       "total_days_of_care                      527.0          180.0       692.0   \n",
       "total_charges                       7650966.0      2777041.0  12128407.0   \n",
       "total_cases                              72.0           28.0       141.0   \n",
       "mode_copay_for_new_patient            67.8125         20.875     40.9375   \n",
       "mode_copay_for_established_patient    77.0625      23.703125      46.875   \n",
       "total_agi                           1939422.0        78047.0    710862.0   \n",
       "race                                      2.0            2.0         2.0   \n",
       "hispanic                                  3.0            3.0         3.0   \n",
       "sex                                       2.0            1.0         2.0   \n",
       "discrimination                            5.0            4.0         2.0   \n",
       "vigilance                                 5.0            5.0         5.0   \n",
       "access                                    1.0            1.0         1.0   \n",
       "gtgrisk                                   2.0            2.0         2.0   \n",
       "wellness                                  1.0            1.0         1.0   \n",
       "demenev                                   2.0            2.0         2.0   \n",
       "paillmb3m                                 3.0            3.0         3.0   \n",
       "marital                                   3.0            1.0         1.0   \n",
       "medicare                                  1.0            1.0         3.0   \n",
       "mhthrpy                                   2.0            2.0         2.0   \n",
       "discrim3                                  3.0            5.0         5.0   \n",
       "hisdetp                                   3.0            3.0         3.0   \n",
       "citznstp                                  1.0            1.0         1.0   \n",
       "ecigev                                    2.0            2.0         2.0   \n",
       "ahearst1                                  2.0            2.0         1.0   \n",
       "depev                                     1.0            2.0         2.0   \n",
       "hearingdf                                 1.0            1.0         1.0   \n",
       "occupation_per_100kcapita            0.127604       1.952965    0.734217   \n",
       "occupation_per_100ksq_mile          13.775335      144.44903   68.676078   \n",
       "race_ratio                           0.000025       0.000072    0.000059   \n",
       "access_ratio                         0.000017        0.00005    0.000041   \n",
       "discrimination_ratio                 0.000025       0.000059    0.000024   \n",
       "vigilance_ratio                      0.000022       0.000066    0.000054   \n",
       "sex_ratio                            0.000027        0.00004    0.000065   \n",
       "hispanic_ratio                       0.000028       0.000084    0.000068   \n",
       "\n",
       "                                            24          26  \n",
       "region                                   south       south  \n",
       "state                                louisiana    maryland  \n",
       "city                                    Monroe     Dunkirk  \n",
       "total_days_of_care                      7701.0       112.0  \n",
       "total_charges                       76742790.0    544773.0  \n",
       "total_cases                              979.0        11.0  \n",
       "mode_copay_for_new_patient               209.0     22.4375  \n",
       "mode_copay_for_established_patient      237.75    25.53125  \n",
       "total_agi                            6942040.0    468760.0  \n",
       "race                                       2.0         2.0  \n",
       "hispanic                                   3.0         3.0  \n",
       "sex                                        1.0         1.0  \n",
       "discrimination                             5.0         4.0  \n",
       "vigilance                                  5.0         1.0  \n",
       "access                                     1.0         1.0  \n",
       "gtgrisk                                    2.0         2.0  \n",
       "wellness                                   1.0         1.0  \n",
       "demenev                                    2.0         2.0  \n",
       "paillmb3m                                  0.0         0.0  \n",
       "marital                                    3.0         1.0  \n",
       "medicare                                   3.0         3.0  \n",
       "mhthrpy                                    2.0         2.0  \n",
       "discrim3                                   5.0         4.0  \n",
       "hisdetp                                    3.0         3.0  \n",
       "citznstp                                   1.0         1.0  \n",
       "ecigev                                     2.0         2.0  \n",
       "ahearst1                                   1.0         2.0  \n",
       "depev                                      2.0         2.0  \n",
       "hearingdf                                  1.0         1.0  \n",
       "occupation_per_100kcapita             0.774394    0.612007  \n",
       "occupation_per_100ksq_mile           68.731147  298.242786  \n",
       "race_ratio                            0.000078    0.000092  \n",
       "access_ratio                          0.000054    0.000063  \n",
       "discrimination_ratio                  0.000079    0.000074  \n",
       "vigilance_ratio                       0.000071    0.000017  \n",
       "sex_ratio                             0.000043     0.00005  \n",
       "hispanic_ratio                         0.00009    0.000104  "
      ]
     },
     "execution_count": 10,
     "metadata": {},
     "output_type": "execute_result"
    }
   ],
   "source": [
    "blk_race.head().T"
   ]
  },
  {
   "cell_type": "code",
   "execution_count": 11,
   "id": "4ed96035-9448-48b1-9322-4d301792a96f",
   "metadata": {
    "execution": {
     "iopub.execute_input": "2025-03-14T21:21:25.480318Z",
     "iopub.status.busy": "2025-03-14T21:21:25.480136Z",
     "iopub.status.idle": "2025-03-14T21:21:25.485058Z",
     "shell.execute_reply": "2025-03-14T21:21:25.483876Z",
     "shell.execute_reply.started": "2025-03-14T21:21:25.480306Z"
    }
   },
   "outputs": [
    {
     "data": {
      "text/plain": [
       "(621951, 37)"
      ]
     },
     "execution_count": 11,
     "metadata": {},
     "output_type": "execute_result"
    }
   ],
   "source": [
    "health_rec.shape"
   ]
  },
  {
   "cell_type": "code",
   "execution_count": 12,
   "id": "39b768d5-5a18-42de-85e0-6429a9c81df7",
   "metadata": {
    "execution": {
     "iopub.execute_input": "2025-03-14T21:21:25.486031Z",
     "iopub.status.busy": "2025-03-14T21:21:25.485692Z",
     "iopub.status.idle": "2025-03-14T21:21:25.540141Z",
     "shell.execute_reply": "2025-03-14T21:21:25.539080Z",
     "shell.execute_reply.started": "2025-03-14T21:21:25.486018Z"
    }
   },
   "outputs": [],
   "source": [
    "health_rec = health_rec[health_rec.race !=2]"
   ]
  },
  {
   "cell_type": "code",
   "execution_count": 13,
   "id": "9d772b88-8d15-4342-aaee-ebe46bd4186d",
   "metadata": {
    "execution": {
     "iopub.execute_input": "2025-03-14T21:21:25.541080Z",
     "iopub.status.busy": "2025-03-14T21:21:25.540863Z",
     "iopub.status.idle": "2025-03-14T21:21:25.546108Z",
     "shell.execute_reply": "2025-03-14T21:21:25.545372Z",
     "shell.execute_reply.started": "2025-03-14T21:21:25.541065Z"
    }
   },
   "outputs": [
    {
     "data": {
      "text/plain": [
       "(540150, 37)"
      ]
     },
     "execution_count": 13,
     "metadata": {},
     "output_type": "execute_result"
    }
   ],
   "source": [
    "health_rec.shape"
   ]
  },
  {
   "cell_type": "markdown",
   "id": "f5bf2c6d-8d22-4289-9abe-cc5366c1f74a",
   "metadata": {},
   "source": [
    "<div class=\"alert alert-info\">We will do feature selection to reduced health_rec columns<br>\n",
    "   \n",
    "</div>"
   ]
  },
  {
   "cell_type": "code",
   "execution_count": 14,
   "id": "413d2d83-2e97-44ad-9674-eb01f023db68",
   "metadata": {
    "execution": {
     "iopub.execute_input": "2025-03-14T21:21:25.547146Z",
     "iopub.status.busy": "2025-03-14T21:21:25.546667Z",
     "iopub.status.idle": "2025-03-14T21:21:25.967609Z",
     "shell.execute_reply": "2025-03-14T21:21:25.966903Z",
     "shell.execute_reply.started": "2025-03-14T21:21:25.547127Z"
    }
   },
   "outputs": [
    {
     "data": {
      "text/plain": [
       "(540150, 30)"
      ]
     },
     "execution_count": 14,
     "metadata": {},
     "output_type": "execute_result"
    }
   ],
   "source": [
    "constant_columns = [col for col in health_rec.columns if health_rec[col].nunique() == 1]\n",
    "health_rec = health_rec.drop(columns=constant_columns)\n",
    "# Separate numerical and object features\n",
    "numerical_features = health_rec.select_dtypes(include=['number'])\n",
    "object_features = health_rec.select_dtypes(include=['object'])\n",
    "\n",
    "# Apply VarianceThreshold to numerical features only\n",
    "selector = VarianceThreshold(threshold=0.01)  # Adjust threshold as needed\n",
    "selector.fit(numerical_features)\n",
    "\n",
    "# Get the selected numerical features\n",
    "selected_numerical_features = numerical_features.columns[selector.get_support(indices=True)]\n",
    "\n",
    "# Combine selected numerical features with object features\n",
    "health_rec_selected = pd.concat([health_rec[selected_numerical_features], object_features], axis=1)\n",
    "\n",
    "# Update health_rec with the selected features\n",
    "health_rec = health_rec_selected\n",
    "health_rec.shape"
   ]
  },
  {
   "cell_type": "markdown",
   "id": "80d8c586-2c85-4b87-ba18-746f00ef67da",
   "metadata": {},
   "source": [
    "<div class=\"alert alert-info\">We have reduced the health_rec by 81,801 rows and 7 columns.<br>\n",
    "    This is not enough as run time was 8-20 minutes.<br><br>\n",
    "    Reducing health_rec by 80%<br>\n",
    "    This might be risky.\n",
    "</div>"
   ]
  },
  {
   "cell_type": "code",
   "execution_count": 15,
   "id": "d1ab8458-2995-4a62-8bf2-c5e899f31071",
   "metadata": {
    "execution": {
     "iopub.execute_input": "2025-03-14T21:21:25.968313Z",
     "iopub.status.busy": "2025-03-14T21:21:25.968137Z",
     "iopub.status.idle": "2025-03-14T21:21:26.009991Z",
     "shell.execute_reply": "2025-03-14T21:21:26.009455Z",
     "shell.execute_reply.started": "2025-03-14T21:21:25.968300Z"
    }
   },
   "outputs": [
    {
     "name": "stdout",
     "output_type": "stream",
     "text": [
      "Original DataFrame shape: (540150, 30)\n",
      "Reduced DataFrame shape: (108030, 30)\n",
      "\n",
      "Reduced DataFrame: health_rec\n"
     ]
    }
   ],
   "source": [
    "health_rec_saved = health_rec\n",
    "# Randomly sample 20% of the rows\n",
    "health_rec = health_rec.sample(frac=0.2, random_state=42) #random_state added for reproducibility.\n",
    "\n",
    "print(\"Original DataFrame shape:\", health_rec_saved.shape)\n",
    "print(\"Reduced DataFrame shape:\", health_rec.shape)\n",
    "print(\"\\nReduced DataFrame: health_rec\")"
   ]
  },
  {
   "cell_type": "markdown",
   "id": "347c1e48-466d-46ef-a2dc-de2dafa82035",
   "metadata": {},
   "source": [
    "<div class=\"alert alert-info\">Train/Test Split.<br>\n",
    "    <br> Since we have a large data set, we will start with a 50/50 train/test split.\n",
    "    <br> Let's check the particition size\n",
    "</div>"
   ]
  },
  {
   "cell_type": "code",
   "execution_count": 16,
   "id": "961f5092-2af4-4884-9fb8-2d4f43901408",
   "metadata": {
    "execution": {
     "iopub.execute_input": "2025-03-14T21:21:26.010478Z",
     "iopub.status.busy": "2025-03-14T21:21:26.010368Z",
     "iopub.status.idle": "2025-03-14T21:21:26.014524Z",
     "shell.execute_reply": "2025-03-14T21:21:26.013840Z",
     "shell.execute_reply.started": "2025-03-14T21:21:26.010470Z"
    }
   },
   "outputs": [
    {
     "data": {
      "text/plain": [
       "(54015.0, 54015.0)"
      ]
     },
     "execution_count": 16,
     "metadata": {},
     "output_type": "execute_result"
    }
   ],
   "source": [
    "len(health_rec) * .5 , len(health_rec) * .5 "
   ]
  },
  {
   "cell_type": "code",
   "execution_count": 17,
   "id": "803ac01d-f3ac-47fd-bfbd-71a952547df9",
   "metadata": {
    "execution": {
     "iopub.execute_input": "2025-03-14T21:21:26.015227Z",
     "iopub.status.busy": "2025-03-14T21:21:26.015056Z",
     "iopub.status.idle": "2025-03-14T21:21:26.051894Z",
     "shell.execute_reply": "2025-03-14T21:21:26.051139Z",
     "shell.execute_reply.started": "2025-03-14T21:21:26.015216Z"
    }
   },
   "outputs": [],
   "source": [
    "X_train, X_test, y_train, y_test = train_test_split(health_rec.drop(columns='access'), \n",
    "                                                    health_rec.access, test_size=0.5, \n",
    "                                                    random_state=47)"
   ]
  },
  {
   "cell_type": "code",
   "execution_count": 18,
   "id": "a7dc6d17-5b91-4e07-9e17-97e679f69ece",
   "metadata": {
    "execution": {
     "iopub.execute_input": "2025-03-14T21:21:26.052543Z",
     "iopub.status.busy": "2025-03-14T21:21:26.052369Z",
     "iopub.status.idle": "2025-03-14T21:21:26.056076Z",
     "shell.execute_reply": "2025-03-14T21:21:26.055633Z",
     "shell.execute_reply.started": "2025-03-14T21:21:26.052531Z"
    }
   },
   "outputs": [
    {
     "data": {
      "text/plain": [
       "((54015, 29), (54015, 29))"
      ]
     },
     "execution_count": 18,
     "metadata": {},
     "output_type": "execute_result"
    }
   ],
   "source": [
    "X_train.shape, X_test.shape"
   ]
  },
  {
   "cell_type": "code",
   "execution_count": 19,
   "id": "867679d0-a512-4bda-87e5-7e40de8d5ffc",
   "metadata": {
    "execution": {
     "iopub.execute_input": "2025-03-14T21:21:26.056891Z",
     "iopub.status.busy": "2025-03-14T21:21:26.056711Z",
     "iopub.status.idle": "2025-03-14T21:21:26.060619Z",
     "shell.execute_reply": "2025-03-14T21:21:26.059967Z",
     "shell.execute_reply.started": "2025-03-14T21:21:26.056879Z"
    }
   },
   "outputs": [
    {
     "data": {
      "text/plain": [
       "((54015,), (54015,))"
      ]
     },
     "execution_count": 19,
     "metadata": {},
     "output_type": "execute_result"
    }
   ],
   "source": [
    "y_train.shape, y_test.shape"
   ]
  },
  {
   "cell_type": "code",
   "execution_count": 20,
   "id": "31598e05-4ed1-4019-8659-00b4ac7554dc",
   "metadata": {
    "execution": {
     "iopub.execute_input": "2025-03-14T21:21:26.061359Z",
     "iopub.status.busy": "2025-03-14T21:21:26.061197Z",
     "iopub.status.idle": "2025-03-14T21:21:26.075822Z",
     "shell.execute_reply": "2025-03-14T21:21:26.075366Z",
     "shell.execute_reply.started": "2025-03-14T21:21:26.061348Z"
    }
   },
   "outputs": [
    {
     "data": {
      "text/plain": [
       "((54015, 26), (54015, 26))"
      ]
     },
     "execution_count": 20,
     "metadata": {},
     "output_type": "execute_result"
    }
   ],
   "source": [
    "#Save the 'region', state',and 'city' columns from the train/test data into names_train and names_test\n",
    "#Then drop those columns from `X_train` and `X_test`\n",
    "names_list = ['region', 'state', 'city']\n",
    "names_train = X_train[names_list]\n",
    "names_test = X_test[names_list]\n",
    "X_train.drop(columns=names_list, inplace=True)\n",
    "X_test.drop(columns=names_list, inplace=True)\n",
    "X_train.shape, X_test.shape"
   ]
  },
  {
   "cell_type": "code",
   "execution_count": 21,
   "id": "7d86a2b8-e7d7-4206-96e0-9aa40349d45a",
   "metadata": {
    "execution": {
     "iopub.execute_input": "2025-03-14T21:21:26.078318Z",
     "iopub.status.busy": "2025-03-14T21:21:26.077999Z",
     "iopub.status.idle": "2025-03-14T21:21:26.082885Z",
     "shell.execute_reply": "2025-03-14T21:21:26.082337Z",
     "shell.execute_reply.started": "2025-03-14T21:21:26.078304Z"
    }
   },
   "outputs": [
    {
     "data": {
      "text/plain": [
       "total_days_of_care                    float64\n",
       "total_charges                         float64\n",
       "total_cases                           float64\n",
       "mode_copay_for_new_patient            float64\n",
       "mode_copay_for_established_patient    float64\n",
       "total_agi                             float64\n",
       "race                                  float64\n",
       "hispanic                              float64\n",
       "sex                                   float64\n",
       "discrimination                        float64\n",
       "vigilance                             float64\n",
       "gtgrisk                               float64\n",
       "wellness                              float64\n",
       "paillmb3m                             float64\n",
       "marital                               float64\n",
       "medicare                              float64\n",
       "mhthrpy                               float64\n",
       "discrim3                              float64\n",
       "hisdetp                               float64\n",
       "citznstp                              float64\n",
       "ecigev                                float64\n",
       "ahearst1                              float64\n",
       "depev                                 float64\n",
       "hearingdf                             float64\n",
       "occupation_per_100kcapita             float64\n",
       "occupation_per_100ksq_mile            float64\n",
       "dtype: object"
      ]
     },
     "execution_count": 21,
     "metadata": {},
     "output_type": "execute_result"
    }
   ],
   "source": [
    "#Check the `dtypes` attribute of `X_train` to verify all features are numeric\n",
    "X_train.dtypes"
   ]
  },
  {
   "cell_type": "code",
   "execution_count": 22,
   "id": "b9e3b742-78d8-42da-a308-98c6cd1a5da0",
   "metadata": {
    "execution": {
     "iopub.execute_input": "2025-03-14T21:21:26.083646Z",
     "iopub.status.busy": "2025-03-14T21:21:26.083360Z",
     "iopub.status.idle": "2025-03-14T21:21:26.087740Z",
     "shell.execute_reply": "2025-03-14T21:21:26.087228Z",
     "shell.execute_reply.started": "2025-03-14T21:21:26.083631Z"
    }
   },
   "outputs": [
    {
     "data": {
      "text/plain": [
       "total_days_of_care                    float64\n",
       "total_charges                         float64\n",
       "total_cases                           float64\n",
       "mode_copay_for_new_patient            float64\n",
       "mode_copay_for_established_patient    float64\n",
       "total_agi                             float64\n",
       "race                                  float64\n",
       "hispanic                              float64\n",
       "sex                                   float64\n",
       "discrimination                        float64\n",
       "vigilance                             float64\n",
       "gtgrisk                               float64\n",
       "wellness                              float64\n",
       "paillmb3m                             float64\n",
       "marital                               float64\n",
       "medicare                              float64\n",
       "mhthrpy                               float64\n",
       "discrim3                              float64\n",
       "hisdetp                               float64\n",
       "citznstp                              float64\n",
       "ecigev                                float64\n",
       "ahearst1                              float64\n",
       "depev                                 float64\n",
       "hearingdf                             float64\n",
       "occupation_per_100kcapita             float64\n",
       "occupation_per_100ksq_mile            float64\n",
       "dtype: object"
      ]
     },
     "execution_count": 22,
     "metadata": {},
     "output_type": "execute_result"
    }
   ],
   "source": [
    "#Repeat this check for the test split in `X_test`\n",
    "X_test.dtypes"
   ]
  },
  {
   "cell_type": "markdown",
   "id": "fad47f94-ed0a-4bca-b54c-e8e1be35166e",
   "metadata": {},
   "source": [
    "<div class=\"alert alert-info\">Let's assume the average access is the the best guess\n",
    "</div>"
   ]
  },
  {
   "cell_type": "code",
   "execution_count": 23,
   "id": "cf53bece-c51c-4220-ba09-56958dd4b8d9",
   "metadata": {
    "execution": {
     "iopub.execute_input": "2025-03-14T21:21:26.088553Z",
     "iopub.status.busy": "2025-03-14T21:21:26.088196Z",
     "iopub.status.idle": "2025-03-14T21:21:26.091985Z",
     "shell.execute_reply": "2025-03-14T21:21:26.091541Z",
     "shell.execute_reply.started": "2025-03-14T21:21:26.088541Z"
    }
   },
   "outputs": [
    {
     "data": {
      "text/plain": [
       "np.float64(1.1932611311672683)"
      ]
     },
     "execution_count": 23,
     "metadata": {},
     "output_type": "execute_result"
    }
   ],
   "source": [
    "#Calculate the mean of `y_train`\n",
    "train_mean = y_train.mean()\n",
    "train_mean"
   ]
  },
  {
   "cell_type": "markdown",
   "id": "051836f0-4c45-482a-bcb5-b4050525912c",
   "metadata": {},
   "source": [
    "<div class=\"alert alert-info\">Let's repeat this with sklearn's DummyRegressor\n",
    "</div>"
   ]
  },
  {
   "cell_type": "code",
   "execution_count": 24,
   "id": "be15b7bd-7f40-4686-a8e8-025e51fa6560",
   "metadata": {
    "execution": {
     "iopub.execute_input": "2025-03-14T21:21:26.092830Z",
     "iopub.status.busy": "2025-03-14T21:21:26.092632Z",
     "iopub.status.idle": "2025-03-14T21:21:26.096668Z",
     "shell.execute_reply": "2025-03-14T21:21:26.096203Z",
     "shell.execute_reply.started": "2025-03-14T21:21:26.092819Z"
    }
   },
   "outputs": [
    {
     "data": {
      "text/plain": [
       "array([[1.19326113]])"
      ]
     },
     "execution_count": 24,
     "metadata": {},
     "output_type": "execute_result"
    }
   ],
   "source": [
    "#Fit the dummy regressor on the training data\n",
    "#Hint, call its `.fit()` method with `X_train` and `y_train` as arguments\n",
    "#Then print the object's `constant_` attribute and verify it's the same as the mean above\n",
    "dumb_reg = DummyRegressor(strategy='mean')\n",
    "dumb_reg.fit(X_train, y_train)\n",
    "dumb_reg.constant_"
   ]
  },
  {
   "cell_type": "markdown",
   "id": "f590b466-eb54-493a-adf3-aefb94f7f228",
   "metadata": {},
   "source": [
    "<div class=\"alert alert-info\">Pretty close\n",
    "</div>"
   ]
  },
  {
   "cell_type": "markdown",
   "id": "67eeed1c-489a-4f5c-bb63-36bd4e1e8981",
   "metadata": {},
   "source": [
    "<div class=\"alert alert-info\"><strong>Metrics Analysis</strong><br><br>\n",
    "    We will make your predictions by creating an array of length the size of the training set with the single value of the mean.\n",
    "</div>"
   ]
  },
  {
   "cell_type": "code",
   "execution_count": 25,
   "id": "7185ce0a-b8f0-4ad6-9c9b-52e0ddb4600b",
   "metadata": {
    "execution": {
     "iopub.execute_input": "2025-03-14T21:21:26.097598Z",
     "iopub.status.busy": "2025-03-14T21:21:26.097288Z",
     "iopub.status.idle": "2025-03-14T21:21:26.101889Z",
     "shell.execute_reply": "2025-03-14T21:21:26.101212Z",
     "shell.execute_reply.started": "2025-03-14T21:21:26.097584Z"
    }
   },
   "outputs": [
    {
     "data": {
      "text/plain": [
       "array([1.19326113, 1.19326113, 1.19326113, 1.19326113, 1.19326113])"
      ]
     },
     "execution_count": 25,
     "metadata": {},
     "output_type": "execute_result"
    }
   ],
   "source": [
    "y_tr_pred_ = train_mean * np.ones(len(y_train))\n",
    "y_tr_pred_[:5]"
   ]
  },
  {
   "cell_type": "code",
   "execution_count": 26,
   "id": "dcefe951-9700-493f-bd6c-5d816f147ff8",
   "metadata": {
    "execution": {
     "iopub.execute_input": "2025-03-14T21:21:26.102705Z",
     "iopub.status.busy": "2025-03-14T21:21:26.102422Z",
     "iopub.status.idle": "2025-03-14T21:21:26.106122Z",
     "shell.execute_reply": "2025-03-14T21:21:26.105506Z",
     "shell.execute_reply.started": "2025-03-14T21:21:26.102693Z"
    }
   },
   "outputs": [
    {
     "data": {
      "text/plain": [
       "array([1.19326113, 1.19326113, 1.19326113, 1.19326113, 1.19326113])"
      ]
     },
     "execution_count": 26,
     "metadata": {},
     "output_type": "execute_result"
    }
   ],
   "source": [
    "y_tr_pred = dumb_reg.predict(X_train)\n",
    "y_tr_pred[:5]"
   ]
  },
  {
   "cell_type": "markdown",
   "id": "6c8d502a-b0d7-4107-8f27-4d0354dd7289",
   "metadata": {},
   "source": [
    "<div class=\"alert alert-info\">Dummy regression produces the exact same result\n",
    "</div>"
   ]
  },
  {
   "cell_type": "code",
   "execution_count": 27,
   "id": "3a5b7a90-4f18-41d4-a74b-b4a3a0dde3a9",
   "metadata": {
    "execution": {
     "iopub.execute_input": "2025-03-14T21:21:26.107010Z",
     "iopub.status.busy": "2025-03-14T21:21:26.106737Z",
     "iopub.status.idle": "2025-03-14T21:21:26.111002Z",
     "shell.execute_reply": "2025-03-14T21:21:26.110280Z",
     "shell.execute_reply.started": "2025-03-14T21:21:26.106996Z"
    }
   },
   "outputs": [
    {
     "data": {
      "text/plain": [
       "np.float64(0.0)"
      ]
     },
     "execution_count": 27,
     "metadata": {},
     "output_type": "execute_result"
    }
   ],
   "source": [
    "r_squared(y_train, y_tr_pred)"
   ]
  },
  {
   "cell_type": "markdown",
   "id": "cdee7255-15bc-4e10-bbe6-734482293f8c",
   "metadata": {},
   "source": [
    "<div class=\"alert alert-info\">We will predict by creating an array of length the size of the test set with the single value of the (training) mean.\n",
    "</div>"
   ]
  },
  {
   "cell_type": "code",
   "execution_count": 28,
   "id": "626fbaa6-7862-4b91-8ab2-d409075aae78",
   "metadata": {
    "execution": {
     "iopub.execute_input": "2025-03-14T21:21:26.111511Z",
     "iopub.status.busy": "2025-03-14T21:21:26.111391Z",
     "iopub.status.idle": "2025-03-14T21:21:26.117011Z",
     "shell.execute_reply": "2025-03-14T21:21:26.116334Z",
     "shell.execute_reply.started": "2025-03-14T21:21:26.111502Z"
    }
   },
   "outputs": [
    {
     "data": {
      "text/plain": [
       "np.float64(-1.624942519384831e-05)"
      ]
     },
     "execution_count": 28,
     "metadata": {},
     "output_type": "execute_result"
    }
   ],
   "source": [
    "y_te_pred = train_mean * np.ones(len(y_test))\n",
    "r_squared(y_test, y_te_pred)"
   ]
  },
  {
   "cell_type": "markdown",
   "id": "f023c457-3064-45e1-bac0-abaecea18a57",
   "metadata": {},
   "source": [
    "<div class=\"alert alert-info\">Calculating Mean Absolute Error\n",
    "</div>"
   ]
  },
  {
   "cell_type": "code",
   "execution_count": 29,
   "id": "13890295-910a-4d86-b789-200af20055de",
   "metadata": {
    "execution": {
     "iopub.execute_input": "2025-03-14T21:21:26.117941Z",
     "iopub.status.busy": "2025-03-14T21:21:26.117539Z",
     "iopub.status.idle": "2025-03-14T21:21:26.121799Z",
     "shell.execute_reply": "2025-03-14T21:21:26.121337Z",
     "shell.execute_reply.started": "2025-03-14T21:21:26.117927Z"
    }
   },
   "outputs": [
    {
     "data": {
      "text/plain": [
       "np.float64(0.3386282791482911)"
      ]
     },
     "execution_count": 29,
     "metadata": {},
     "output_type": "execute_result"
    }
   ],
   "source": [
    "mae(y_train, y_tr_pred)"
   ]
  },
  {
   "cell_type": "code",
   "execution_count": 30,
   "id": "b041088d-2ef6-4110-9c39-13ad12b0079b",
   "metadata": {
    "execution": {
     "iopub.execute_input": "2025-03-14T21:21:26.122510Z",
     "iopub.status.busy": "2025-03-14T21:21:26.122286Z",
     "iopub.status.idle": "2025-03-14T21:21:26.126640Z",
     "shell.execute_reply": "2025-03-14T21:21:26.126190Z",
     "shell.execute_reply.started": "2025-03-14T21:21:26.122498Z"
    }
   },
   "outputs": [
    {
     "data": {
      "text/plain": [
       "np.float64(0.34094048617996536)"
      ]
     },
     "execution_count": 30,
     "metadata": {},
     "output_type": "execute_result"
    }
   ],
   "source": [
    "mae(y_test, y_te_pred)"
   ]
  },
  {
   "cell_type": "markdown",
   "id": "0fd5cae9-3db9-4d79-b38a-c1083fd599fb",
   "metadata": {},
   "source": [
    "<div class=\"alert alert-info\">Calculating Mean Squared Error\n",
    "</div>"
   ]
  },
  {
   "cell_type": "code",
   "execution_count": 31,
   "id": "73c36c17-d70e-4b83-b76f-41c7b19f0c62",
   "metadata": {
    "execution": {
     "iopub.execute_input": "2025-03-14T21:21:26.127315Z",
     "iopub.status.busy": "2025-03-14T21:21:26.127138Z",
     "iopub.status.idle": "2025-03-14T21:21:26.133176Z",
     "shell.execute_reply": "2025-03-14T21:21:26.132176Z",
     "shell.execute_reply.started": "2025-03-14T21:21:26.127304Z"
    }
   },
   "outputs": [
    {
     "data": {
      "text/plain": [
       "np.float64(0.5483948357260924)"
      ]
     },
     "execution_count": 31,
     "metadata": {},
     "output_type": "execute_result"
    }
   ],
   "source": [
    "mse(y_train, y_tr_pred)"
   ]
  },
  {
   "cell_type": "code",
   "execution_count": 32,
   "id": "3b0de949-3230-40eb-83bf-e5806208d537",
   "metadata": {
    "execution": {
     "iopub.execute_input": "2025-03-14T21:21:26.134175Z",
     "iopub.status.busy": "2025-03-14T21:21:26.133934Z",
     "iopub.status.idle": "2025-03-14T21:21:26.138882Z",
     "shell.execute_reply": "2025-03-14T21:21:26.138428Z",
     "shell.execute_reply.started": "2025-03-14T21:21:26.134160Z"
    }
   },
   "outputs": [
    {
     "data": {
      "text/plain": [
       "np.float64(0.5535671655141476)"
      ]
     },
     "execution_count": 32,
     "metadata": {},
     "output_type": "execute_result"
    }
   ],
   "source": [
    "mse(y_test, y_te_pred)"
   ]
  },
  {
   "cell_type": "markdown",
   "id": "6b5304e2-f865-4ba8-9a8f-d82d5595e11f",
   "metadata": {},
   "source": [
    "<div class=\"alert alert-info\">The Mean Squared Error on the test set is worst than the train set. <br>\n",
    "    Let's check the root mean square error. \n",
    "</div>"
   ]
  },
  {
   "cell_type": "code",
   "execution_count": 33,
   "id": "86a49702-ffc1-4894-b8be-c0cb89eb923e",
   "metadata": {
    "execution": {
     "iopub.execute_input": "2025-03-14T21:21:26.139450Z",
     "iopub.status.busy": "2025-03-14T21:21:26.139319Z",
     "iopub.status.idle": "2025-03-14T21:21:26.144571Z",
     "shell.execute_reply": "2025-03-14T21:21:26.144073Z",
     "shell.execute_reply.started": "2025-03-14T21:21:26.139440Z"
    }
   },
   "outputs": [
    {
     "data": {
      "text/plain": [
       "array([0.74053686, 0.74402094])"
      ]
     },
     "execution_count": 33,
     "metadata": {},
     "output_type": "execute_result"
    }
   ],
   "source": [
    "np.sqrt([mse(y_train, y_tr_pred), mse(y_test, y_te_pred)])"
   ]
  },
  {
   "cell_type": "markdown",
   "id": "29b7a72a-4081-46af-aa5d-8e1298524ede",
   "metadata": {},
   "source": [
    "<div class=\"alert alert-info\">Using sklearn metrics<br>\n",
    "    R-squared<br>\n",
    "    Mean Absolute Error<br>\n",
    "    Mean Squared Error\n",
    "</div>"
   ]
  },
  {
   "cell_type": "code",
   "execution_count": 34,
   "id": "dbf020e6-28c0-433a-b099-7de8804ebc7e",
   "metadata": {
    "execution": {
     "iopub.execute_input": "2025-03-14T21:21:26.145801Z",
     "iopub.status.busy": "2025-03-14T21:21:26.145456Z",
     "iopub.status.idle": "2025-03-14T21:21:26.152490Z",
     "shell.execute_reply": "2025-03-14T21:21:26.151828Z",
     "shell.execute_reply.started": "2025-03-14T21:21:26.145787Z"
    }
   },
   "outputs": [
    {
     "data": {
      "text/plain": [
       "(0.0, -1.624942519384831e-05)"
      ]
     },
     "execution_count": 34,
     "metadata": {},
     "output_type": "execute_result"
    }
   ],
   "source": [
    "r2_score(y_train, y_tr_pred), r2_score(y_test, y_te_pred)"
   ]
  },
  {
   "cell_type": "code",
   "execution_count": 35,
   "id": "5f7bf67b-a20f-43d5-8cc5-f2c2e28ce510",
   "metadata": {
    "execution": {
     "iopub.execute_input": "2025-03-14T21:21:26.153540Z",
     "iopub.status.busy": "2025-03-14T21:21:26.153248Z",
     "iopub.status.idle": "2025-03-14T21:21:26.160120Z",
     "shell.execute_reply": "2025-03-14T21:21:26.159333Z",
     "shell.execute_reply.started": "2025-03-14T21:21:26.153523Z"
    }
   },
   "outputs": [
    {
     "data": {
      "text/plain": [
       "(0.3386282791482911, 0.34094048617996536)"
      ]
     },
     "execution_count": 35,
     "metadata": {},
     "output_type": "execute_result"
    }
   ],
   "source": [
    "mean_absolute_error(y_train, y_tr_pred), mean_absolute_error(y_test, y_te_pred)"
   ]
  },
  {
   "cell_type": "code",
   "execution_count": 36,
   "id": "9e953417-cf14-4b51-b88e-8ca8fdfb7d3d",
   "metadata": {
    "execution": {
     "iopub.execute_input": "2025-03-14T21:21:26.161131Z",
     "iopub.status.busy": "2025-03-14T21:21:26.160690Z",
     "iopub.status.idle": "2025-03-14T21:21:26.167241Z",
     "shell.execute_reply": "2025-03-14T21:21:26.166511Z",
     "shell.execute_reply.started": "2025-03-14T21:21:26.161112Z"
    }
   },
   "outputs": [
    {
     "data": {
      "text/plain": [
       "(0.5483948357260924, 0.5535671655141476)"
      ]
     },
     "execution_count": 36,
     "metadata": {},
     "output_type": "execute_result"
    }
   ],
   "source": [
    "mean_squared_error(y_train, y_tr_pred), mean_squared_error(y_test, y_te_pred)"
   ]
  },
  {
   "cell_type": "code",
   "execution_count": 37,
   "id": "86d213b9-4216-4a83-a250-cd98318977b2",
   "metadata": {
    "execution": {
     "iopub.execute_input": "2025-03-14T21:21:26.168130Z",
     "iopub.status.busy": "2025-03-14T21:21:26.167964Z",
     "iopub.status.idle": "2025-03-14T21:21:26.180295Z",
     "shell.execute_reply": "2025-03-14T21:21:26.179633Z",
     "shell.execute_reply.started": "2025-03-14T21:21:26.168119Z"
    }
   },
   "outputs": [
    {
     "data": {
      "text/html": [
       "<div>\n",
       "<style scoped>\n",
       "    .dataframe tbody tr th:only-of-type {\n",
       "        vertical-align: middle;\n",
       "    }\n",
       "\n",
       "    .dataframe tbody tr th {\n",
       "        vertical-align: top;\n",
       "    }\n",
       "\n",
       "    .dataframe thead th {\n",
       "        text-align: right;\n",
       "    }\n",
       "</style>\n",
       "<table border=\"1\" class=\"dataframe\">\n",
       "  <thead>\n",
       "    <tr style=\"text-align: right;\">\n",
       "      <th></th>\n",
       "      <th>total_days_of_care</th>\n",
       "      <th>total_charges</th>\n",
       "      <th>total_cases</th>\n",
       "      <th>mode_copay_for_new_patient</th>\n",
       "      <th>mode_copay_for_established_patient</th>\n",
       "      <th>total_agi</th>\n",
       "      <th>race</th>\n",
       "      <th>hispanic</th>\n",
       "      <th>sex</th>\n",
       "      <th>discrimination</th>\n",
       "      <th>...</th>\n",
       "      <th>mhthrpy</th>\n",
       "      <th>discrim3</th>\n",
       "      <th>hisdetp</th>\n",
       "      <th>citznstp</th>\n",
       "      <th>ecigev</th>\n",
       "      <th>ahearst1</th>\n",
       "      <th>depev</th>\n",
       "      <th>hearingdf</th>\n",
       "      <th>occupation_per_100kcapita</th>\n",
       "      <th>occupation_per_100ksq_mile</th>\n",
       "    </tr>\n",
       "  </thead>\n",
       "  <tbody>\n",
       "    <tr>\n",
       "      <th>491165</th>\n",
       "      <td>136.0</td>\n",
       "      <td>1351965.0</td>\n",
       "      <td>29.0</td>\n",
       "      <td>20.734375</td>\n",
       "      <td>23.859375</td>\n",
       "      <td>50622.0</td>\n",
       "      <td>1.0</td>\n",
       "      <td>2.0</td>\n",
       "      <td>1.0</td>\n",
       "      <td>5.0</td>\n",
       "      <td>...</td>\n",
       "      <td>2.0</td>\n",
       "      <td>5.0</td>\n",
       "      <td>3.0</td>\n",
       "      <td>1.0</td>\n",
       "      <td>2.0</td>\n",
       "      <td>1.0</td>\n",
       "      <td>2.0</td>\n",
       "      <td>1.0</td>\n",
       "      <td>0.635473</td>\n",
       "      <td>56.492000</td>\n",
       "    </tr>\n",
       "    <tr>\n",
       "      <th>224358</th>\n",
       "      <td>919.0</td>\n",
       "      <td>6059290.0</td>\n",
       "      <td>220.0</td>\n",
       "      <td>40.781250</td>\n",
       "      <td>46.812500</td>\n",
       "      <td>472694.0</td>\n",
       "      <td>1.0</td>\n",
       "      <td>2.0</td>\n",
       "      <td>2.0</td>\n",
       "      <td>4.0</td>\n",
       "      <td>...</td>\n",
       "      <td>2.0</td>\n",
       "      <td>5.0</td>\n",
       "      <td>3.0</td>\n",
       "      <td>2.0</td>\n",
       "      <td>2.0</td>\n",
       "      <td>1.0</td>\n",
       "      <td>2.0</td>\n",
       "      <td>1.0</td>\n",
       "      <td>0.527150</td>\n",
       "      <td>85.421412</td>\n",
       "    </tr>\n",
       "    <tr>\n",
       "      <th>453434</th>\n",
       "      <td>323.0</td>\n",
       "      <td>7990706.0</td>\n",
       "      <td>59.0</td>\n",
       "      <td>20.468750</td>\n",
       "      <td>23.437500</td>\n",
       "      <td>74001.0</td>\n",
       "      <td>1.0</td>\n",
       "      <td>2.0</td>\n",
       "      <td>2.0</td>\n",
       "      <td>3.0</td>\n",
       "      <td>...</td>\n",
       "      <td>1.0</td>\n",
       "      <td>3.0</td>\n",
       "      <td>3.0</td>\n",
       "      <td>1.0</td>\n",
       "      <td>2.0</td>\n",
       "      <td>1.0</td>\n",
       "      <td>1.0</td>\n",
       "      <td>1.0</td>\n",
       "      <td>0.734217</td>\n",
       "      <td>68.676078</td>\n",
       "    </tr>\n",
       "    <tr>\n",
       "      <th>278694</th>\n",
       "      <td>204.0</td>\n",
       "      <td>2619066.0</td>\n",
       "      <td>40.0</td>\n",
       "      <td>21.187500</td>\n",
       "      <td>24.109375</td>\n",
       "      <td>60659.0</td>\n",
       "      <td>1.0</td>\n",
       "      <td>1.0</td>\n",
       "      <td>2.0</td>\n",
       "      <td>8.0</td>\n",
       "      <td>...</td>\n",
       "      <td>8.0</td>\n",
       "      <td>8.0</td>\n",
       "      <td>1.0</td>\n",
       "      <td>8.0</td>\n",
       "      <td>8.0</td>\n",
       "      <td>8.0</td>\n",
       "      <td>2.0</td>\n",
       "      <td>1.0</td>\n",
       "      <td>0.316534</td>\n",
       "      <td>82.541382</td>\n",
       "    </tr>\n",
       "    <tr>\n",
       "      <th>502815</th>\n",
       "      <td>399.0</td>\n",
       "      <td>6497332.0</td>\n",
       "      <td>66.0</td>\n",
       "      <td>21.453125</td>\n",
       "      <td>24.656250</td>\n",
       "      <td>1748410.0</td>\n",
       "      <td>1.0</td>\n",
       "      <td>2.0</td>\n",
       "      <td>1.0</td>\n",
       "      <td>4.0</td>\n",
       "      <td>...</td>\n",
       "      <td>2.0</td>\n",
       "      <td>4.0</td>\n",
       "      <td>3.0</td>\n",
       "      <td>1.0</td>\n",
       "      <td>2.0</td>\n",
       "      <td>2.0</td>\n",
       "      <td>1.0</td>\n",
       "      <td>1.0</td>\n",
       "      <td>0.656071</td>\n",
       "      <td>42.560044</td>\n",
       "    </tr>\n",
       "  </tbody>\n",
       "</table>\n",
       "<p>5 rows × 26 columns</p>\n",
       "</div>"
      ],
      "text/plain": [
       "        total_days_of_care  total_charges  total_cases  \\\n",
       "491165               136.0      1351965.0         29.0   \n",
       "224358               919.0      6059290.0        220.0   \n",
       "453434               323.0      7990706.0         59.0   \n",
       "278694               204.0      2619066.0         40.0   \n",
       "502815               399.0      6497332.0         66.0   \n",
       "\n",
       "        mode_copay_for_new_patient  mode_copay_for_established_patient  \\\n",
       "491165                   20.734375                           23.859375   \n",
       "224358                   40.781250                           46.812500   \n",
       "453434                   20.468750                           23.437500   \n",
       "278694                   21.187500                           24.109375   \n",
       "502815                   21.453125                           24.656250   \n",
       "\n",
       "        total_agi  race  hispanic  sex  discrimination  ...  mhthrpy  \\\n",
       "491165    50622.0   1.0       2.0  1.0             5.0  ...      2.0   \n",
       "224358   472694.0   1.0       2.0  2.0             4.0  ...      2.0   \n",
       "453434    74001.0   1.0       2.0  2.0             3.0  ...      1.0   \n",
       "278694    60659.0   1.0       1.0  2.0             8.0  ...      8.0   \n",
       "502815  1748410.0   1.0       2.0  1.0             4.0  ...      2.0   \n",
       "\n",
       "        discrim3  hisdetp  citznstp  ecigev  ahearst1  depev  hearingdf  \\\n",
       "491165       5.0      3.0       1.0     2.0       1.0    2.0        1.0   \n",
       "224358       5.0      3.0       2.0     2.0       1.0    2.0        1.0   \n",
       "453434       3.0      3.0       1.0     2.0       1.0    1.0        1.0   \n",
       "278694       8.0      1.0       8.0     8.0       8.0    2.0        1.0   \n",
       "502815       4.0      3.0       1.0     2.0       2.0    1.0        1.0   \n",
       "\n",
       "        occupation_per_100kcapita  occupation_per_100ksq_mile  \n",
       "491165                   0.635473                   56.492000  \n",
       "224358                   0.527150                   85.421412  \n",
       "453434                   0.734217                   68.676078  \n",
       "278694                   0.316534                   82.541382  \n",
       "502815                   0.656071                   42.560044  \n",
       "\n",
       "[5 rows x 26 columns]"
      ]
     },
     "execution_count": 37,
     "metadata": {},
     "output_type": "execute_result"
    }
   ],
   "source": [
    "X_train.head()"
   ]
  },
  {
   "cell_type": "code",
   "execution_count": 38,
   "id": "f9e7c4e6-93fc-4314-8d85-54778542107f",
   "metadata": {
    "execution": {
     "iopub.execute_input": "2025-03-14T21:21:26.181198Z",
     "iopub.status.busy": "2025-03-14T21:21:26.181033Z",
     "iopub.status.idle": "2025-03-14T21:21:26.190823Z",
     "shell.execute_reply": "2025-03-14T21:21:26.190258Z",
     "shell.execute_reply.started": "2025-03-14T21:21:26.181188Z"
    }
   },
   "outputs": [
    {
     "data": {
      "text/plain": [
       "(total_days_of_care                    0\n",
       " total_charges                         0\n",
       " total_cases                           0\n",
       " mode_copay_for_new_patient            0\n",
       " mode_copay_for_established_patient    0\n",
       " dtype: int64,\n",
       " total_days_of_care                    0\n",
       " total_charges                         0\n",
       " total_cases                           0\n",
       " mode_copay_for_new_patient            0\n",
       " mode_copay_for_established_patient    0\n",
       " dtype: int64)"
      ]
     },
     "execution_count": 38,
     "metadata": {},
     "output_type": "execute_result"
    }
   ],
   "source": [
    "xtrain = X_train.isnull().sum()\n",
    "xtest = X_test.isnull().sum()\n",
    "xtrain.head(), xtest.head()"
   ]
  },
  {
   "cell_type": "markdown",
   "id": "9c26fc73-df6a-4747-aba2-1f4e417006ac",
   "metadata": {},
   "source": [
    "<div class=\"alert alert-info\">Our data does not require any imputation \n",
    "</div>"
   ]
  },
  {
   "cell_type": "markdown",
   "id": "74cc42e7-bdae-4741-b9b7-24b49fd6961a",
   "metadata": {},
   "source": [
    "<div class=\"alert alert-info\">Time to scale the data\n",
    "</div>"
   ]
  },
  {
   "cell_type": "code",
   "execution_count": 39,
   "id": "86f9f991-3ebb-42dc-9634-2aec71575dac",
   "metadata": {
    "execution": {
     "iopub.execute_input": "2025-03-14T21:21:26.191804Z",
     "iopub.status.busy": "2025-03-14T21:21:26.191490Z",
     "iopub.status.idle": "2025-03-14T21:21:26.215817Z",
     "shell.execute_reply": "2025-03-14T21:21:26.215098Z",
     "shell.execute_reply.started": "2025-03-14T21:21:26.191789Z"
    }
   },
   "outputs": [],
   "source": [
    "#Call the StandardScaler`s fit method on `X_tr` to fit the scaler\n",
    "#then use it's `transform()` method to apply the scaling to both the train and test split\n",
    "#data (`X_tr` and `X_te`), naming the results `X_tr_scaled` and `X_te_scaled`, respectively\n",
    "scaler = StandardScaler()\n",
    "scaler.fit(X_train)\n",
    "X_tr_scaled = scaler.transform(X_train)\n",
    "X_te_scaled = scaler.transform(X_test)"
   ]
  },
  {
   "cell_type": "markdown",
   "id": "b301b4cd-384d-40f0-b2ee-49b4ef3bf41f",
   "metadata": {},
   "source": [
    "<div class=\"alert alert-info\">We will train the model on the train set<br><br>\n",
    "    Linear Regression Model\n",
    "</div>"
   ]
  },
  {
   "cell_type": "code",
   "execution_count": 40,
   "id": "e3fee9e3-4770-4ab6-a0b1-9ce1056b7efc",
   "metadata": {
    "execution": {
     "iopub.execute_input": "2025-03-14T21:21:26.216456Z",
     "iopub.status.busy": "2025-03-14T21:21:26.216325Z",
     "iopub.status.idle": "2025-03-14T21:21:26.240895Z",
     "shell.execute_reply": "2025-03-14T21:21:26.240348Z",
     "shell.execute_reply.started": "2025-03-14T21:21:26.216446Z"
    }
   },
   "outputs": [],
   "source": [
    "lm = LinearRegression().fit(X_tr_scaled, y_train)"
   ]
  },
  {
   "cell_type": "markdown",
   "id": "f9a3e5da-6e84-4a51-a255-5987e7580067",
   "metadata": {},
   "source": [
    "<div class=\"alert alert-info\">We will make predictions using the model on both train and test splits\n",
    "</div>"
   ]
  },
  {
   "cell_type": "code",
   "execution_count": 41,
   "id": "c0f4a35d-ff55-45d9-8599-97a10854bc87",
   "metadata": {
    "execution": {
     "iopub.execute_input": "2025-03-14T21:21:26.241643Z",
     "iopub.status.busy": "2025-03-14T21:21:26.241408Z",
     "iopub.status.idle": "2025-03-14T21:21:26.248829Z",
     "shell.execute_reply": "2025-03-14T21:21:26.248313Z",
     "shell.execute_reply.started": "2025-03-14T21:21:26.241627Z"
    }
   },
   "outputs": [],
   "source": [
    "#Call the `predict()` method of the model (`lm`) on both the (scaled) train and test data\n",
    "#Assign the predictions to `y_tr_pred` and `y_te_pred`, respectively\n",
    "y_tr_pred = lm.predict(X_tr_scaled)\n",
    "y_te_pred = lm.predict(X_te_scaled)"
   ]
  },
  {
   "cell_type": "code",
   "execution_count": 42,
   "id": "2c1a760d-d452-4fad-a343-18fdd9d3add5",
   "metadata": {
    "execution": {
     "iopub.execute_input": "2025-03-14T21:21:26.249683Z",
     "iopub.status.busy": "2025-03-14T21:21:26.249447Z",
     "iopub.status.idle": "2025-03-14T21:21:26.255648Z",
     "shell.execute_reply": "2025-03-14T21:21:26.255099Z",
     "shell.execute_reply.started": "2025-03-14T21:21:26.249662Z"
    }
   },
   "outputs": [
    {
     "data": {
      "text/plain": [
       "(0.3198139549638306, 0.31696042168465866)"
      ]
     },
     "execution_count": 42,
     "metadata": {},
     "output_type": "execute_result"
    }
   ],
   "source": [
    "# r^2 - train, test\n",
    "median_r2 = r2_score(y_train, y_tr_pred), r2_score(y_test, y_te_pred)\n",
    "median_r2"
   ]
  },
  {
   "cell_type": "markdown",
   "id": "0332682b-8450-49b5-88a2-6240d89d9978",
   "metadata": {},
   "source": [
    "<div class=\"alert alert-info\">The model explains approximately 31.98% of the variance in the target variable within the training data.<br>\n",
    "    It explains approximately 31.70% of the variance in the target variable within the test data.<br>\n",
    "    This represents a moderate fit with room for improvement. The model is capturing a signiticant portion of the variability in the target. \n",
    "</div>"
   ]
  },
  {
   "cell_type": "code",
   "execution_count": 43,
   "id": "67753de7-3e08-4427-8d15-56d29317a92f",
   "metadata": {
    "execution": {
     "iopub.execute_input": "2025-03-14T21:21:26.256576Z",
     "iopub.status.busy": "2025-03-14T21:21:26.256251Z",
     "iopub.status.idle": "2025-03-14T21:21:26.261279Z",
     "shell.execute_reply": "2025-03-14T21:21:26.260813Z",
     "shell.execute_reply.started": "2025-03-14T21:21:26.256559Z"
    }
   },
   "outputs": [
    {
     "data": {
      "text/plain": [
       "(0.31682623167010804, 0.3207280283066801)"
      ]
     },
     "execution_count": 43,
     "metadata": {},
     "output_type": "execute_result"
    }
   ],
   "source": [
    "#Now calculate the mean absolute error scores using `sklearn`'s `mean_absolute_error` function\n",
    "# as we did above for R^2\n",
    "# MAE - train, test\n",
    "median_mae = mean_absolute_error(y_train, y_tr_pred), mean_absolute_error(y_test, y_te_pred)\n",
    "median_mae"
   ]
  },
  {
   "cell_type": "markdown",
   "id": "798e207d-8c98-417b-9916-5ee766546ed7",
   "metadata": {},
   "source": [
    "<div class=\"alert alert-info\">The model predictions are only off by about 0.26. Since they are both close together, th emodel is generalizing the unseen data well.<br>\n",
    "    It is likely that the model is not overfitting.\n",
    "</div>"
   ]
  },
  {
   "cell_type": "code",
   "execution_count": 44,
   "id": "a7be7220-0346-45bf-b5b9-a86c830ee302",
   "metadata": {
    "execution": {
     "iopub.execute_input": "2025-03-14T21:21:26.261954Z",
     "iopub.status.busy": "2025-03-14T21:21:26.261783Z",
     "iopub.status.idle": "2025-03-14T21:21:26.267657Z",
     "shell.execute_reply": "2025-03-14T21:21:26.267092Z",
     "shell.execute_reply.started": "2025-03-14T21:21:26.261943Z"
    }
   },
   "outputs": [
    {
     "data": {
      "text/plain": [
       "(0.37301051443079053, 0.37810213935957304)"
      ]
     },
     "execution_count": 44,
     "metadata": {},
     "output_type": "execute_result"
    }
   ],
   "source": [
    "#And also do the same using `sklearn`'s `mean_squared_error`\n",
    "# MSE - train, test\n",
    "median_mse = mean_squared_error(y_train, y_tr_pred), mean_squared_error(y_test, y_te_pred)\n",
    "median_mse"
   ]
  },
  {
   "cell_type": "markdown",
   "id": "9c448d3b-df2a-4f07-9730-83dc5da5f263",
   "metadata": {},
   "source": [
    "<div class=\"alert alert-info\">We will use sklearn's Pipeline\n",
    "</div>"
   ]
  },
  {
   "cell_type": "code",
   "execution_count": 45,
   "id": "03cea471-4223-4b4a-a189-4dc20c116d80",
   "metadata": {
    "execution": {
     "iopub.execute_input": "2025-03-14T21:21:26.268338Z",
     "iopub.status.busy": "2025-03-14T21:21:26.268101Z",
     "iopub.status.idle": "2025-03-14T21:21:26.271502Z",
     "shell.execute_reply": "2025-03-14T21:21:26.270677Z",
     "shell.execute_reply.started": "2025-03-14T21:21:26.268323Z"
    }
   },
   "outputs": [],
   "source": [
    "#Modify the `SelectKBest` step to use a value of 15 for k\n",
    "pipe15 = make_pipeline(\n",
    "    SimpleImputer(strategy='median'), \n",
    "    StandardScaler(),\n",
    "    SelectKBest(f_regression, k=15),\n",
    "    LinearRegression()\n",
    ")"
   ]
  },
  {
   "cell_type": "code",
   "execution_count": 46,
   "id": "3bfc0b74-3e34-4722-a5e3-ba22d5f35fd1",
   "metadata": {
    "execution": {
     "iopub.execute_input": "2025-03-14T21:21:26.272407Z",
     "iopub.status.busy": "2025-03-14T21:21:26.272253Z",
     "iopub.status.idle": "2025-03-14T21:21:26.388498Z",
     "shell.execute_reply": "2025-03-14T21:21:26.387791Z",
     "shell.execute_reply.started": "2025-03-14T21:21:26.272396Z"
    }
   },
   "outputs": [
    {
     "data": {
      "text/html": [
       "<style>#sk-container-id-1 {\n",
       "  /* Definition of color scheme common for light and dark mode */\n",
       "  --sklearn-color-text: #000;\n",
       "  --sklearn-color-text-muted: #666;\n",
       "  --sklearn-color-line: gray;\n",
       "  /* Definition of color scheme for unfitted estimators */\n",
       "  --sklearn-color-unfitted-level-0: #fff5e6;\n",
       "  --sklearn-color-unfitted-level-1: #f6e4d2;\n",
       "  --sklearn-color-unfitted-level-2: #ffe0b3;\n",
       "  --sklearn-color-unfitted-level-3: chocolate;\n",
       "  /* Definition of color scheme for fitted estimators */\n",
       "  --sklearn-color-fitted-level-0: #f0f8ff;\n",
       "  --sklearn-color-fitted-level-1: #d4ebff;\n",
       "  --sklearn-color-fitted-level-2: #b3dbfd;\n",
       "  --sklearn-color-fitted-level-3: cornflowerblue;\n",
       "\n",
       "  /* Specific color for light theme */\n",
       "  --sklearn-color-text-on-default-background: var(--sg-text-color, var(--theme-code-foreground, var(--jp-content-font-color1, black)));\n",
       "  --sklearn-color-background: var(--sg-background-color, var(--theme-background, var(--jp-layout-color0, white)));\n",
       "  --sklearn-color-border-box: var(--sg-text-color, var(--theme-code-foreground, var(--jp-content-font-color1, black)));\n",
       "  --sklearn-color-icon: #696969;\n",
       "\n",
       "  @media (prefers-color-scheme: dark) {\n",
       "    /* Redefinition of color scheme for dark theme */\n",
       "    --sklearn-color-text-on-default-background: var(--sg-text-color, var(--theme-code-foreground, var(--jp-content-font-color1, white)));\n",
       "    --sklearn-color-background: var(--sg-background-color, var(--theme-background, var(--jp-layout-color0, #111)));\n",
       "    --sklearn-color-border-box: var(--sg-text-color, var(--theme-code-foreground, var(--jp-content-font-color1, white)));\n",
       "    --sklearn-color-icon: #878787;\n",
       "  }\n",
       "}\n",
       "\n",
       "#sk-container-id-1 {\n",
       "  color: var(--sklearn-color-text);\n",
       "}\n",
       "\n",
       "#sk-container-id-1 pre {\n",
       "  padding: 0;\n",
       "}\n",
       "\n",
       "#sk-container-id-1 input.sk-hidden--visually {\n",
       "  border: 0;\n",
       "  clip: rect(1px 1px 1px 1px);\n",
       "  clip: rect(1px, 1px, 1px, 1px);\n",
       "  height: 1px;\n",
       "  margin: -1px;\n",
       "  overflow: hidden;\n",
       "  padding: 0;\n",
       "  position: absolute;\n",
       "  width: 1px;\n",
       "}\n",
       "\n",
       "#sk-container-id-1 div.sk-dashed-wrapped {\n",
       "  border: 1px dashed var(--sklearn-color-line);\n",
       "  margin: 0 0.4em 0.5em 0.4em;\n",
       "  box-sizing: border-box;\n",
       "  padding-bottom: 0.4em;\n",
       "  background-color: var(--sklearn-color-background);\n",
       "}\n",
       "\n",
       "#sk-container-id-1 div.sk-container {\n",
       "  /* jupyter's `normalize.less` sets `[hidden] { display: none; }`\n",
       "     but bootstrap.min.css set `[hidden] { display: none !important; }`\n",
       "     so we also need the `!important` here to be able to override the\n",
       "     default hidden behavior on the sphinx rendered scikit-learn.org.\n",
       "     See: https://github.com/scikit-learn/scikit-learn/issues/21755 */\n",
       "  display: inline-block !important;\n",
       "  position: relative;\n",
       "}\n",
       "\n",
       "#sk-container-id-1 div.sk-text-repr-fallback {\n",
       "  display: none;\n",
       "}\n",
       "\n",
       "div.sk-parallel-item,\n",
       "div.sk-serial,\n",
       "div.sk-item {\n",
       "  /* draw centered vertical line to link estimators */\n",
       "  background-image: linear-gradient(var(--sklearn-color-text-on-default-background), var(--sklearn-color-text-on-default-background));\n",
       "  background-size: 2px 100%;\n",
       "  background-repeat: no-repeat;\n",
       "  background-position: center center;\n",
       "}\n",
       "\n",
       "/* Parallel-specific style estimator block */\n",
       "\n",
       "#sk-container-id-1 div.sk-parallel-item::after {\n",
       "  content: \"\";\n",
       "  width: 100%;\n",
       "  border-bottom: 2px solid var(--sklearn-color-text-on-default-background);\n",
       "  flex-grow: 1;\n",
       "}\n",
       "\n",
       "#sk-container-id-1 div.sk-parallel {\n",
       "  display: flex;\n",
       "  align-items: stretch;\n",
       "  justify-content: center;\n",
       "  background-color: var(--sklearn-color-background);\n",
       "  position: relative;\n",
       "}\n",
       "\n",
       "#sk-container-id-1 div.sk-parallel-item {\n",
       "  display: flex;\n",
       "  flex-direction: column;\n",
       "}\n",
       "\n",
       "#sk-container-id-1 div.sk-parallel-item:first-child::after {\n",
       "  align-self: flex-end;\n",
       "  width: 50%;\n",
       "}\n",
       "\n",
       "#sk-container-id-1 div.sk-parallel-item:last-child::after {\n",
       "  align-self: flex-start;\n",
       "  width: 50%;\n",
       "}\n",
       "\n",
       "#sk-container-id-1 div.sk-parallel-item:only-child::after {\n",
       "  width: 0;\n",
       "}\n",
       "\n",
       "/* Serial-specific style estimator block */\n",
       "\n",
       "#sk-container-id-1 div.sk-serial {\n",
       "  display: flex;\n",
       "  flex-direction: column;\n",
       "  align-items: center;\n",
       "  background-color: var(--sklearn-color-background);\n",
       "  padding-right: 1em;\n",
       "  padding-left: 1em;\n",
       "}\n",
       "\n",
       "\n",
       "/* Toggleable style: style used for estimator/Pipeline/ColumnTransformer box that is\n",
       "clickable and can be expanded/collapsed.\n",
       "- Pipeline and ColumnTransformer use this feature and define the default style\n",
       "- Estimators will overwrite some part of the style using the `sk-estimator` class\n",
       "*/\n",
       "\n",
       "/* Pipeline and ColumnTransformer style (default) */\n",
       "\n",
       "#sk-container-id-1 div.sk-toggleable {\n",
       "  /* Default theme specific background. It is overwritten whether we have a\n",
       "  specific estimator or a Pipeline/ColumnTransformer */\n",
       "  background-color: var(--sklearn-color-background);\n",
       "}\n",
       "\n",
       "/* Toggleable label */\n",
       "#sk-container-id-1 label.sk-toggleable__label {\n",
       "  cursor: pointer;\n",
       "  display: flex;\n",
       "  width: 100%;\n",
       "  margin-bottom: 0;\n",
       "  padding: 0.5em;\n",
       "  box-sizing: border-box;\n",
       "  text-align: center;\n",
       "  align-items: start;\n",
       "  justify-content: space-between;\n",
       "  gap: 0.5em;\n",
       "}\n",
       "\n",
       "#sk-container-id-1 label.sk-toggleable__label .caption {\n",
       "  font-size: 0.6rem;\n",
       "  font-weight: lighter;\n",
       "  color: var(--sklearn-color-text-muted);\n",
       "}\n",
       "\n",
       "#sk-container-id-1 label.sk-toggleable__label-arrow:before {\n",
       "  /* Arrow on the left of the label */\n",
       "  content: \"▸\";\n",
       "  float: left;\n",
       "  margin-right: 0.25em;\n",
       "  color: var(--sklearn-color-icon);\n",
       "}\n",
       "\n",
       "#sk-container-id-1 label.sk-toggleable__label-arrow:hover:before {\n",
       "  color: var(--sklearn-color-text);\n",
       "}\n",
       "\n",
       "/* Toggleable content - dropdown */\n",
       "\n",
       "#sk-container-id-1 div.sk-toggleable__content {\n",
       "  max-height: 0;\n",
       "  max-width: 0;\n",
       "  overflow: hidden;\n",
       "  text-align: left;\n",
       "  /* unfitted */\n",
       "  background-color: var(--sklearn-color-unfitted-level-0);\n",
       "}\n",
       "\n",
       "#sk-container-id-1 div.sk-toggleable__content.fitted {\n",
       "  /* fitted */\n",
       "  background-color: var(--sklearn-color-fitted-level-0);\n",
       "}\n",
       "\n",
       "#sk-container-id-1 div.sk-toggleable__content pre {\n",
       "  margin: 0.2em;\n",
       "  border-radius: 0.25em;\n",
       "  color: var(--sklearn-color-text);\n",
       "  /* unfitted */\n",
       "  background-color: var(--sklearn-color-unfitted-level-0);\n",
       "}\n",
       "\n",
       "#sk-container-id-1 div.sk-toggleable__content.fitted pre {\n",
       "  /* unfitted */\n",
       "  background-color: var(--sklearn-color-fitted-level-0);\n",
       "}\n",
       "\n",
       "#sk-container-id-1 input.sk-toggleable__control:checked~div.sk-toggleable__content {\n",
       "  /* Expand drop-down */\n",
       "  max-height: 200px;\n",
       "  max-width: 100%;\n",
       "  overflow: auto;\n",
       "}\n",
       "\n",
       "#sk-container-id-1 input.sk-toggleable__control:checked~label.sk-toggleable__label-arrow:before {\n",
       "  content: \"▾\";\n",
       "}\n",
       "\n",
       "/* Pipeline/ColumnTransformer-specific style */\n",
       "\n",
       "#sk-container-id-1 div.sk-label input.sk-toggleable__control:checked~label.sk-toggleable__label {\n",
       "  color: var(--sklearn-color-text);\n",
       "  background-color: var(--sklearn-color-unfitted-level-2);\n",
       "}\n",
       "\n",
       "#sk-container-id-1 div.sk-label.fitted input.sk-toggleable__control:checked~label.sk-toggleable__label {\n",
       "  background-color: var(--sklearn-color-fitted-level-2);\n",
       "}\n",
       "\n",
       "/* Estimator-specific style */\n",
       "\n",
       "/* Colorize estimator box */\n",
       "#sk-container-id-1 div.sk-estimator input.sk-toggleable__control:checked~label.sk-toggleable__label {\n",
       "  /* unfitted */\n",
       "  background-color: var(--sklearn-color-unfitted-level-2);\n",
       "}\n",
       "\n",
       "#sk-container-id-1 div.sk-estimator.fitted input.sk-toggleable__control:checked~label.sk-toggleable__label {\n",
       "  /* fitted */\n",
       "  background-color: var(--sklearn-color-fitted-level-2);\n",
       "}\n",
       "\n",
       "#sk-container-id-1 div.sk-label label.sk-toggleable__label,\n",
       "#sk-container-id-1 div.sk-label label {\n",
       "  /* The background is the default theme color */\n",
       "  color: var(--sklearn-color-text-on-default-background);\n",
       "}\n",
       "\n",
       "/* On hover, darken the color of the background */\n",
       "#sk-container-id-1 div.sk-label:hover label.sk-toggleable__label {\n",
       "  color: var(--sklearn-color-text);\n",
       "  background-color: var(--sklearn-color-unfitted-level-2);\n",
       "}\n",
       "\n",
       "/* Label box, darken color on hover, fitted */\n",
       "#sk-container-id-1 div.sk-label.fitted:hover label.sk-toggleable__label.fitted {\n",
       "  color: var(--sklearn-color-text);\n",
       "  background-color: var(--sklearn-color-fitted-level-2);\n",
       "}\n",
       "\n",
       "/* Estimator label */\n",
       "\n",
       "#sk-container-id-1 div.sk-label label {\n",
       "  font-family: monospace;\n",
       "  font-weight: bold;\n",
       "  display: inline-block;\n",
       "  line-height: 1.2em;\n",
       "}\n",
       "\n",
       "#sk-container-id-1 div.sk-label-container {\n",
       "  text-align: center;\n",
       "}\n",
       "\n",
       "/* Estimator-specific */\n",
       "#sk-container-id-1 div.sk-estimator {\n",
       "  font-family: monospace;\n",
       "  border: 1px dotted var(--sklearn-color-border-box);\n",
       "  border-radius: 0.25em;\n",
       "  box-sizing: border-box;\n",
       "  margin-bottom: 0.5em;\n",
       "  /* unfitted */\n",
       "  background-color: var(--sklearn-color-unfitted-level-0);\n",
       "}\n",
       "\n",
       "#sk-container-id-1 div.sk-estimator.fitted {\n",
       "  /* fitted */\n",
       "  background-color: var(--sklearn-color-fitted-level-0);\n",
       "}\n",
       "\n",
       "/* on hover */\n",
       "#sk-container-id-1 div.sk-estimator:hover {\n",
       "  /* unfitted */\n",
       "  background-color: var(--sklearn-color-unfitted-level-2);\n",
       "}\n",
       "\n",
       "#sk-container-id-1 div.sk-estimator.fitted:hover {\n",
       "  /* fitted */\n",
       "  background-color: var(--sklearn-color-fitted-level-2);\n",
       "}\n",
       "\n",
       "/* Specification for estimator info (e.g. \"i\" and \"?\") */\n",
       "\n",
       "/* Common style for \"i\" and \"?\" */\n",
       "\n",
       ".sk-estimator-doc-link,\n",
       "a:link.sk-estimator-doc-link,\n",
       "a:visited.sk-estimator-doc-link {\n",
       "  float: right;\n",
       "  font-size: smaller;\n",
       "  line-height: 1em;\n",
       "  font-family: monospace;\n",
       "  background-color: var(--sklearn-color-background);\n",
       "  border-radius: 1em;\n",
       "  height: 1em;\n",
       "  width: 1em;\n",
       "  text-decoration: none !important;\n",
       "  margin-left: 0.5em;\n",
       "  text-align: center;\n",
       "  /* unfitted */\n",
       "  border: var(--sklearn-color-unfitted-level-1) 1pt solid;\n",
       "  color: var(--sklearn-color-unfitted-level-1);\n",
       "}\n",
       "\n",
       ".sk-estimator-doc-link.fitted,\n",
       "a:link.sk-estimator-doc-link.fitted,\n",
       "a:visited.sk-estimator-doc-link.fitted {\n",
       "  /* fitted */\n",
       "  border: var(--sklearn-color-fitted-level-1) 1pt solid;\n",
       "  color: var(--sklearn-color-fitted-level-1);\n",
       "}\n",
       "\n",
       "/* On hover */\n",
       "div.sk-estimator:hover .sk-estimator-doc-link:hover,\n",
       ".sk-estimator-doc-link:hover,\n",
       "div.sk-label-container:hover .sk-estimator-doc-link:hover,\n",
       ".sk-estimator-doc-link:hover {\n",
       "  /* unfitted */\n",
       "  background-color: var(--sklearn-color-unfitted-level-3);\n",
       "  color: var(--sklearn-color-background);\n",
       "  text-decoration: none;\n",
       "}\n",
       "\n",
       "div.sk-estimator.fitted:hover .sk-estimator-doc-link.fitted:hover,\n",
       ".sk-estimator-doc-link.fitted:hover,\n",
       "div.sk-label-container:hover .sk-estimator-doc-link.fitted:hover,\n",
       ".sk-estimator-doc-link.fitted:hover {\n",
       "  /* fitted */\n",
       "  background-color: var(--sklearn-color-fitted-level-3);\n",
       "  color: var(--sklearn-color-background);\n",
       "  text-decoration: none;\n",
       "}\n",
       "\n",
       "/* Span, style for the box shown on hovering the info icon */\n",
       ".sk-estimator-doc-link span {\n",
       "  display: none;\n",
       "  z-index: 9999;\n",
       "  position: relative;\n",
       "  font-weight: normal;\n",
       "  right: .2ex;\n",
       "  padding: .5ex;\n",
       "  margin: .5ex;\n",
       "  width: min-content;\n",
       "  min-width: 20ex;\n",
       "  max-width: 50ex;\n",
       "  color: var(--sklearn-color-text);\n",
       "  box-shadow: 2pt 2pt 4pt #999;\n",
       "  /* unfitted */\n",
       "  background: var(--sklearn-color-unfitted-level-0);\n",
       "  border: .5pt solid var(--sklearn-color-unfitted-level-3);\n",
       "}\n",
       "\n",
       ".sk-estimator-doc-link.fitted span {\n",
       "  /* fitted */\n",
       "  background: var(--sklearn-color-fitted-level-0);\n",
       "  border: var(--sklearn-color-fitted-level-3);\n",
       "}\n",
       "\n",
       ".sk-estimator-doc-link:hover span {\n",
       "  display: block;\n",
       "}\n",
       "\n",
       "/* \"?\"-specific style due to the `<a>` HTML tag */\n",
       "\n",
       "#sk-container-id-1 a.estimator_doc_link {\n",
       "  float: right;\n",
       "  font-size: 1rem;\n",
       "  line-height: 1em;\n",
       "  font-family: monospace;\n",
       "  background-color: var(--sklearn-color-background);\n",
       "  border-radius: 1rem;\n",
       "  height: 1rem;\n",
       "  width: 1rem;\n",
       "  text-decoration: none;\n",
       "  /* unfitted */\n",
       "  color: var(--sklearn-color-unfitted-level-1);\n",
       "  border: var(--sklearn-color-unfitted-level-1) 1pt solid;\n",
       "}\n",
       "\n",
       "#sk-container-id-1 a.estimator_doc_link.fitted {\n",
       "  /* fitted */\n",
       "  border: var(--sklearn-color-fitted-level-1) 1pt solid;\n",
       "  color: var(--sklearn-color-fitted-level-1);\n",
       "}\n",
       "\n",
       "/* On hover */\n",
       "#sk-container-id-1 a.estimator_doc_link:hover {\n",
       "  /* unfitted */\n",
       "  background-color: var(--sklearn-color-unfitted-level-3);\n",
       "  color: var(--sklearn-color-background);\n",
       "  text-decoration: none;\n",
       "}\n",
       "\n",
       "#sk-container-id-1 a.estimator_doc_link.fitted:hover {\n",
       "  /* fitted */\n",
       "  background-color: var(--sklearn-color-fitted-level-3);\n",
       "}\n",
       "</style><div id=\"sk-container-id-1\" class=\"sk-top-container\"><div class=\"sk-text-repr-fallback\"><pre>Pipeline(steps=[(&#x27;simpleimputer&#x27;, SimpleImputer(strategy=&#x27;median&#x27;)),\n",
       "                (&#x27;standardscaler&#x27;, StandardScaler()),\n",
       "                (&#x27;selectkbest&#x27;,\n",
       "                 SelectKBest(k=15,\n",
       "                             score_func=&lt;function f_regression at 0x000001E51FAA8B80&gt;)),\n",
       "                (&#x27;linearregression&#x27;, LinearRegression())])</pre><b>In a Jupyter environment, please rerun this cell to show the HTML representation or trust the notebook. <br />On GitHub, the HTML representation is unable to render, please try loading this page with nbviewer.org.</b></div><div class=\"sk-container\" hidden><div class=\"sk-item sk-dashed-wrapped\"><div class=\"sk-label-container\"><div class=\"sk-label fitted sk-toggleable\"><input class=\"sk-toggleable__control sk-hidden--visually\" id=\"sk-estimator-id-1\" type=\"checkbox\" ><label for=\"sk-estimator-id-1\" class=\"sk-toggleable__label fitted sk-toggleable__label-arrow\"><div><div>Pipeline</div></div><div><a class=\"sk-estimator-doc-link fitted\" rel=\"noreferrer\" target=\"_blank\" href=\"https://scikit-learn.org/1.6/modules/generated/sklearn.pipeline.Pipeline.html\">?<span>Documentation for Pipeline</span></a><span class=\"sk-estimator-doc-link fitted\">i<span>Fitted</span></span></div></label><div class=\"sk-toggleable__content fitted\"><pre>Pipeline(steps=[(&#x27;simpleimputer&#x27;, SimpleImputer(strategy=&#x27;median&#x27;)),\n",
       "                (&#x27;standardscaler&#x27;, StandardScaler()),\n",
       "                (&#x27;selectkbest&#x27;,\n",
       "                 SelectKBest(k=15,\n",
       "                             score_func=&lt;function f_regression at 0x000001E51FAA8B80&gt;)),\n",
       "                (&#x27;linearregression&#x27;, LinearRegression())])</pre></div> </div></div><div class=\"sk-serial\"><div class=\"sk-item\"><div class=\"sk-estimator fitted sk-toggleable\"><input class=\"sk-toggleable__control sk-hidden--visually\" id=\"sk-estimator-id-2\" type=\"checkbox\" ><label for=\"sk-estimator-id-2\" class=\"sk-toggleable__label fitted sk-toggleable__label-arrow\"><div><div>SimpleImputer</div></div><div><a class=\"sk-estimator-doc-link fitted\" rel=\"noreferrer\" target=\"_blank\" href=\"https://scikit-learn.org/1.6/modules/generated/sklearn.impute.SimpleImputer.html\">?<span>Documentation for SimpleImputer</span></a></div></label><div class=\"sk-toggleable__content fitted\"><pre>SimpleImputer(strategy=&#x27;median&#x27;)</pre></div> </div></div><div class=\"sk-item\"><div class=\"sk-estimator fitted sk-toggleable\"><input class=\"sk-toggleable__control sk-hidden--visually\" id=\"sk-estimator-id-3\" type=\"checkbox\" ><label for=\"sk-estimator-id-3\" class=\"sk-toggleable__label fitted sk-toggleable__label-arrow\"><div><div>StandardScaler</div></div><div><a class=\"sk-estimator-doc-link fitted\" rel=\"noreferrer\" target=\"_blank\" href=\"https://scikit-learn.org/1.6/modules/generated/sklearn.preprocessing.StandardScaler.html\">?<span>Documentation for StandardScaler</span></a></div></label><div class=\"sk-toggleable__content fitted\"><pre>StandardScaler()</pre></div> </div></div><div class=\"sk-item\"><div class=\"sk-estimator fitted sk-toggleable\"><input class=\"sk-toggleable__control sk-hidden--visually\" id=\"sk-estimator-id-4\" type=\"checkbox\" ><label for=\"sk-estimator-id-4\" class=\"sk-toggleable__label fitted sk-toggleable__label-arrow\"><div><div>SelectKBest</div></div><div><a class=\"sk-estimator-doc-link fitted\" rel=\"noreferrer\" target=\"_blank\" href=\"https://scikit-learn.org/1.6/modules/generated/sklearn.feature_selection.SelectKBest.html\">?<span>Documentation for SelectKBest</span></a></div></label><div class=\"sk-toggleable__content fitted\"><pre>SelectKBest(k=15, score_func=&lt;function f_regression at 0x000001E51FAA8B80&gt;)</pre></div> </div></div><div class=\"sk-item\"><div class=\"sk-estimator fitted sk-toggleable\"><input class=\"sk-toggleable__control sk-hidden--visually\" id=\"sk-estimator-id-5\" type=\"checkbox\" ><label for=\"sk-estimator-id-5\" class=\"sk-toggleable__label fitted sk-toggleable__label-arrow\"><div><div>LinearRegression</div></div><div><a class=\"sk-estimator-doc-link fitted\" rel=\"noreferrer\" target=\"_blank\" href=\"https://scikit-learn.org/1.6/modules/generated/sklearn.linear_model.LinearRegression.html\">?<span>Documentation for LinearRegression</span></a></div></label><div class=\"sk-toggleable__content fitted\"><pre>LinearRegression()</pre></div> </div></div></div></div></div></div>"
      ],
      "text/plain": [
       "Pipeline(steps=[('simpleimputer', SimpleImputer(strategy='median')),\n",
       "                ('standardscaler', StandardScaler()),\n",
       "                ('selectkbest',\n",
       "                 SelectKBest(k=15,\n",
       "                             score_func=<function f_regression at 0x000001E51FAA8B80>)),\n",
       "                ('linearregression', LinearRegression())])"
      ]
     },
     "execution_count": 46,
     "metadata": {},
     "output_type": "execute_result"
    }
   ],
   "source": [
    "pipe15.fit(X_train, y_train)"
   ]
  },
  {
   "cell_type": "code",
   "execution_count": 47,
   "id": "c4688840-9cf5-430f-bce4-70ea7622b7b2",
   "metadata": {
    "execution": {
     "iopub.execute_input": "2025-03-14T21:21:26.389270Z",
     "iopub.status.busy": "2025-03-14T21:21:26.388964Z",
     "iopub.status.idle": "2025-03-14T21:21:26.426434Z",
     "shell.execute_reply": "2025-03-14T21:21:26.425968Z",
     "shell.execute_reply.started": "2025-03-14T21:21:26.389258Z"
    }
   },
   "outputs": [],
   "source": [
    "y_tr_pred = pipe15.predict(X_train)\n",
    "y_te_pred = pipe15.predict(X_test)"
   ]
  },
  {
   "cell_type": "code",
   "execution_count": 48,
   "id": "a381726e-dd70-45df-8454-2f932a1ca208",
   "metadata": {
    "execution": {
     "iopub.execute_input": "2025-03-14T21:21:26.427167Z",
     "iopub.status.busy": "2025-03-14T21:21:26.426989Z",
     "iopub.status.idle": "2025-03-14T21:21:26.432761Z",
     "shell.execute_reply": "2025-03-14T21:21:26.432250Z",
     "shell.execute_reply.started": "2025-03-14T21:21:26.427156Z"
    }
   },
   "outputs": [
    {
     "data": {
      "text/plain": [
       "(0.3175791827911215, 0.31525179192579766)"
      ]
     },
     "execution_count": 48,
     "metadata": {},
     "output_type": "execute_result"
    }
   ],
   "source": [
    "r2_score(y_train, y_tr_pred), r2_score(y_test, y_te_pred)"
   ]
  },
  {
   "cell_type": "code",
   "execution_count": 49,
   "id": "f479be10-4256-4b99-b5f5-55787bbea995",
   "metadata": {
    "execution": {
     "iopub.execute_input": "2025-03-14T21:21:26.433485Z",
     "iopub.status.busy": "2025-03-14T21:21:26.433226Z",
     "iopub.status.idle": "2025-03-14T21:21:26.438419Z",
     "shell.execute_reply": "2025-03-14T21:21:26.437925Z",
     "shell.execute_reply.started": "2025-03-14T21:21:26.433473Z"
    }
   },
   "outputs": [
    {
     "data": {
      "text/plain": [
       "(0.3170881460878751, 0.3209906106966253)"
      ]
     },
     "execution_count": 49,
     "metadata": {},
     "output_type": "execute_result"
    }
   ],
   "source": [
    "mean_absolute_error(y_train, y_tr_pred), mean_absolute_error(y_test, y_te_pred)"
   ]
  },
  {
   "cell_type": "code",
   "execution_count": 50,
   "id": "5d6efcb5-1a11-4899-93fa-029c1bad4e6e",
   "metadata": {
    "execution": {
     "iopub.execute_input": "2025-03-14T21:21:26.439291Z",
     "iopub.status.busy": "2025-03-14T21:21:26.438993Z",
     "iopub.status.idle": "2025-03-14T21:21:26.443719Z",
     "shell.execute_reply": "2025-03-14T21:21:26.443253Z",
     "shell.execute_reply.started": "2025-03-14T21:21:26.439277Z"
    }
   },
   "outputs": [
    {
     "data": {
      "text/plain": [
       "(0.3742360519493286, 0.3790479653229706)"
      ]
     },
     "execution_count": 50,
     "metadata": {},
     "output_type": "execute_result"
    }
   ],
   "source": [
    "mean_squared_error(y_train, y_tr_pred), mean_squared_error(y_test, y_te_pred)"
   ]
  },
  {
   "cell_type": "markdown",
   "id": "4b8b3789-f05a-4cc3-ad25-f88643a5b767",
   "metadata": {},
   "source": [
    "<div class=\"alert alert-info\">Pipeline seems slightly worse. <br><br>\n",
    "    Assessing performance using cross-validation is not necessary for linear regression\n",
    "</div>"
   ]
  },
  {
   "cell_type": "markdown",
   "id": "a86e67f8-e039-428d-b30b-f4483b025b4e",
   "metadata": {
    "execution": {
     "iopub.execute_input": "2025-03-14T20:10:41.091364Z",
     "iopub.status.busy": "2025-03-14T20:10:41.090990Z",
     "iopub.status.idle": "2025-03-14T20:10:41.095485Z",
     "shell.execute_reply": "2025-03-14T20:10:41.094457Z",
     "shell.execute_reply.started": "2025-03-14T20:10:41.091346Z"
    }
   },
   "source": [
    "<div class=\"alert alert-warning\">Turning the following few cells to markdown. <br>\n",
    "    #cv = 3\n",
    "#cv_results = cross_validate(pipe15, X_train, y_train, cv=cv)</div>"
   ]
  },
  {
   "cell_type": "markdown",
   "id": "76015ab9-32fb-4d9a-af2e-0e94e99d1bcc",
   "metadata": {
    "execution": {
     "iopub.execute_input": "2025-03-09T22:55:56.255926Z",
     "iopub.status.busy": "2025-03-09T22:55:56.255787Z",
     "iopub.status.idle": "2025-03-09T22:55:56.260894Z",
     "shell.execute_reply": "2025-03-09T22:55:56.259772Z",
     "shell.execute_reply.started": "2025-03-09T22:55:56.255916Z"
    }
   },
   "source": [
    "<div class=\"alert alert-warning\">cv_scores = cv_results['test_score']\n",
    "cv_scores<div></div>"
   ]
  },
  {
   "cell_type": "markdown",
   "id": "7d2624ba-e4b8-4b88-853c-e3518e00650c",
   "metadata": {
    "execution": {
     "iopub.execute_input": "2025-03-09T22:55:56.261816Z",
     "iopub.status.busy": "2025-03-09T22:55:56.261499Z",
     "iopub.status.idle": "2025-03-09T22:55:56.275394Z",
     "shell.execute_reply": "2025-03-09T22:55:56.274793Z",
     "shell.execute_reply.started": "2025-03-09T22:55:56.261801Z"
    }
   },
   "source": [
    "<div class=\"alert alert-warning\">np.mean(cv_scores), np.std(cv_scores)</div>"
   ]
  },
  {
   "cell_type": "markdown",
   "id": "0cb20563-3220-4613-8e1f-dcccbf67a89a",
   "metadata": {
    "execution": {
     "iopub.execute_input": "2025-03-09T22:55:56.277154Z",
     "iopub.status.busy": "2025-03-09T22:55:56.276827Z",
     "iopub.status.idle": "2025-03-09T22:55:56.281954Z",
     "shell.execute_reply": "2025-03-09T22:55:56.281448Z",
     "shell.execute_reply.started": "2025-03-09T22:55:56.277141Z"
    }
   },
   "source": [
    "<div class=\"alert alert-warning\">np.round((np.mean(cv_scores) - 2 * np.std(cv_scores), np.mean(cv_scores) + 2 * np.std(cv_scores)), 2)</div>"
   ]
  },
  {
   "cell_type": "markdown",
   "id": "eddd1f2b-1218-4c04-bdbb-a23a3c089a35",
   "metadata": {},
   "source": [
    "<div class=\"alert alert-info\">\n",
    "    <strong>Hyperparameter search using GridSearchCV<strong>\n",
    "</div>"
   ]
  },
  {
   "cell_type": "code",
   "execution_count": 51,
   "id": "5002ed04-b606-4ff6-b58e-fbdc0773459a",
   "metadata": {
    "execution": {
     "iopub.execute_input": "2025-03-14T21:21:26.444560Z",
     "iopub.status.busy": "2025-03-14T21:21:26.444224Z",
     "iopub.status.idle": "2025-03-14T21:21:26.449573Z",
     "shell.execute_reply": "2025-03-14T21:21:26.448970Z",
     "shell.execute_reply.started": "2025-03-14T21:21:26.444548Z"
    }
   },
   "outputs": [
    {
     "data": {
      "text/plain": [
       "dict_keys(['memory', 'steps', 'transform_input', 'verbose', 'simpleimputer', 'standardscaler', 'selectkbest', 'linearregression', 'simpleimputer__add_indicator', 'simpleimputer__copy', 'simpleimputer__fill_value', 'simpleimputer__keep_empty_features', 'simpleimputer__missing_values', 'simpleimputer__strategy', 'standardscaler__copy', 'standardscaler__with_mean', 'standardscaler__with_std', 'selectkbest__k', 'selectkbest__score_func', 'linearregression__copy_X', 'linearregression__fit_intercept', 'linearregression__n_jobs', 'linearregression__positive'])"
      ]
     },
     "execution_count": 51,
     "metadata": {},
     "output_type": "execute_result"
    }
   ],
   "source": [
    "#Call `pipe`'s `get_params()` method to get a dict of available parameters and print their names\n",
    "#using dict's `keys()` method\n",
    "pipe15.get_params().keys()"
   ]
  },
  {
   "cell_type": "code",
   "execution_count": 52,
   "id": "37c79234-0e7b-4eb7-926c-53a8ca3e72d5",
   "metadata": {
    "execution": {
     "iopub.execute_input": "2025-03-14T21:21:26.450402Z",
     "iopub.status.busy": "2025-03-14T21:21:26.450120Z",
     "iopub.status.idle": "2025-03-14T21:21:26.454150Z",
     "shell.execute_reply": "2025-03-14T21:21:26.453338Z",
     "shell.execute_reply.started": "2025-03-14T21:21:26.450389Z"
    }
   },
   "outputs": [
    {
     "data": {
      "text/plain": [
       "54015"
      ]
     },
     "execution_count": 52,
     "metadata": {},
     "output_type": "execute_result"
    }
   ],
   "source": [
    "len(X_train)"
   ]
  },
  {
   "cell_type": "code",
   "execution_count": 53,
   "id": "4fac42d5-2322-41a5-bbbb-403b12c3ce22",
   "metadata": {
    "execution": {
     "iopub.execute_input": "2025-03-14T21:21:26.455076Z",
     "iopub.status.busy": "2025-03-14T21:21:26.454728Z",
     "iopub.status.idle": "2025-03-14T21:21:26.457726Z",
     "shell.execute_reply": "2025-03-14T21:21:26.456995Z",
     "shell.execute_reply.started": "2025-03-14T21:21:26.455063Z"
    }
   },
   "outputs": [],
   "source": [
    "k = [k+1 for k in range(len(X_train.columns))]\n",
    "grid_params = {'selectkbest__k': k}"
   ]
  },
  {
   "cell_type": "code",
   "execution_count": 54,
   "id": "61219004-ce42-4e04-8c21-e44d30b4e78c",
   "metadata": {
    "execution": {
     "iopub.execute_input": "2025-03-14T21:21:26.458430Z",
     "iopub.status.busy": "2025-03-14T21:21:26.458303Z",
     "iopub.status.idle": "2025-03-14T21:21:26.460923Z",
     "shell.execute_reply": "2025-03-14T21:21:26.460421Z",
     "shell.execute_reply.started": "2025-03-14T21:21:26.458419Z"
    }
   },
   "outputs": [],
   "source": [
    "cv=3\n",
    "lr_grid_cv = GridSearchCV(pipe15, param_grid=grid_params, cv=cv, n_jobs=-1)"
   ]
  },
  {
   "cell_type": "code",
   "execution_count": 55,
   "id": "30e51c29-0131-4f5a-bcd3-e4c611a1c5de",
   "metadata": {
    "execution": {
     "iopub.execute_input": "2025-03-14T21:21:26.461827Z",
     "iopub.status.busy": "2025-03-14T21:21:26.461446Z",
     "iopub.status.idle": "2025-03-14T21:21:29.872126Z",
     "shell.execute_reply": "2025-03-14T21:21:29.871709Z",
     "shell.execute_reply.started": "2025-03-14T21:21:26.461814Z"
    }
   },
   "outputs": [
    {
     "data": {
      "text/html": [
       "<style>#sk-container-id-2 {\n",
       "  /* Definition of color scheme common for light and dark mode */\n",
       "  --sklearn-color-text: #000;\n",
       "  --sklearn-color-text-muted: #666;\n",
       "  --sklearn-color-line: gray;\n",
       "  /* Definition of color scheme for unfitted estimators */\n",
       "  --sklearn-color-unfitted-level-0: #fff5e6;\n",
       "  --sklearn-color-unfitted-level-1: #f6e4d2;\n",
       "  --sklearn-color-unfitted-level-2: #ffe0b3;\n",
       "  --sklearn-color-unfitted-level-3: chocolate;\n",
       "  /* Definition of color scheme for fitted estimators */\n",
       "  --sklearn-color-fitted-level-0: #f0f8ff;\n",
       "  --sklearn-color-fitted-level-1: #d4ebff;\n",
       "  --sklearn-color-fitted-level-2: #b3dbfd;\n",
       "  --sklearn-color-fitted-level-3: cornflowerblue;\n",
       "\n",
       "  /* Specific color for light theme */\n",
       "  --sklearn-color-text-on-default-background: var(--sg-text-color, var(--theme-code-foreground, var(--jp-content-font-color1, black)));\n",
       "  --sklearn-color-background: var(--sg-background-color, var(--theme-background, var(--jp-layout-color0, white)));\n",
       "  --sklearn-color-border-box: var(--sg-text-color, var(--theme-code-foreground, var(--jp-content-font-color1, black)));\n",
       "  --sklearn-color-icon: #696969;\n",
       "\n",
       "  @media (prefers-color-scheme: dark) {\n",
       "    /* Redefinition of color scheme for dark theme */\n",
       "    --sklearn-color-text-on-default-background: var(--sg-text-color, var(--theme-code-foreground, var(--jp-content-font-color1, white)));\n",
       "    --sklearn-color-background: var(--sg-background-color, var(--theme-background, var(--jp-layout-color0, #111)));\n",
       "    --sklearn-color-border-box: var(--sg-text-color, var(--theme-code-foreground, var(--jp-content-font-color1, white)));\n",
       "    --sklearn-color-icon: #878787;\n",
       "  }\n",
       "}\n",
       "\n",
       "#sk-container-id-2 {\n",
       "  color: var(--sklearn-color-text);\n",
       "}\n",
       "\n",
       "#sk-container-id-2 pre {\n",
       "  padding: 0;\n",
       "}\n",
       "\n",
       "#sk-container-id-2 input.sk-hidden--visually {\n",
       "  border: 0;\n",
       "  clip: rect(1px 1px 1px 1px);\n",
       "  clip: rect(1px, 1px, 1px, 1px);\n",
       "  height: 1px;\n",
       "  margin: -1px;\n",
       "  overflow: hidden;\n",
       "  padding: 0;\n",
       "  position: absolute;\n",
       "  width: 1px;\n",
       "}\n",
       "\n",
       "#sk-container-id-2 div.sk-dashed-wrapped {\n",
       "  border: 1px dashed var(--sklearn-color-line);\n",
       "  margin: 0 0.4em 0.5em 0.4em;\n",
       "  box-sizing: border-box;\n",
       "  padding-bottom: 0.4em;\n",
       "  background-color: var(--sklearn-color-background);\n",
       "}\n",
       "\n",
       "#sk-container-id-2 div.sk-container {\n",
       "  /* jupyter's `normalize.less` sets `[hidden] { display: none; }`\n",
       "     but bootstrap.min.css set `[hidden] { display: none !important; }`\n",
       "     so we also need the `!important` here to be able to override the\n",
       "     default hidden behavior on the sphinx rendered scikit-learn.org.\n",
       "     See: https://github.com/scikit-learn/scikit-learn/issues/21755 */\n",
       "  display: inline-block !important;\n",
       "  position: relative;\n",
       "}\n",
       "\n",
       "#sk-container-id-2 div.sk-text-repr-fallback {\n",
       "  display: none;\n",
       "}\n",
       "\n",
       "div.sk-parallel-item,\n",
       "div.sk-serial,\n",
       "div.sk-item {\n",
       "  /* draw centered vertical line to link estimators */\n",
       "  background-image: linear-gradient(var(--sklearn-color-text-on-default-background), var(--sklearn-color-text-on-default-background));\n",
       "  background-size: 2px 100%;\n",
       "  background-repeat: no-repeat;\n",
       "  background-position: center center;\n",
       "}\n",
       "\n",
       "/* Parallel-specific style estimator block */\n",
       "\n",
       "#sk-container-id-2 div.sk-parallel-item::after {\n",
       "  content: \"\";\n",
       "  width: 100%;\n",
       "  border-bottom: 2px solid var(--sklearn-color-text-on-default-background);\n",
       "  flex-grow: 1;\n",
       "}\n",
       "\n",
       "#sk-container-id-2 div.sk-parallel {\n",
       "  display: flex;\n",
       "  align-items: stretch;\n",
       "  justify-content: center;\n",
       "  background-color: var(--sklearn-color-background);\n",
       "  position: relative;\n",
       "}\n",
       "\n",
       "#sk-container-id-2 div.sk-parallel-item {\n",
       "  display: flex;\n",
       "  flex-direction: column;\n",
       "}\n",
       "\n",
       "#sk-container-id-2 div.sk-parallel-item:first-child::after {\n",
       "  align-self: flex-end;\n",
       "  width: 50%;\n",
       "}\n",
       "\n",
       "#sk-container-id-2 div.sk-parallel-item:last-child::after {\n",
       "  align-self: flex-start;\n",
       "  width: 50%;\n",
       "}\n",
       "\n",
       "#sk-container-id-2 div.sk-parallel-item:only-child::after {\n",
       "  width: 0;\n",
       "}\n",
       "\n",
       "/* Serial-specific style estimator block */\n",
       "\n",
       "#sk-container-id-2 div.sk-serial {\n",
       "  display: flex;\n",
       "  flex-direction: column;\n",
       "  align-items: center;\n",
       "  background-color: var(--sklearn-color-background);\n",
       "  padding-right: 1em;\n",
       "  padding-left: 1em;\n",
       "}\n",
       "\n",
       "\n",
       "/* Toggleable style: style used for estimator/Pipeline/ColumnTransformer box that is\n",
       "clickable and can be expanded/collapsed.\n",
       "- Pipeline and ColumnTransformer use this feature and define the default style\n",
       "- Estimators will overwrite some part of the style using the `sk-estimator` class\n",
       "*/\n",
       "\n",
       "/* Pipeline and ColumnTransformer style (default) */\n",
       "\n",
       "#sk-container-id-2 div.sk-toggleable {\n",
       "  /* Default theme specific background. It is overwritten whether we have a\n",
       "  specific estimator or a Pipeline/ColumnTransformer */\n",
       "  background-color: var(--sklearn-color-background);\n",
       "}\n",
       "\n",
       "/* Toggleable label */\n",
       "#sk-container-id-2 label.sk-toggleable__label {\n",
       "  cursor: pointer;\n",
       "  display: flex;\n",
       "  width: 100%;\n",
       "  margin-bottom: 0;\n",
       "  padding: 0.5em;\n",
       "  box-sizing: border-box;\n",
       "  text-align: center;\n",
       "  align-items: start;\n",
       "  justify-content: space-between;\n",
       "  gap: 0.5em;\n",
       "}\n",
       "\n",
       "#sk-container-id-2 label.sk-toggleable__label .caption {\n",
       "  font-size: 0.6rem;\n",
       "  font-weight: lighter;\n",
       "  color: var(--sklearn-color-text-muted);\n",
       "}\n",
       "\n",
       "#sk-container-id-2 label.sk-toggleable__label-arrow:before {\n",
       "  /* Arrow on the left of the label */\n",
       "  content: \"▸\";\n",
       "  float: left;\n",
       "  margin-right: 0.25em;\n",
       "  color: var(--sklearn-color-icon);\n",
       "}\n",
       "\n",
       "#sk-container-id-2 label.sk-toggleable__label-arrow:hover:before {\n",
       "  color: var(--sklearn-color-text);\n",
       "}\n",
       "\n",
       "/* Toggleable content - dropdown */\n",
       "\n",
       "#sk-container-id-2 div.sk-toggleable__content {\n",
       "  max-height: 0;\n",
       "  max-width: 0;\n",
       "  overflow: hidden;\n",
       "  text-align: left;\n",
       "  /* unfitted */\n",
       "  background-color: var(--sklearn-color-unfitted-level-0);\n",
       "}\n",
       "\n",
       "#sk-container-id-2 div.sk-toggleable__content.fitted {\n",
       "  /* fitted */\n",
       "  background-color: var(--sklearn-color-fitted-level-0);\n",
       "}\n",
       "\n",
       "#sk-container-id-2 div.sk-toggleable__content pre {\n",
       "  margin: 0.2em;\n",
       "  border-radius: 0.25em;\n",
       "  color: var(--sklearn-color-text);\n",
       "  /* unfitted */\n",
       "  background-color: var(--sklearn-color-unfitted-level-0);\n",
       "}\n",
       "\n",
       "#sk-container-id-2 div.sk-toggleable__content.fitted pre {\n",
       "  /* unfitted */\n",
       "  background-color: var(--sklearn-color-fitted-level-0);\n",
       "}\n",
       "\n",
       "#sk-container-id-2 input.sk-toggleable__control:checked~div.sk-toggleable__content {\n",
       "  /* Expand drop-down */\n",
       "  max-height: 200px;\n",
       "  max-width: 100%;\n",
       "  overflow: auto;\n",
       "}\n",
       "\n",
       "#sk-container-id-2 input.sk-toggleable__control:checked~label.sk-toggleable__label-arrow:before {\n",
       "  content: \"▾\";\n",
       "}\n",
       "\n",
       "/* Pipeline/ColumnTransformer-specific style */\n",
       "\n",
       "#sk-container-id-2 div.sk-label input.sk-toggleable__control:checked~label.sk-toggleable__label {\n",
       "  color: var(--sklearn-color-text);\n",
       "  background-color: var(--sklearn-color-unfitted-level-2);\n",
       "}\n",
       "\n",
       "#sk-container-id-2 div.sk-label.fitted input.sk-toggleable__control:checked~label.sk-toggleable__label {\n",
       "  background-color: var(--sklearn-color-fitted-level-2);\n",
       "}\n",
       "\n",
       "/* Estimator-specific style */\n",
       "\n",
       "/* Colorize estimator box */\n",
       "#sk-container-id-2 div.sk-estimator input.sk-toggleable__control:checked~label.sk-toggleable__label {\n",
       "  /* unfitted */\n",
       "  background-color: var(--sklearn-color-unfitted-level-2);\n",
       "}\n",
       "\n",
       "#sk-container-id-2 div.sk-estimator.fitted input.sk-toggleable__control:checked~label.sk-toggleable__label {\n",
       "  /* fitted */\n",
       "  background-color: var(--sklearn-color-fitted-level-2);\n",
       "}\n",
       "\n",
       "#sk-container-id-2 div.sk-label label.sk-toggleable__label,\n",
       "#sk-container-id-2 div.sk-label label {\n",
       "  /* The background is the default theme color */\n",
       "  color: var(--sklearn-color-text-on-default-background);\n",
       "}\n",
       "\n",
       "/* On hover, darken the color of the background */\n",
       "#sk-container-id-2 div.sk-label:hover label.sk-toggleable__label {\n",
       "  color: var(--sklearn-color-text);\n",
       "  background-color: var(--sklearn-color-unfitted-level-2);\n",
       "}\n",
       "\n",
       "/* Label box, darken color on hover, fitted */\n",
       "#sk-container-id-2 div.sk-label.fitted:hover label.sk-toggleable__label.fitted {\n",
       "  color: var(--sklearn-color-text);\n",
       "  background-color: var(--sklearn-color-fitted-level-2);\n",
       "}\n",
       "\n",
       "/* Estimator label */\n",
       "\n",
       "#sk-container-id-2 div.sk-label label {\n",
       "  font-family: monospace;\n",
       "  font-weight: bold;\n",
       "  display: inline-block;\n",
       "  line-height: 1.2em;\n",
       "}\n",
       "\n",
       "#sk-container-id-2 div.sk-label-container {\n",
       "  text-align: center;\n",
       "}\n",
       "\n",
       "/* Estimator-specific */\n",
       "#sk-container-id-2 div.sk-estimator {\n",
       "  font-family: monospace;\n",
       "  border: 1px dotted var(--sklearn-color-border-box);\n",
       "  border-radius: 0.25em;\n",
       "  box-sizing: border-box;\n",
       "  margin-bottom: 0.5em;\n",
       "  /* unfitted */\n",
       "  background-color: var(--sklearn-color-unfitted-level-0);\n",
       "}\n",
       "\n",
       "#sk-container-id-2 div.sk-estimator.fitted {\n",
       "  /* fitted */\n",
       "  background-color: var(--sklearn-color-fitted-level-0);\n",
       "}\n",
       "\n",
       "/* on hover */\n",
       "#sk-container-id-2 div.sk-estimator:hover {\n",
       "  /* unfitted */\n",
       "  background-color: var(--sklearn-color-unfitted-level-2);\n",
       "}\n",
       "\n",
       "#sk-container-id-2 div.sk-estimator.fitted:hover {\n",
       "  /* fitted */\n",
       "  background-color: var(--sklearn-color-fitted-level-2);\n",
       "}\n",
       "\n",
       "/* Specification for estimator info (e.g. \"i\" and \"?\") */\n",
       "\n",
       "/* Common style for \"i\" and \"?\" */\n",
       "\n",
       ".sk-estimator-doc-link,\n",
       "a:link.sk-estimator-doc-link,\n",
       "a:visited.sk-estimator-doc-link {\n",
       "  float: right;\n",
       "  font-size: smaller;\n",
       "  line-height: 1em;\n",
       "  font-family: monospace;\n",
       "  background-color: var(--sklearn-color-background);\n",
       "  border-radius: 1em;\n",
       "  height: 1em;\n",
       "  width: 1em;\n",
       "  text-decoration: none !important;\n",
       "  margin-left: 0.5em;\n",
       "  text-align: center;\n",
       "  /* unfitted */\n",
       "  border: var(--sklearn-color-unfitted-level-1) 1pt solid;\n",
       "  color: var(--sklearn-color-unfitted-level-1);\n",
       "}\n",
       "\n",
       ".sk-estimator-doc-link.fitted,\n",
       "a:link.sk-estimator-doc-link.fitted,\n",
       "a:visited.sk-estimator-doc-link.fitted {\n",
       "  /* fitted */\n",
       "  border: var(--sklearn-color-fitted-level-1) 1pt solid;\n",
       "  color: var(--sklearn-color-fitted-level-1);\n",
       "}\n",
       "\n",
       "/* On hover */\n",
       "div.sk-estimator:hover .sk-estimator-doc-link:hover,\n",
       ".sk-estimator-doc-link:hover,\n",
       "div.sk-label-container:hover .sk-estimator-doc-link:hover,\n",
       ".sk-estimator-doc-link:hover {\n",
       "  /* unfitted */\n",
       "  background-color: var(--sklearn-color-unfitted-level-3);\n",
       "  color: var(--sklearn-color-background);\n",
       "  text-decoration: none;\n",
       "}\n",
       "\n",
       "div.sk-estimator.fitted:hover .sk-estimator-doc-link.fitted:hover,\n",
       ".sk-estimator-doc-link.fitted:hover,\n",
       "div.sk-label-container:hover .sk-estimator-doc-link.fitted:hover,\n",
       ".sk-estimator-doc-link.fitted:hover {\n",
       "  /* fitted */\n",
       "  background-color: var(--sklearn-color-fitted-level-3);\n",
       "  color: var(--sklearn-color-background);\n",
       "  text-decoration: none;\n",
       "}\n",
       "\n",
       "/* Span, style for the box shown on hovering the info icon */\n",
       ".sk-estimator-doc-link span {\n",
       "  display: none;\n",
       "  z-index: 9999;\n",
       "  position: relative;\n",
       "  font-weight: normal;\n",
       "  right: .2ex;\n",
       "  padding: .5ex;\n",
       "  margin: .5ex;\n",
       "  width: min-content;\n",
       "  min-width: 20ex;\n",
       "  max-width: 50ex;\n",
       "  color: var(--sklearn-color-text);\n",
       "  box-shadow: 2pt 2pt 4pt #999;\n",
       "  /* unfitted */\n",
       "  background: var(--sklearn-color-unfitted-level-0);\n",
       "  border: .5pt solid var(--sklearn-color-unfitted-level-3);\n",
       "}\n",
       "\n",
       ".sk-estimator-doc-link.fitted span {\n",
       "  /* fitted */\n",
       "  background: var(--sklearn-color-fitted-level-0);\n",
       "  border: var(--sklearn-color-fitted-level-3);\n",
       "}\n",
       "\n",
       ".sk-estimator-doc-link:hover span {\n",
       "  display: block;\n",
       "}\n",
       "\n",
       "/* \"?\"-specific style due to the `<a>` HTML tag */\n",
       "\n",
       "#sk-container-id-2 a.estimator_doc_link {\n",
       "  float: right;\n",
       "  font-size: 1rem;\n",
       "  line-height: 1em;\n",
       "  font-family: monospace;\n",
       "  background-color: var(--sklearn-color-background);\n",
       "  border-radius: 1rem;\n",
       "  height: 1rem;\n",
       "  width: 1rem;\n",
       "  text-decoration: none;\n",
       "  /* unfitted */\n",
       "  color: var(--sklearn-color-unfitted-level-1);\n",
       "  border: var(--sklearn-color-unfitted-level-1) 1pt solid;\n",
       "}\n",
       "\n",
       "#sk-container-id-2 a.estimator_doc_link.fitted {\n",
       "  /* fitted */\n",
       "  border: var(--sklearn-color-fitted-level-1) 1pt solid;\n",
       "  color: var(--sklearn-color-fitted-level-1);\n",
       "}\n",
       "\n",
       "/* On hover */\n",
       "#sk-container-id-2 a.estimator_doc_link:hover {\n",
       "  /* unfitted */\n",
       "  background-color: var(--sklearn-color-unfitted-level-3);\n",
       "  color: var(--sklearn-color-background);\n",
       "  text-decoration: none;\n",
       "}\n",
       "\n",
       "#sk-container-id-2 a.estimator_doc_link.fitted:hover {\n",
       "  /* fitted */\n",
       "  background-color: var(--sklearn-color-fitted-level-3);\n",
       "}\n",
       "</style><div id=\"sk-container-id-2\" class=\"sk-top-container\"><div class=\"sk-text-repr-fallback\"><pre>GridSearchCV(cv=3,\n",
       "             estimator=Pipeline(steps=[(&#x27;simpleimputer&#x27;,\n",
       "                                        SimpleImputer(strategy=&#x27;median&#x27;)),\n",
       "                                       (&#x27;standardscaler&#x27;, StandardScaler()),\n",
       "                                       (&#x27;selectkbest&#x27;,\n",
       "                                        SelectKBest(k=15,\n",
       "                                                    score_func=&lt;function f_regression at 0x000001E51FAA8B80&gt;)),\n",
       "                                       (&#x27;linearregression&#x27;,\n",
       "                                        LinearRegression())]),\n",
       "             n_jobs=-1,\n",
       "             param_grid={&#x27;selectkbest__k&#x27;: [1, 2, 3, 4, 5, 6, 7, 8, 9, 10, 11,\n",
       "                                            12, 13, 14, 15, 16, 17, 18, 19, 20,\n",
       "                                            21, 22, 23, 24, 25, 26]})</pre><b>In a Jupyter environment, please rerun this cell to show the HTML representation or trust the notebook. <br />On GitHub, the HTML representation is unable to render, please try loading this page with nbviewer.org.</b></div><div class=\"sk-container\" hidden><div class=\"sk-item sk-dashed-wrapped\"><div class=\"sk-label-container\"><div class=\"sk-label fitted sk-toggleable\"><input class=\"sk-toggleable__control sk-hidden--visually\" id=\"sk-estimator-id-6\" type=\"checkbox\" ><label for=\"sk-estimator-id-6\" class=\"sk-toggleable__label fitted sk-toggleable__label-arrow\"><div><div>GridSearchCV</div></div><div><a class=\"sk-estimator-doc-link fitted\" rel=\"noreferrer\" target=\"_blank\" href=\"https://scikit-learn.org/1.6/modules/generated/sklearn.model_selection.GridSearchCV.html\">?<span>Documentation for GridSearchCV</span></a><span class=\"sk-estimator-doc-link fitted\">i<span>Fitted</span></span></div></label><div class=\"sk-toggleable__content fitted\"><pre>GridSearchCV(cv=3,\n",
       "             estimator=Pipeline(steps=[(&#x27;simpleimputer&#x27;,\n",
       "                                        SimpleImputer(strategy=&#x27;median&#x27;)),\n",
       "                                       (&#x27;standardscaler&#x27;, StandardScaler()),\n",
       "                                       (&#x27;selectkbest&#x27;,\n",
       "                                        SelectKBest(k=15,\n",
       "                                                    score_func=&lt;function f_regression at 0x000001E51FAA8B80&gt;)),\n",
       "                                       (&#x27;linearregression&#x27;,\n",
       "                                        LinearRegression())]),\n",
       "             n_jobs=-1,\n",
       "             param_grid={&#x27;selectkbest__k&#x27;: [1, 2, 3, 4, 5, 6, 7, 8, 9, 10, 11,\n",
       "                                            12, 13, 14, 15, 16, 17, 18, 19, 20,\n",
       "                                            21, 22, 23, 24, 25, 26]})</pre></div> </div></div><div class=\"sk-parallel\"><div class=\"sk-parallel-item\"><div class=\"sk-item\"><div class=\"sk-label-container\"><div class=\"sk-label fitted sk-toggleable\"><input class=\"sk-toggleable__control sk-hidden--visually\" id=\"sk-estimator-id-7\" type=\"checkbox\" ><label for=\"sk-estimator-id-7\" class=\"sk-toggleable__label fitted sk-toggleable__label-arrow\"><div><div>best_estimator_: Pipeline</div></div></label><div class=\"sk-toggleable__content fitted\"><pre>Pipeline(steps=[(&#x27;simpleimputer&#x27;, SimpleImputer(strategy=&#x27;median&#x27;)),\n",
       "                (&#x27;standardscaler&#x27;, StandardScaler()),\n",
       "                (&#x27;selectkbest&#x27;,\n",
       "                 SelectKBest(k=18,\n",
       "                             score_func=&lt;function f_regression at 0x000001E51FAA8B80&gt;)),\n",
       "                (&#x27;linearregression&#x27;, LinearRegression())])</pre></div> </div></div><div class=\"sk-serial\"><div class=\"sk-item\"><div class=\"sk-serial\"><div class=\"sk-item\"><div class=\"sk-estimator fitted sk-toggleable\"><input class=\"sk-toggleable__control sk-hidden--visually\" id=\"sk-estimator-id-8\" type=\"checkbox\" ><label for=\"sk-estimator-id-8\" class=\"sk-toggleable__label fitted sk-toggleable__label-arrow\"><div><div>SimpleImputer</div></div><div><a class=\"sk-estimator-doc-link fitted\" rel=\"noreferrer\" target=\"_blank\" href=\"https://scikit-learn.org/1.6/modules/generated/sklearn.impute.SimpleImputer.html\">?<span>Documentation for SimpleImputer</span></a></div></label><div class=\"sk-toggleable__content fitted\"><pre>SimpleImputer(strategy=&#x27;median&#x27;)</pre></div> </div></div><div class=\"sk-item\"><div class=\"sk-estimator fitted sk-toggleable\"><input class=\"sk-toggleable__control sk-hidden--visually\" id=\"sk-estimator-id-9\" type=\"checkbox\" ><label for=\"sk-estimator-id-9\" class=\"sk-toggleable__label fitted sk-toggleable__label-arrow\"><div><div>StandardScaler</div></div><div><a class=\"sk-estimator-doc-link fitted\" rel=\"noreferrer\" target=\"_blank\" href=\"https://scikit-learn.org/1.6/modules/generated/sklearn.preprocessing.StandardScaler.html\">?<span>Documentation for StandardScaler</span></a></div></label><div class=\"sk-toggleable__content fitted\"><pre>StandardScaler()</pre></div> </div></div><div class=\"sk-item\"><div class=\"sk-estimator fitted sk-toggleable\"><input class=\"sk-toggleable__control sk-hidden--visually\" id=\"sk-estimator-id-10\" type=\"checkbox\" ><label for=\"sk-estimator-id-10\" class=\"sk-toggleable__label fitted sk-toggleable__label-arrow\"><div><div>SelectKBest</div></div><div><a class=\"sk-estimator-doc-link fitted\" rel=\"noreferrer\" target=\"_blank\" href=\"https://scikit-learn.org/1.6/modules/generated/sklearn.feature_selection.SelectKBest.html\">?<span>Documentation for SelectKBest</span></a></div></label><div class=\"sk-toggleable__content fitted\"><pre>SelectKBest(k=18, score_func=&lt;function f_regression at 0x000001E51FAA8B80&gt;)</pre></div> </div></div><div class=\"sk-item\"><div class=\"sk-estimator fitted sk-toggleable\"><input class=\"sk-toggleable__control sk-hidden--visually\" id=\"sk-estimator-id-11\" type=\"checkbox\" ><label for=\"sk-estimator-id-11\" class=\"sk-toggleable__label fitted sk-toggleable__label-arrow\"><div><div>LinearRegression</div></div><div><a class=\"sk-estimator-doc-link fitted\" rel=\"noreferrer\" target=\"_blank\" href=\"https://scikit-learn.org/1.6/modules/generated/sklearn.linear_model.LinearRegression.html\">?<span>Documentation for LinearRegression</span></a></div></label><div class=\"sk-toggleable__content fitted\"><pre>LinearRegression()</pre></div> </div></div></div></div></div></div></div></div></div></div></div>"
      ],
      "text/plain": [
       "GridSearchCV(cv=3,\n",
       "             estimator=Pipeline(steps=[('simpleimputer',\n",
       "                                        SimpleImputer(strategy='median')),\n",
       "                                       ('standardscaler', StandardScaler()),\n",
       "                                       ('selectkbest',\n",
       "                                        SelectKBest(k=15,\n",
       "                                                    score_func=<function f_regression at 0x000001E51FAA8B80>)),\n",
       "                                       ('linearregression',\n",
       "                                        LinearRegression())]),\n",
       "             n_jobs=-1,\n",
       "             param_grid={'selectkbest__k': [1, 2, 3, 4, 5, 6, 7, 8, 9, 10, 11,\n",
       "                                            12, 13, 14, 15, 16, 17, 18, 19, 20,\n",
       "                                            21, 22, 23, 24, 25, 26]})"
      ]
     },
     "execution_count": 55,
     "metadata": {},
     "output_type": "execute_result"
    }
   ],
   "source": [
    "lr_grid_cv.fit(X_train, y_train)"
   ]
  },
  {
   "cell_type": "code",
   "execution_count": 56,
   "id": "6dcc0752-abb8-4163-bb49-cec6a06b231b",
   "metadata": {
    "execution": {
     "iopub.execute_input": "2025-03-14T21:21:29.872898Z",
     "iopub.status.busy": "2025-03-14T21:21:29.872626Z",
     "iopub.status.idle": "2025-03-14T21:21:29.875427Z",
     "shell.execute_reply": "2025-03-14T21:21:29.874816Z",
     "shell.execute_reply.started": "2025-03-14T21:21:29.872886Z"
    }
   },
   "outputs": [],
   "source": [
    "score_mean = lr_grid_cv.cv_results_['mean_test_score']\n",
    "score_std = lr_grid_cv.cv_results_['std_test_score']\n",
    "cv_k = [k for k in lr_grid_cv.cv_results_['param_selectkbest__k']]"
   ]
  },
  {
   "cell_type": "code",
   "execution_count": 57,
   "id": "65c4e4d7-5439-44f4-8420-f1b746cecd7b",
   "metadata": {
    "execution": {
     "iopub.execute_input": "2025-03-14T21:21:29.876322Z",
     "iopub.status.busy": "2025-03-14T21:21:29.876121Z",
     "iopub.status.idle": "2025-03-14T21:21:29.893205Z",
     "shell.execute_reply": "2025-03-14T21:21:29.892638Z",
     "shell.execute_reply.started": "2025-03-14T21:21:29.876311Z"
    }
   },
   "outputs": [
    {
     "data": {
      "text/plain": [
       "{'selectkbest__k': 18}"
      ]
     },
     "execution_count": 57,
     "metadata": {},
     "output_type": "execute_result"
    }
   ],
   "source": [
    "#Print the `best_params_` attribute of `lr_grid_cv`\n",
    "lr_grid_cv.best_params_"
   ]
  },
  {
   "cell_type": "code",
   "execution_count": 58,
   "id": "2df72e64-794e-4831-b41f-ebe119008702",
   "metadata": {
    "execution": {
     "iopub.execute_input": "2025-03-14T21:21:29.893905Z",
     "iopub.status.busy": "2025-03-14T21:21:29.893736Z",
     "iopub.status.idle": "2025-03-14T21:21:29.987699Z",
     "shell.execute_reply": "2025-03-14T21:21:29.986916Z",
     "shell.execute_reply.started": "2025-03-14T21:21:29.893893Z"
    }
   },
   "outputs": [
    {
     "data": {
      "image/png": "[encoded data removed]",
      "text/plain": [
       "<Figure size 1000x500 with 1 Axes>"
      ]
     },
     "metadata": {},
     "output_type": "display_data"
    }
   ],
   "source": [
    "#Assign the value of k from the above dict of `best_params_` and assign it to `best_k`\n",
    "best_k = lr_grid_cv.best_params_['selectkbest__k']\n",
    "plt.subplots(figsize=(10, 5))\n",
    "plt.errorbar(cv_k, score_mean, yerr=score_std)\n",
    "plt.axvline(x=best_k, c='r', ls='--', alpha=.5)\n",
    "plt.xlabel('k')\n",
    "plt.ylabel('CV score (r-squared)')\n",
    "plt.title('Pipeline mean CV score (error bars +/- 1 sd)');"
   ]
  },
  {
   "cell_type": "markdown",
   "id": "cc51ed23-e4f6-490e-84ca-1b1d48049ea8",
   "metadata": {},
   "source": [
    "<div class=\"alert alert-info\">\n",
    "    <strong>The best k is 18. With the full data set it was at 38.</strong><br>\n",
    "        The error bars are about the same size for all K. This greater variability could lead to overfitting<br>\n",
    "    We will plot again by applying a stability threshold. This might not be needed with 20% the data set.\n",
    "</div>"
   ]
  },
  {
   "cell_type": "code",
   "execution_count": 59,
   "id": "c06eb594-91ee-44f3-ac70-894d153f0531",
   "metadata": {
    "execution": {
     "iopub.execute_input": "2025-03-14T21:21:29.988598Z",
     "iopub.status.busy": "2025-03-14T21:21:29.988404Z",
     "iopub.status.idle": "2025-03-14T21:21:29.991495Z",
     "shell.execute_reply": "2025-03-14T21:21:29.991041Z",
     "shell.execute_reply.started": "2025-03-14T21:21:29.988587Z"
    }
   },
   "outputs": [
    {
     "name": "stdout",
     "output_type": "stream",
     "text": [
      "Optimal k based on thresholding: 4\n"
     ]
    }
   ],
   "source": [
    "# Find the smallest k that is within 95% of the max score\n",
    "max_score = max(score_mean)\n",
    "threshold = 0.95 * max_score\n",
    "\n",
    "# Find the smallest k that meets the threshold\n",
    "optimal_k = min(k for k, score in zip(cv_k, score_mean) if score >= threshold)\n",
    "\n",
    "print(f\"Optimal k based on thresholding: {optimal_k}\")\n"
   ]
  },
  {
   "cell_type": "code",
   "execution_count": 60,
   "id": "bc34a85c-2e84-4c47-b500-b3d4cf1b0d8b",
   "metadata": {
    "execution": {
     "iopub.execute_input": "2025-03-14T21:21:29.992207Z",
     "iopub.status.busy": "2025-03-14T21:21:29.991989Z",
     "iopub.status.idle": "2025-03-14T21:21:30.086248Z",
     "shell.execute_reply": "2025-03-14T21:21:30.085842Z",
     "shell.execute_reply.started": "2025-03-14T21:21:29.992196Z"
    }
   },
   "outputs": [
    {
     "data": {
      "image/png": "[encoded data removed]",
      "text/plain": [
       "<Figure size 1000x500 with 1 Axes>"
      ]
     },
     "metadata": {},
     "output_type": "display_data"
    }
   ],
   "source": [
    "#Assign the value of k from the above 'optimal_k` and assign it to `best_k`\n",
    "best_k = optimal_k\n",
    "plt.subplots(figsize=(10, 5))\n",
    "plt.errorbar(cv_k, score_mean, yerr=score_std)\n",
    "plt.axvline(x=best_k, c='r', ls='--', alpha=.5)\n",
    "plt.xlabel('k')\n",
    "plt.ylabel('CV score (r-squared)')\n",
    "plt.title('Pipeline mean CV score (error bars +/- 1 sd)');"
   ]
  },
  {
   "cell_type": "code",
   "execution_count": 61,
   "id": "aa5427fa-ccbb-46a7-ace5-129b7a05cd3a",
   "metadata": {
    "execution": {
     "iopub.execute_input": "2025-03-14T21:21:30.086869Z",
     "iopub.status.busy": "2025-03-14T21:21:30.086688Z",
     "iopub.status.idle": "2025-03-14T21:21:30.089787Z",
     "shell.execute_reply": "2025-03-14T21:21:30.089137Z",
     "shell.execute_reply.started": "2025-03-14T21:21:30.086856Z"
    }
   },
   "outputs": [
    {
     "name": "stdout",
     "output_type": "stream",
     "text": [
      "Max CV Score: 0.3187171198455717\n",
      "Score at k=18: 0.3187171198455717\n"
     ]
    }
   ],
   "source": [
    "print(f\"Max CV Score: {max(score_mean)}\")\n",
    "print(f\"Score at k=18: {score_mean[cv_k.index(18)]}\")"
   ]
  },
  {
   "cell_type": "markdown",
   "id": "3fd21272-e021-4c18-a250-6c1783e5b25a",
   "metadata": {},
   "source": [
    "<div class=\"alert alert-info\">\n",
    "    We will manually set and refit SelectKBest to use K =12 intead of best_param_ k =18<br>\n",
    "    This is where the CV score starts to flatten\n",
    "</div>"
   ]
  },
  {
   "cell_type": "code",
   "execution_count": 62,
   "id": "47f4869d-e2b0-4408-9a08-2eb8105c8de1",
   "metadata": {
    "execution": {
     "iopub.execute_input": "2025-03-14T21:21:30.090465Z",
     "iopub.status.busy": "2025-03-14T21:21:30.090197Z",
     "iopub.status.idle": "2025-03-14T21:21:30.202881Z",
     "shell.execute_reply": "2025-03-14T21:21:30.202473Z",
     "shell.execute_reply.started": "2025-03-14T21:21:30.090451Z"
    }
   },
   "outputs": [
    {
     "data": {
      "text/html": [
       "<style>#sk-container-id-3 {\n",
       "  /* Definition of color scheme common for light and dark mode */\n",
       "  --sklearn-color-text: #000;\n",
       "  --sklearn-color-text-muted: #666;\n",
       "  --sklearn-color-line: gray;\n",
       "  /* Definition of color scheme for unfitted estimators */\n",
       "  --sklearn-color-unfitted-level-0: #fff5e6;\n",
       "  --sklearn-color-unfitted-level-1: #f6e4d2;\n",
       "  --sklearn-color-unfitted-level-2: #ffe0b3;\n",
       "  --sklearn-color-unfitted-level-3: chocolate;\n",
       "  /* Definition of color scheme for fitted estimators */\n",
       "  --sklearn-color-fitted-level-0: #f0f8ff;\n",
       "  --sklearn-color-fitted-level-1: #d4ebff;\n",
       "  --sklearn-color-fitted-level-2: #b3dbfd;\n",
       "  --sklearn-color-fitted-level-3: cornflowerblue;\n",
       "\n",
       "  /* Specific color for light theme */\n",
       "  --sklearn-color-text-on-default-background: var(--sg-text-color, var(--theme-code-foreground, var(--jp-content-font-color1, black)));\n",
       "  --sklearn-color-background: var(--sg-background-color, var(--theme-background, var(--jp-layout-color0, white)));\n",
       "  --sklearn-color-border-box: var(--sg-text-color, var(--theme-code-foreground, var(--jp-content-font-color1, black)));\n",
       "  --sklearn-color-icon: #696969;\n",
       "\n",
       "  @media (prefers-color-scheme: dark) {\n",
       "    /* Redefinition of color scheme for dark theme */\n",
       "    --sklearn-color-text-on-default-background: var(--sg-text-color, var(--theme-code-foreground, var(--jp-content-font-color1, white)));\n",
       "    --sklearn-color-background: var(--sg-background-color, var(--theme-background, var(--jp-layout-color0, #111)));\n",
       "    --sklearn-color-border-box: var(--sg-text-color, var(--theme-code-foreground, var(--jp-content-font-color1, white)));\n",
       "    --sklearn-color-icon: #878787;\n",
       "  }\n",
       "}\n",
       "\n",
       "#sk-container-id-3 {\n",
       "  color: var(--sklearn-color-text);\n",
       "}\n",
       "\n",
       "#sk-container-id-3 pre {\n",
       "  padding: 0;\n",
       "}\n",
       "\n",
       "#sk-container-id-3 input.sk-hidden--visually {\n",
       "  border: 0;\n",
       "  clip: rect(1px 1px 1px 1px);\n",
       "  clip: rect(1px, 1px, 1px, 1px);\n",
       "  height: 1px;\n",
       "  margin: -1px;\n",
       "  overflow: hidden;\n",
       "  padding: 0;\n",
       "  position: absolute;\n",
       "  width: 1px;\n",
       "}\n",
       "\n",
       "#sk-container-id-3 div.sk-dashed-wrapped {\n",
       "  border: 1px dashed var(--sklearn-color-line);\n",
       "  margin: 0 0.4em 0.5em 0.4em;\n",
       "  box-sizing: border-box;\n",
       "  padding-bottom: 0.4em;\n",
       "  background-color: var(--sklearn-color-background);\n",
       "}\n",
       "\n",
       "#sk-container-id-3 div.sk-container {\n",
       "  /* jupyter's `normalize.less` sets `[hidden] { display: none; }`\n",
       "     but bootstrap.min.css set `[hidden] { display: none !important; }`\n",
       "     so we also need the `!important` here to be able to override the\n",
       "     default hidden behavior on the sphinx rendered scikit-learn.org.\n",
       "     See: https://github.com/scikit-learn/scikit-learn/issues/21755 */\n",
       "  display: inline-block !important;\n",
       "  position: relative;\n",
       "}\n",
       "\n",
       "#sk-container-id-3 div.sk-text-repr-fallback {\n",
       "  display: none;\n",
       "}\n",
       "\n",
       "div.sk-parallel-item,\n",
       "div.sk-serial,\n",
       "div.sk-item {\n",
       "  /* draw centered vertical line to link estimators */\n",
       "  background-image: linear-gradient(var(--sklearn-color-text-on-default-background), var(--sklearn-color-text-on-default-background));\n",
       "  background-size: 2px 100%;\n",
       "  background-repeat: no-repeat;\n",
       "  background-position: center center;\n",
       "}\n",
       "\n",
       "/* Parallel-specific style estimator block */\n",
       "\n",
       "#sk-container-id-3 div.sk-parallel-item::after {\n",
       "  content: \"\";\n",
       "  width: 100%;\n",
       "  border-bottom: 2px solid var(--sklearn-color-text-on-default-background);\n",
       "  flex-grow: 1;\n",
       "}\n",
       "\n",
       "#sk-container-id-3 div.sk-parallel {\n",
       "  display: flex;\n",
       "  align-items: stretch;\n",
       "  justify-content: center;\n",
       "  background-color: var(--sklearn-color-background);\n",
       "  position: relative;\n",
       "}\n",
       "\n",
       "#sk-container-id-3 div.sk-parallel-item {\n",
       "  display: flex;\n",
       "  flex-direction: column;\n",
       "}\n",
       "\n",
       "#sk-container-id-3 div.sk-parallel-item:first-child::after {\n",
       "  align-self: flex-end;\n",
       "  width: 50%;\n",
       "}\n",
       "\n",
       "#sk-container-id-3 div.sk-parallel-item:last-child::after {\n",
       "  align-self: flex-start;\n",
       "  width: 50%;\n",
       "}\n",
       "\n",
       "#sk-container-id-3 div.sk-parallel-item:only-child::after {\n",
       "  width: 0;\n",
       "}\n",
       "\n",
       "/* Serial-specific style estimator block */\n",
       "\n",
       "#sk-container-id-3 div.sk-serial {\n",
       "  display: flex;\n",
       "  flex-direction: column;\n",
       "  align-items: center;\n",
       "  background-color: var(--sklearn-color-background);\n",
       "  padding-right: 1em;\n",
       "  padding-left: 1em;\n",
       "}\n",
       "\n",
       "\n",
       "/* Toggleable style: style used for estimator/Pipeline/ColumnTransformer box that is\n",
       "clickable and can be expanded/collapsed.\n",
       "- Pipeline and ColumnTransformer use this feature and define the default style\n",
       "- Estimators will overwrite some part of the style using the `sk-estimator` class\n",
       "*/\n",
       "\n",
       "/* Pipeline and ColumnTransformer style (default) */\n",
       "\n",
       "#sk-container-id-3 div.sk-toggleable {\n",
       "  /* Default theme specific background. It is overwritten whether we have a\n",
       "  specific estimator or a Pipeline/ColumnTransformer */\n",
       "  background-color: var(--sklearn-color-background);\n",
       "}\n",
       "\n",
       "/* Toggleable label */\n",
       "#sk-container-id-3 label.sk-toggleable__label {\n",
       "  cursor: pointer;\n",
       "  display: flex;\n",
       "  width: 100%;\n",
       "  margin-bottom: 0;\n",
       "  padding: 0.5em;\n",
       "  box-sizing: border-box;\n",
       "  text-align: center;\n",
       "  align-items: start;\n",
       "  justify-content: space-between;\n",
       "  gap: 0.5em;\n",
       "}\n",
       "\n",
       "#sk-container-id-3 label.sk-toggleable__label .caption {\n",
       "  font-size: 0.6rem;\n",
       "  font-weight: lighter;\n",
       "  color: var(--sklearn-color-text-muted);\n",
       "}\n",
       "\n",
       "#sk-container-id-3 label.sk-toggleable__label-arrow:before {\n",
       "  /* Arrow on the left of the label */\n",
       "  content: \"▸\";\n",
       "  float: left;\n",
       "  margin-right: 0.25em;\n",
       "  color: var(--sklearn-color-icon);\n",
       "}\n",
       "\n",
       "#sk-container-id-3 label.sk-toggleable__label-arrow:hover:before {\n",
       "  color: var(--sklearn-color-text);\n",
       "}\n",
       "\n",
       "/* Toggleable content - dropdown */\n",
       "\n",
       "#sk-container-id-3 div.sk-toggleable__content {\n",
       "  max-height: 0;\n",
       "  max-width: 0;\n",
       "  overflow: hidden;\n",
       "  text-align: left;\n",
       "  /* unfitted */\n",
       "  background-color: var(--sklearn-color-unfitted-level-0);\n",
       "}\n",
       "\n",
       "#sk-container-id-3 div.sk-toggleable__content.fitted {\n",
       "  /* fitted */\n",
       "  background-color: var(--sklearn-color-fitted-level-0);\n",
       "}\n",
       "\n",
       "#sk-container-id-3 div.sk-toggleable__content pre {\n",
       "  margin: 0.2em;\n",
       "  border-radius: 0.25em;\n",
       "  color: var(--sklearn-color-text);\n",
       "  /* unfitted */\n",
       "  background-color: var(--sklearn-color-unfitted-level-0);\n",
       "}\n",
       "\n",
       "#sk-container-id-3 div.sk-toggleable__content.fitted pre {\n",
       "  /* unfitted */\n",
       "  background-color: var(--sklearn-color-fitted-level-0);\n",
       "}\n",
       "\n",
       "#sk-container-id-3 input.sk-toggleable__control:checked~div.sk-toggleable__content {\n",
       "  /* Expand drop-down */\n",
       "  max-height: 200px;\n",
       "  max-width: 100%;\n",
       "  overflow: auto;\n",
       "}\n",
       "\n",
       "#sk-container-id-3 input.sk-toggleable__control:checked~label.sk-toggleable__label-arrow:before {\n",
       "  content: \"▾\";\n",
       "}\n",
       "\n",
       "/* Pipeline/ColumnTransformer-specific style */\n",
       "\n",
       "#sk-container-id-3 div.sk-label input.sk-toggleable__control:checked~label.sk-toggleable__label {\n",
       "  color: var(--sklearn-color-text);\n",
       "  background-color: var(--sklearn-color-unfitted-level-2);\n",
       "}\n",
       "\n",
       "#sk-container-id-3 div.sk-label.fitted input.sk-toggleable__control:checked~label.sk-toggleable__label {\n",
       "  background-color: var(--sklearn-color-fitted-level-2);\n",
       "}\n",
       "\n",
       "/* Estimator-specific style */\n",
       "\n",
       "/* Colorize estimator box */\n",
       "#sk-container-id-3 div.sk-estimator input.sk-toggleable__control:checked~label.sk-toggleable__label {\n",
       "  /* unfitted */\n",
       "  background-color: var(--sklearn-color-unfitted-level-2);\n",
       "}\n",
       "\n",
       "#sk-container-id-3 div.sk-estimator.fitted input.sk-toggleable__control:checked~label.sk-toggleable__label {\n",
       "  /* fitted */\n",
       "  background-color: var(--sklearn-color-fitted-level-2);\n",
       "}\n",
       "\n",
       "#sk-container-id-3 div.sk-label label.sk-toggleable__label,\n",
       "#sk-container-id-3 div.sk-label label {\n",
       "  /* The background is the default theme color */\n",
       "  color: var(--sklearn-color-text-on-default-background);\n",
       "}\n",
       "\n",
       "/* On hover, darken the color of the background */\n",
       "#sk-container-id-3 div.sk-label:hover label.sk-toggleable__label {\n",
       "  color: var(--sklearn-color-text);\n",
       "  background-color: var(--sklearn-color-unfitted-level-2);\n",
       "}\n",
       "\n",
       "/* Label box, darken color on hover, fitted */\n",
       "#sk-container-id-3 div.sk-label.fitted:hover label.sk-toggleable__label.fitted {\n",
       "  color: var(--sklearn-color-text);\n",
       "  background-color: var(--sklearn-color-fitted-level-2);\n",
       "}\n",
       "\n",
       "/* Estimator label */\n",
       "\n",
       "#sk-container-id-3 div.sk-label label {\n",
       "  font-family: monospace;\n",
       "  font-weight: bold;\n",
       "  display: inline-block;\n",
       "  line-height: 1.2em;\n",
       "}\n",
       "\n",
       "#sk-container-id-3 div.sk-label-container {\n",
       "  text-align: center;\n",
       "}\n",
       "\n",
       "/* Estimator-specific */\n",
       "#sk-container-id-3 div.sk-estimator {\n",
       "  font-family: monospace;\n",
       "  border: 1px dotted var(--sklearn-color-border-box);\n",
       "  border-radius: 0.25em;\n",
       "  box-sizing: border-box;\n",
       "  margin-bottom: 0.5em;\n",
       "  /* unfitted */\n",
       "  background-color: var(--sklearn-color-unfitted-level-0);\n",
       "}\n",
       "\n",
       "#sk-container-id-3 div.sk-estimator.fitted {\n",
       "  /* fitted */\n",
       "  background-color: var(--sklearn-color-fitted-level-0);\n",
       "}\n",
       "\n",
       "/* on hover */\n",
       "#sk-container-id-3 div.sk-estimator:hover {\n",
       "  /* unfitted */\n",
       "  background-color: var(--sklearn-color-unfitted-level-2);\n",
       "}\n",
       "\n",
       "#sk-container-id-3 div.sk-estimator.fitted:hover {\n",
       "  /* fitted */\n",
       "  background-color: var(--sklearn-color-fitted-level-2);\n",
       "}\n",
       "\n",
       "/* Specification for estimator info (e.g. \"i\" and \"?\") */\n",
       "\n",
       "/* Common style for \"i\" and \"?\" */\n",
       "\n",
       ".sk-estimator-doc-link,\n",
       "a:link.sk-estimator-doc-link,\n",
       "a:visited.sk-estimator-doc-link {\n",
       "  float: right;\n",
       "  font-size: smaller;\n",
       "  line-height: 1em;\n",
       "  font-family: monospace;\n",
       "  background-color: var(--sklearn-color-background);\n",
       "  border-radius: 1em;\n",
       "  height: 1em;\n",
       "  width: 1em;\n",
       "  text-decoration: none !important;\n",
       "  margin-left: 0.5em;\n",
       "  text-align: center;\n",
       "  /* unfitted */\n",
       "  border: var(--sklearn-color-unfitted-level-1) 1pt solid;\n",
       "  color: var(--sklearn-color-unfitted-level-1);\n",
       "}\n",
       "\n",
       ".sk-estimator-doc-link.fitted,\n",
       "a:link.sk-estimator-doc-link.fitted,\n",
       "a:visited.sk-estimator-doc-link.fitted {\n",
       "  /* fitted */\n",
       "  border: var(--sklearn-color-fitted-level-1) 1pt solid;\n",
       "  color: var(--sklearn-color-fitted-level-1);\n",
       "}\n",
       "\n",
       "/* On hover */\n",
       "div.sk-estimator:hover .sk-estimator-doc-link:hover,\n",
       ".sk-estimator-doc-link:hover,\n",
       "div.sk-label-container:hover .sk-estimator-doc-link:hover,\n",
       ".sk-estimator-doc-link:hover {\n",
       "  /* unfitted */\n",
       "  background-color: var(--sklearn-color-unfitted-level-3);\n",
       "  color: var(--sklearn-color-background);\n",
       "  text-decoration: none;\n",
       "}\n",
       "\n",
       "div.sk-estimator.fitted:hover .sk-estimator-doc-link.fitted:hover,\n",
       ".sk-estimator-doc-link.fitted:hover,\n",
       "div.sk-label-container:hover .sk-estimator-doc-link.fitted:hover,\n",
       ".sk-estimator-doc-link.fitted:hover {\n",
       "  /* fitted */\n",
       "  background-color: var(--sklearn-color-fitted-level-3);\n",
       "  color: var(--sklearn-color-background);\n",
       "  text-decoration: none;\n",
       "}\n",
       "\n",
       "/* Span, style for the box shown on hovering the info icon */\n",
       ".sk-estimator-doc-link span {\n",
       "  display: none;\n",
       "  z-index: 9999;\n",
       "  position: relative;\n",
       "  font-weight: normal;\n",
       "  right: .2ex;\n",
       "  padding: .5ex;\n",
       "  margin: .5ex;\n",
       "  width: min-content;\n",
       "  min-width: 20ex;\n",
       "  max-width: 50ex;\n",
       "  color: var(--sklearn-color-text);\n",
       "  box-shadow: 2pt 2pt 4pt #999;\n",
       "  /* unfitted */\n",
       "  background: var(--sklearn-color-unfitted-level-0);\n",
       "  border: .5pt solid var(--sklearn-color-unfitted-level-3);\n",
       "}\n",
       "\n",
       ".sk-estimator-doc-link.fitted span {\n",
       "  /* fitted */\n",
       "  background: var(--sklearn-color-fitted-level-0);\n",
       "  border: var(--sklearn-color-fitted-level-3);\n",
       "}\n",
       "\n",
       ".sk-estimator-doc-link:hover span {\n",
       "  display: block;\n",
       "}\n",
       "\n",
       "/* \"?\"-specific style due to the `<a>` HTML tag */\n",
       "\n",
       "#sk-container-id-3 a.estimator_doc_link {\n",
       "  float: right;\n",
       "  font-size: 1rem;\n",
       "  line-height: 1em;\n",
       "  font-family: monospace;\n",
       "  background-color: var(--sklearn-color-background);\n",
       "  border-radius: 1rem;\n",
       "  height: 1rem;\n",
       "  width: 1rem;\n",
       "  text-decoration: none;\n",
       "  /* unfitted */\n",
       "  color: var(--sklearn-color-unfitted-level-1);\n",
       "  border: var(--sklearn-color-unfitted-level-1) 1pt solid;\n",
       "}\n",
       "\n",
       "#sk-container-id-3 a.estimator_doc_link.fitted {\n",
       "  /* fitted */\n",
       "  border: var(--sklearn-color-fitted-level-1) 1pt solid;\n",
       "  color: var(--sklearn-color-fitted-level-1);\n",
       "}\n",
       "\n",
       "/* On hover */\n",
       "#sk-container-id-3 a.estimator_doc_link:hover {\n",
       "  /* unfitted */\n",
       "  background-color: var(--sklearn-color-unfitted-level-3);\n",
       "  color: var(--sklearn-color-background);\n",
       "  text-decoration: none;\n",
       "}\n",
       "\n",
       "#sk-container-id-3 a.estimator_doc_link.fitted:hover {\n",
       "  /* fitted */\n",
       "  background-color: var(--sklearn-color-fitted-level-3);\n",
       "}\n",
       "</style><div id=\"sk-container-id-3\" class=\"sk-top-container\"><div class=\"sk-text-repr-fallback\"><pre>Pipeline(steps=[(&#x27;simpleimputer&#x27;, SimpleImputer(strategy=&#x27;median&#x27;)),\n",
       "                (&#x27;standardscaler&#x27;, StandardScaler()),\n",
       "                (&#x27;selectkbest&#x27;,\n",
       "                 SelectKBest(k=12,\n",
       "                             score_func=&lt;function f_regression at 0x000001E51FAA8B80&gt;)),\n",
       "                (&#x27;linearregression&#x27;, LinearRegression())])</pre><b>In a Jupyter environment, please rerun this cell to show the HTML representation or trust the notebook. <br />On GitHub, the HTML representation is unable to render, please try loading this page with nbviewer.org.</b></div><div class=\"sk-container\" hidden><div class=\"sk-item sk-dashed-wrapped\"><div class=\"sk-label-container\"><div class=\"sk-label fitted sk-toggleable\"><input class=\"sk-toggleable__control sk-hidden--visually\" id=\"sk-estimator-id-12\" type=\"checkbox\" ><label for=\"sk-estimator-id-12\" class=\"sk-toggleable__label fitted sk-toggleable__label-arrow\"><div><div>Pipeline</div></div><div><a class=\"sk-estimator-doc-link fitted\" rel=\"noreferrer\" target=\"_blank\" href=\"https://scikit-learn.org/1.6/modules/generated/sklearn.pipeline.Pipeline.html\">?<span>Documentation for Pipeline</span></a><span class=\"sk-estimator-doc-link fitted\">i<span>Fitted</span></span></div></label><div class=\"sk-toggleable__content fitted\"><pre>Pipeline(steps=[(&#x27;simpleimputer&#x27;, SimpleImputer(strategy=&#x27;median&#x27;)),\n",
       "                (&#x27;standardscaler&#x27;, StandardScaler()),\n",
       "                (&#x27;selectkbest&#x27;,\n",
       "                 SelectKBest(k=12,\n",
       "                             score_func=&lt;function f_regression at 0x000001E51FAA8B80&gt;)),\n",
       "                (&#x27;linearregression&#x27;, LinearRegression())])</pre></div> </div></div><div class=\"sk-serial\"><div class=\"sk-item\"><div class=\"sk-estimator fitted sk-toggleable\"><input class=\"sk-toggleable__control sk-hidden--visually\" id=\"sk-estimator-id-13\" type=\"checkbox\" ><label for=\"sk-estimator-id-13\" class=\"sk-toggleable__label fitted sk-toggleable__label-arrow\"><div><div>SimpleImputer</div></div><div><a class=\"sk-estimator-doc-link fitted\" rel=\"noreferrer\" target=\"_blank\" href=\"https://scikit-learn.org/1.6/modules/generated/sklearn.impute.SimpleImputer.html\">?<span>Documentation for SimpleImputer</span></a></div></label><div class=\"sk-toggleable__content fitted\"><pre>SimpleImputer(strategy=&#x27;median&#x27;)</pre></div> </div></div><div class=\"sk-item\"><div class=\"sk-estimator fitted sk-toggleable\"><input class=\"sk-toggleable__control sk-hidden--visually\" id=\"sk-estimator-id-14\" type=\"checkbox\" ><label for=\"sk-estimator-id-14\" class=\"sk-toggleable__label fitted sk-toggleable__label-arrow\"><div><div>StandardScaler</div></div><div><a class=\"sk-estimator-doc-link fitted\" rel=\"noreferrer\" target=\"_blank\" href=\"https://scikit-learn.org/1.6/modules/generated/sklearn.preprocessing.StandardScaler.html\">?<span>Documentation for StandardScaler</span></a></div></label><div class=\"sk-toggleable__content fitted\"><pre>StandardScaler()</pre></div> </div></div><div class=\"sk-item\"><div class=\"sk-estimator fitted sk-toggleable\"><input class=\"sk-toggleable__control sk-hidden--visually\" id=\"sk-estimator-id-15\" type=\"checkbox\" ><label for=\"sk-estimator-id-15\" class=\"sk-toggleable__label fitted sk-toggleable__label-arrow\"><div><div>SelectKBest</div></div><div><a class=\"sk-estimator-doc-link fitted\" rel=\"noreferrer\" target=\"_blank\" href=\"https://scikit-learn.org/1.6/modules/generated/sklearn.feature_selection.SelectKBest.html\">?<span>Documentation for SelectKBest</span></a></div></label><div class=\"sk-toggleable__content fitted\"><pre>SelectKBest(k=12, score_func=&lt;function f_regression at 0x000001E51FAA8B80&gt;)</pre></div> </div></div><div class=\"sk-item\"><div class=\"sk-estimator fitted sk-toggleable\"><input class=\"sk-toggleable__control sk-hidden--visually\" id=\"sk-estimator-id-16\" type=\"checkbox\" ><label for=\"sk-estimator-id-16\" class=\"sk-toggleable__label fitted sk-toggleable__label-arrow\"><div><div>LinearRegression</div></div><div><a class=\"sk-estimator-doc-link fitted\" rel=\"noreferrer\" target=\"_blank\" href=\"https://scikit-learn.org/1.6/modules/generated/sklearn.linear_model.LinearRegression.html\">?<span>Documentation for LinearRegression</span></a></div></label><div class=\"sk-toggleable__content fitted\"><pre>LinearRegression()</pre></div> </div></div></div></div></div></div>"
      ],
      "text/plain": [
       "Pipeline(steps=[('simpleimputer', SimpleImputer(strategy='median')),\n",
       "                ('standardscaler', StandardScaler()),\n",
       "                ('selectkbest',\n",
       "                 SelectKBest(k=12,\n",
       "                             score_func=<function f_regression at 0x000001E51FAA8B80>)),\n",
       "                ('linearregression', LinearRegression())])"
      ]
     },
     "execution_count": 62,
     "metadata": {},
     "output_type": "execute_result"
    }
   ],
   "source": [
    "# Get the feature selector and override k\n",
    "selector = lr_grid_cv.best_estimator_.named_steps.selectkbest\n",
    "selector.set_params(k=12)\n",
    "X_selected = selector.fit_transform(X_train, y_train)  # Refit with k=12\n",
    "\n",
    "#Rebuild the pipeline with k=12\n",
    "best_model = lr_grid_cv.best_estimator_\n",
    "best_model.named_steps.selectkbest = selector\n",
    "best_model.fit(X_train, y_train)  # Refit entire pipeline\n"
   ]
  },
  {
   "cell_type": "code",
   "execution_count": 63,
   "id": "5d0d9804-4f4e-40c2-a272-c220117bd95e",
   "metadata": {
    "execution": {
     "iopub.execute_input": "2025-03-14T21:21:30.203376Z",
     "iopub.status.busy": "2025-03-14T21:21:30.203265Z",
     "iopub.status.idle": "2025-03-14T21:21:30.206219Z",
     "shell.execute_reply": "2025-03-14T21:21:30.205547Z",
     "shell.execute_reply.started": "2025-03-14T21:21:30.203367Z"
    }
   },
   "outputs": [],
   "source": [
    "selected = selector.get_support()"
   ]
  },
  {
   "cell_type": "code",
   "execution_count": 64,
   "id": "8d7a2282-efb0-417f-b697-05c4c0d4dd49",
   "metadata": {
    "execution": {
     "iopub.execute_input": "2025-03-14T21:21:30.207151Z",
     "iopub.status.busy": "2025-03-14T21:21:30.206807Z",
     "iopub.status.idle": "2025-03-14T21:21:30.212453Z",
     "shell.execute_reply": "2025-03-14T21:21:30.211769Z",
     "shell.execute_reply.started": "2025-03-14T21:21:30.207139Z"
    }
   },
   "outputs": [
    {
     "data": {
      "text/plain": [
       "ahearst1         -0.015547\n",
       "citznstp          0.008707\n",
       "discrim3         -0.002345\n",
       "discrimination   -0.017812\n",
       "ecigev            0.005597\n",
       "gtgrisk           0.316972\n",
       "marital           0.031111\n",
       "medicare          0.053557\n",
       "mhthrpy           0.103894\n",
       "paillmb3m        -0.017874\n",
       "vigilance        -0.012591\n",
       "wellness         -0.044314\n",
       "dtype: float64"
      ]
     },
     "execution_count": 64,
     "metadata": {},
     "output_type": "execute_result"
    }
   ],
   "source": [
    "#Get the linear model coefficients from the `coef_` attribute and store in `coefs`,\n",
    "#Get the linear model coefficients from the `coef_` attribute and store in `coefs`,\n",
    "#get the matching feature names from the column names of the dataframe,\n",
    "#and display the results as a pandas Series with `coefs` as the values and `features` as the index,\n",
    "#sorting the values in descending order\n",
    "coefs = best_model.named_steps.linearregression.coef_\n",
    "features = X_train.columns[selected]\n",
    "pd.Series(coefs, index=features).sort_index(ascending=True)"
   ]
  },
  {
   "cell_type": "markdown",
   "id": "79351cba-1a15-4f09-8f20-e3895163c2d9",
   "metadata": {},
   "source": [
    "<div class=\"alert alert-info\">\n",
    "   gtgrisk describes if a patient had genetic cancer testing in the past. This has the largest positive effect. <br>\n",
    "    This suggests better access when a person is proactive in their screening<br>\n",
    "    <strong>On the negative side, the coefficients of the influences are small. They slightly impact the outcome of the target.</strong>\n",
    "</div>"
   ]
  },
  {
   "cell_type": "markdown",
   "id": "988bd476-0879-4682-acb2-c84acfcb5b82",
   "metadata": {},
   "source": [
    "<div class=\"alert alert-info\">\n",
    "    <strong>Let's explore Random Forest Model</strong><br>\n",
    "\n",
    "</div>"
   ]
  },
  {
   "cell_type": "code",
   "execution_count": 65,
   "id": "4e3665a6-6f02-483b-a712-476da0b59547",
   "metadata": {
    "execution": {
     "iopub.execute_input": "2025-03-14T21:21:30.213419Z",
     "iopub.status.busy": "2025-03-14T21:21:30.213112Z",
     "iopub.status.idle": "2025-03-14T21:21:30.216984Z",
     "shell.execute_reply": "2025-03-14T21:21:30.216297Z",
     "shell.execute_reply.started": "2025-03-14T21:21:30.213404Z"
    }
   },
   "outputs": [],
   "source": [
    "#Define a pipeline comprising the steps:\n",
    "#SimpleImputer() with a strategy of 'median'\n",
    "#StandardScaler(),\n",
    "#and then RandomForestRegressor() with a random state of 47\n",
    "RF_pipe = make_pipeline(\n",
    "    SimpleImputer(strategy='median'),\n",
    "    StandardScaler(),RandomForestRegressor\n",
    "    (random_state=47)\n",
    ")"
   ]
  },
  {
   "cell_type": "markdown",
   "id": "4b8f1718-908b-4373-81ca-5ec5f6528443",
   "metadata": {},
   "source": [
    "<div class=\"alert alert-info\">\n",
    "   Fit and assess performance with cross-validation<br>\n",
    "\n",
    "</div>"
   ]
  },
  {
   "cell_type": "code",
   "execution_count": 66,
   "id": "7d25b7b1-f5f7-4ffb-9b9b-06624de2963f",
   "metadata": {
    "execution": {
     "iopub.execute_input": "2025-03-14T21:21:30.221727Z",
     "iopub.status.busy": "2025-03-14T21:21:30.221471Z",
     "iopub.status.idle": "2025-03-14T21:22:24.349122Z",
     "shell.execute_reply": "2025-03-14T21:22:24.348489Z",
     "shell.execute_reply.started": "2025-03-14T21:21:30.221712Z"
    }
   },
   "outputs": [],
   "source": [
    "#Call `cross_validate` to estimate the pipeline's performance.\n",
    "#Pass it the random forest pipe object, `X_train` and `y_train`,\n",
    "#and get it to use 5-fold cross-validation\n",
    "rf_default_cv_results = cross_validate(RF_pipe,X_train, y_train, cv=cv)"
   ]
  },
  {
   "cell_type": "code",
   "execution_count": 67,
   "id": "bb186e2a-ca29-4cea-b6b1-3b591d984c16",
   "metadata": {
    "execution": {
     "iopub.execute_input": "2025-03-14T21:22:24.349998Z",
     "iopub.status.busy": "2025-03-14T21:22:24.349753Z",
     "iopub.status.idle": "2025-03-14T21:22:24.354071Z",
     "shell.execute_reply": "2025-03-14T21:22:24.353515Z",
     "shell.execute_reply.started": "2025-03-14T21:22:24.349983Z"
    }
   },
   "outputs": [
    {
     "data": {
      "text/plain": [
       "array([0.8864821 , 0.86221468, 0.89735669])"
      ]
     },
     "execution_count": 67,
     "metadata": {},
     "output_type": "execute_result"
    }
   ],
   "source": [
    "rf_cv_scores = rf_default_cv_results['test_score']\n",
    "rf_cv_scores"
   ]
  },
  {
   "cell_type": "code",
   "execution_count": 68,
   "id": "2d59b012-1eea-4e85-a951-5c2c258c95ed",
   "metadata": {
    "execution": {
     "iopub.execute_input": "2025-03-14T21:22:24.355108Z",
     "iopub.status.busy": "2025-03-14T21:22:24.354592Z",
     "iopub.status.idle": "2025-03-14T21:22:24.371998Z",
     "shell.execute_reply": "2025-03-14T21:22:24.370996Z",
     "shell.execute_reply.started": "2025-03-14T21:22:24.355086Z"
    }
   },
   "outputs": [
    {
     "data": {
      "text/plain": [
       "(np.float64(0.8820178235116997), np.float64(0.01468985036511917))"
      ]
     },
     "execution_count": 68,
     "metadata": {},
     "output_type": "execute_result"
    }
   ],
   "source": [
    "np.mean(rf_cv_scores), np.std(rf_cv_scores)"
   ]
  },
  {
   "cell_type": "markdown",
   "id": "ad5f5c40-601e-4bf6-827c-76b017fa492e",
   "metadata": {},
   "source": [
    "<div class=\"alert alert-info\">\n",
    "  <strong>Hyperparameter search using GridSearchCV</strong>\n",
    "\n",
    "</div>"
   ]
  },
  {
   "cell_type": "code",
   "execution_count": 69,
   "id": "ff8dadce-207d-4258-9bfb-2eaa38051017",
   "metadata": {
    "execution": {
     "iopub.execute_input": "2025-03-14T21:22:24.373290Z",
     "iopub.status.busy": "2025-03-14T21:22:24.372806Z",
     "iopub.status.idle": "2025-03-14T21:22:24.378008Z",
     "shell.execute_reply": "2025-03-14T21:22:24.377276Z",
     "shell.execute_reply.started": "2025-03-14T21:22:24.373264Z"
    }
   },
   "outputs": [
    {
     "data": {
      "text/plain": [
       "{'randomforestregressor__n_estimators': [50, 100, 500, 1000],\n",
       " 'standardscaler': [None],\n",
       " 'simpleimputer__strategy': ['mean', 'median']}"
      ]
     },
     "execution_count": 69,
     "metadata": {},
     "output_type": "execute_result"
    }
   ],
   "source": [
    "#n_est = [int(n) for n in np.logspace(start=1.5, stop=3, num=10)] # this is proving to be a challenging task. Running the next cell is taking longer than 10 minutes at time 1 hour\n",
    "n_est = [50,100,500,1000]\n",
    "grid_params = {\n",
    "        'randomforestregressor__n_estimators': n_est,\n",
    "        'standardscaler': [None], # Skip scaling since RF handles unscaled data well\n",
    "        'simpleimputer__strategy': ['mean', 'median']\n",
    "}\n",
    "\n",
    "grid_params"
   ]
  },
  {
   "cell_type": "code",
   "execution_count": 70,
   "id": "e29eb624-e5f5-480d-823a-59bc014abaeb",
   "metadata": {
    "execution": {
     "iopub.execute_input": "2025-03-14T21:22:24.378644Z",
     "iopub.status.busy": "2025-03-14T21:22:24.378487Z",
     "iopub.status.idle": "2025-03-14T21:22:24.382119Z",
     "shell.execute_reply": "2025-03-14T21:22:24.381467Z",
     "shell.execute_reply.started": "2025-03-14T21:22:24.378633Z"
    }
   },
   "outputs": [],
   "source": [
    "#Call `GridSearchCV` with the random forest pipeline, passing in the above `grid_params`\n",
    "#dict for parameters to evaluate, 5-fold cross-validation, and all available CPU cores (if desired)\n",
    "rf_grid_cv = GridSearchCV(RF_pipe, param_grid=grid_params, cv=cv, n_jobs=4)"
   ]
  },
  {
   "cell_type": "code",
   "execution_count": 71,
   "id": "f7b3cb94-7208-4a4a-95ff-401f2d01536b",
   "metadata": {
    "execution": {
     "iopub.execute_input": "2025-03-14T21:22:24.383100Z",
     "iopub.status.busy": "2025-03-14T21:22:24.382901Z",
     "iopub.status.idle": "2025-03-14T21:36:20.451467Z",
     "shell.execute_reply": "2025-03-14T21:36:20.450660Z",
     "shell.execute_reply.started": "2025-03-14T21:22:24.383084Z"
    }
   },
   "outputs": [
    {
     "data": {
      "text/html": [
       "<style>#sk-container-id-4 {\n",
       "  /* Definition of color scheme common for light and dark mode */\n",
       "  --sklearn-color-text: #000;\n",
       "  --sklearn-color-text-muted: #666;\n",
       "  --sklearn-color-line: gray;\n",
       "  /* Definition of color scheme for unfitted estimators */\n",
       "  --sklearn-color-unfitted-level-0: #fff5e6;\n",
       "  --sklearn-color-unfitted-level-1: #f6e4d2;\n",
       "  --sklearn-color-unfitted-level-2: #ffe0b3;\n",
       "  --sklearn-color-unfitted-level-3: chocolate;\n",
       "  /* Definition of color scheme for fitted estimators */\n",
       "  --sklearn-color-fitted-level-0: #f0f8ff;\n",
       "  --sklearn-color-fitted-level-1: #d4ebff;\n",
       "  --sklearn-color-fitted-level-2: #b3dbfd;\n",
       "  --sklearn-color-fitted-level-3: cornflowerblue;\n",
       "\n",
       "  /* Specific color for light theme */\n",
       "  --sklearn-color-text-on-default-background: var(--sg-text-color, var(--theme-code-foreground, var(--jp-content-font-color1, black)));\n",
       "  --sklearn-color-background: var(--sg-background-color, var(--theme-background, var(--jp-layout-color0, white)));\n",
       "  --sklearn-color-border-box: var(--sg-text-color, var(--theme-code-foreground, var(--jp-content-font-color1, black)));\n",
       "  --sklearn-color-icon: #696969;\n",
       "\n",
       "  @media (prefers-color-scheme: dark) {\n",
       "    /* Redefinition of color scheme for dark theme */\n",
       "    --sklearn-color-text-on-default-background: var(--sg-text-color, var(--theme-code-foreground, var(--jp-content-font-color1, white)));\n",
       "    --sklearn-color-background: var(--sg-background-color, var(--theme-background, var(--jp-layout-color0, #111)));\n",
       "    --sklearn-color-border-box: var(--sg-text-color, var(--theme-code-foreground, var(--jp-content-font-color1, white)));\n",
       "    --sklearn-color-icon: #878787;\n",
       "  }\n",
       "}\n",
       "\n",
       "#sk-container-id-4 {\n",
       "  color: var(--sklearn-color-text);\n",
       "}\n",
       "\n",
       "#sk-container-id-4 pre {\n",
       "  padding: 0;\n",
       "}\n",
       "\n",
       "#sk-container-id-4 input.sk-hidden--visually {\n",
       "  border: 0;\n",
       "  clip: rect(1px 1px 1px 1px);\n",
       "  clip: rect(1px, 1px, 1px, 1px);\n",
       "  height: 1px;\n",
       "  margin: -1px;\n",
       "  overflow: hidden;\n",
       "  padding: 0;\n",
       "  position: absolute;\n",
       "  width: 1px;\n",
       "}\n",
       "\n",
       "#sk-container-id-4 div.sk-dashed-wrapped {\n",
       "  border: 1px dashed var(--sklearn-color-line);\n",
       "  margin: 0 0.4em 0.5em 0.4em;\n",
       "  box-sizing: border-box;\n",
       "  padding-bottom: 0.4em;\n",
       "  background-color: var(--sklearn-color-background);\n",
       "}\n",
       "\n",
       "#sk-container-id-4 div.sk-container {\n",
       "  /* jupyter's `normalize.less` sets `[hidden] { display: none; }`\n",
       "     but bootstrap.min.css set `[hidden] { display: none !important; }`\n",
       "     so we also need the `!important` here to be able to override the\n",
       "     default hidden behavior on the sphinx rendered scikit-learn.org.\n",
       "     See: https://github.com/scikit-learn/scikit-learn/issues/21755 */\n",
       "  display: inline-block !important;\n",
       "  position: relative;\n",
       "}\n",
       "\n",
       "#sk-container-id-4 div.sk-text-repr-fallback {\n",
       "  display: none;\n",
       "}\n",
       "\n",
       "div.sk-parallel-item,\n",
       "div.sk-serial,\n",
       "div.sk-item {\n",
       "  /* draw centered vertical line to link estimators */\n",
       "  background-image: linear-gradient(var(--sklearn-color-text-on-default-background), var(--sklearn-color-text-on-default-background));\n",
       "  background-size: 2px 100%;\n",
       "  background-repeat: no-repeat;\n",
       "  background-position: center center;\n",
       "}\n",
       "\n",
       "/* Parallel-specific style estimator block */\n",
       "\n",
       "#sk-container-id-4 div.sk-parallel-item::after {\n",
       "  content: \"\";\n",
       "  width: 100%;\n",
       "  border-bottom: 2px solid var(--sklearn-color-text-on-default-background);\n",
       "  flex-grow: 1;\n",
       "}\n",
       "\n",
       "#sk-container-id-4 div.sk-parallel {\n",
       "  display: flex;\n",
       "  align-items: stretch;\n",
       "  justify-content: center;\n",
       "  background-color: var(--sklearn-color-background);\n",
       "  position: relative;\n",
       "}\n",
       "\n",
       "#sk-container-id-4 div.sk-parallel-item {\n",
       "  display: flex;\n",
       "  flex-direction: column;\n",
       "}\n",
       "\n",
       "#sk-container-id-4 div.sk-parallel-item:first-child::after {\n",
       "  align-self: flex-end;\n",
       "  width: 50%;\n",
       "}\n",
       "\n",
       "#sk-container-id-4 div.sk-parallel-item:last-child::after {\n",
       "  align-self: flex-start;\n",
       "  width: 50%;\n",
       "}\n",
       "\n",
       "#sk-container-id-4 div.sk-parallel-item:only-child::after {\n",
       "  width: 0;\n",
       "}\n",
       "\n",
       "/* Serial-specific style estimator block */\n",
       "\n",
       "#sk-container-id-4 div.sk-serial {\n",
       "  display: flex;\n",
       "  flex-direction: column;\n",
       "  align-items: center;\n",
       "  background-color: var(--sklearn-color-background);\n",
       "  padding-right: 1em;\n",
       "  padding-left: 1em;\n",
       "}\n",
       "\n",
       "\n",
       "/* Toggleable style: style used for estimator/Pipeline/ColumnTransformer box that is\n",
       "clickable and can be expanded/collapsed.\n",
       "- Pipeline and ColumnTransformer use this feature and define the default style\n",
       "- Estimators will overwrite some part of the style using the `sk-estimator` class\n",
       "*/\n",
       "\n",
       "/* Pipeline and ColumnTransformer style (default) */\n",
       "\n",
       "#sk-container-id-4 div.sk-toggleable {\n",
       "  /* Default theme specific background. It is overwritten whether we have a\n",
       "  specific estimator or a Pipeline/ColumnTransformer */\n",
       "  background-color: var(--sklearn-color-background);\n",
       "}\n",
       "\n",
       "/* Toggleable label */\n",
       "#sk-container-id-4 label.sk-toggleable__label {\n",
       "  cursor: pointer;\n",
       "  display: flex;\n",
       "  width: 100%;\n",
       "  margin-bottom: 0;\n",
       "  padding: 0.5em;\n",
       "  box-sizing: border-box;\n",
       "  text-align: center;\n",
       "  align-items: start;\n",
       "  justify-content: space-between;\n",
       "  gap: 0.5em;\n",
       "}\n",
       "\n",
       "#sk-container-id-4 label.sk-toggleable__label .caption {\n",
       "  font-size: 0.6rem;\n",
       "  font-weight: lighter;\n",
       "  color: var(--sklearn-color-text-muted);\n",
       "}\n",
       "\n",
       "#sk-container-id-4 label.sk-toggleable__label-arrow:before {\n",
       "  /* Arrow on the left of the label */\n",
       "  content: \"▸\";\n",
       "  float: left;\n",
       "  margin-right: 0.25em;\n",
       "  color: var(--sklearn-color-icon);\n",
       "}\n",
       "\n",
       "#sk-container-id-4 label.sk-toggleable__label-arrow:hover:before {\n",
       "  color: var(--sklearn-color-text);\n",
       "}\n",
       "\n",
       "/* Toggleable content - dropdown */\n",
       "\n",
       "#sk-container-id-4 div.sk-toggleable__content {\n",
       "  max-height: 0;\n",
       "  max-width: 0;\n",
       "  overflow: hidden;\n",
       "  text-align: left;\n",
       "  /* unfitted */\n",
       "  background-color: var(--sklearn-color-unfitted-level-0);\n",
       "}\n",
       "\n",
       "#sk-container-id-4 div.sk-toggleable__content.fitted {\n",
       "  /* fitted */\n",
       "  background-color: var(--sklearn-color-fitted-level-0);\n",
       "}\n",
       "\n",
       "#sk-container-id-4 div.sk-toggleable__content pre {\n",
       "  margin: 0.2em;\n",
       "  border-radius: 0.25em;\n",
       "  color: var(--sklearn-color-text);\n",
       "  /* unfitted */\n",
       "  background-color: var(--sklearn-color-unfitted-level-0);\n",
       "}\n",
       "\n",
       "#sk-container-id-4 div.sk-toggleable__content.fitted pre {\n",
       "  /* unfitted */\n",
       "  background-color: var(--sklearn-color-fitted-level-0);\n",
       "}\n",
       "\n",
       "#sk-container-id-4 input.sk-toggleable__control:checked~div.sk-toggleable__content {\n",
       "  /* Expand drop-down */\n",
       "  max-height: 200px;\n",
       "  max-width: 100%;\n",
       "  overflow: auto;\n",
       "}\n",
       "\n",
       "#sk-container-id-4 input.sk-toggleable__control:checked~label.sk-toggleable__label-arrow:before {\n",
       "  content: \"▾\";\n",
       "}\n",
       "\n",
       "/* Pipeline/ColumnTransformer-specific style */\n",
       "\n",
       "#sk-container-id-4 div.sk-label input.sk-toggleable__control:checked~label.sk-toggleable__label {\n",
       "  color: var(--sklearn-color-text);\n",
       "  background-color: var(--sklearn-color-unfitted-level-2);\n",
       "}\n",
       "\n",
       "#sk-container-id-4 div.sk-label.fitted input.sk-toggleable__control:checked~label.sk-toggleable__label {\n",
       "  background-color: var(--sklearn-color-fitted-level-2);\n",
       "}\n",
       "\n",
       "/* Estimator-specific style */\n",
       "\n",
       "/* Colorize estimator box */\n",
       "#sk-container-id-4 div.sk-estimator input.sk-toggleable__control:checked~label.sk-toggleable__label {\n",
       "  /* unfitted */\n",
       "  background-color: var(--sklearn-color-unfitted-level-2);\n",
       "}\n",
       "\n",
       "#sk-container-id-4 div.sk-estimator.fitted input.sk-toggleable__control:checked~label.sk-toggleable__label {\n",
       "  /* fitted */\n",
       "  background-color: var(--sklearn-color-fitted-level-2);\n",
       "}\n",
       "\n",
       "#sk-container-id-4 div.sk-label label.sk-toggleable__label,\n",
       "#sk-container-id-4 div.sk-label label {\n",
       "  /* The background is the default theme color */\n",
       "  color: var(--sklearn-color-text-on-default-background);\n",
       "}\n",
       "\n",
       "/* On hover, darken the color of the background */\n",
       "#sk-container-id-4 div.sk-label:hover label.sk-toggleable__label {\n",
       "  color: var(--sklearn-color-text);\n",
       "  background-color: var(--sklearn-color-unfitted-level-2);\n",
       "}\n",
       "\n",
       "/* Label box, darken color on hover, fitted */\n",
       "#sk-container-id-4 div.sk-label.fitted:hover label.sk-toggleable__label.fitted {\n",
       "  color: var(--sklearn-color-text);\n",
       "  background-color: var(--sklearn-color-fitted-level-2);\n",
       "}\n",
       "\n",
       "/* Estimator label */\n",
       "\n",
       "#sk-container-id-4 div.sk-label label {\n",
       "  font-family: monospace;\n",
       "  font-weight: bold;\n",
       "  display: inline-block;\n",
       "  line-height: 1.2em;\n",
       "}\n",
       "\n",
       "#sk-container-id-4 div.sk-label-container {\n",
       "  text-align: center;\n",
       "}\n",
       "\n",
       "/* Estimator-specific */\n",
       "#sk-container-id-4 div.sk-estimator {\n",
       "  font-family: monospace;\n",
       "  border: 1px dotted var(--sklearn-color-border-box);\n",
       "  border-radius: 0.25em;\n",
       "  box-sizing: border-box;\n",
       "  margin-bottom: 0.5em;\n",
       "  /* unfitted */\n",
       "  background-color: var(--sklearn-color-unfitted-level-0);\n",
       "}\n",
       "\n",
       "#sk-container-id-4 div.sk-estimator.fitted {\n",
       "  /* fitted */\n",
       "  background-color: var(--sklearn-color-fitted-level-0);\n",
       "}\n",
       "\n",
       "/* on hover */\n",
       "#sk-container-id-4 div.sk-estimator:hover {\n",
       "  /* unfitted */\n",
       "  background-color: var(--sklearn-color-unfitted-level-2);\n",
       "}\n",
       "\n",
       "#sk-container-id-4 div.sk-estimator.fitted:hover {\n",
       "  /* fitted */\n",
       "  background-color: var(--sklearn-color-fitted-level-2);\n",
       "}\n",
       "\n",
       "/* Specification for estimator info (e.g. \"i\" and \"?\") */\n",
       "\n",
       "/* Common style for \"i\" and \"?\" */\n",
       "\n",
       ".sk-estimator-doc-link,\n",
       "a:link.sk-estimator-doc-link,\n",
       "a:visited.sk-estimator-doc-link {\n",
       "  float: right;\n",
       "  font-size: smaller;\n",
       "  line-height: 1em;\n",
       "  font-family: monospace;\n",
       "  background-color: var(--sklearn-color-background);\n",
       "  border-radius: 1em;\n",
       "  height: 1em;\n",
       "  width: 1em;\n",
       "  text-decoration: none !important;\n",
       "  margin-left: 0.5em;\n",
       "  text-align: center;\n",
       "  /* unfitted */\n",
       "  border: var(--sklearn-color-unfitted-level-1) 1pt solid;\n",
       "  color: var(--sklearn-color-unfitted-level-1);\n",
       "}\n",
       "\n",
       ".sk-estimator-doc-link.fitted,\n",
       "a:link.sk-estimator-doc-link.fitted,\n",
       "a:visited.sk-estimator-doc-link.fitted {\n",
       "  /* fitted */\n",
       "  border: var(--sklearn-color-fitted-level-1) 1pt solid;\n",
       "  color: var(--sklearn-color-fitted-level-1);\n",
       "}\n",
       "\n",
       "/* On hover */\n",
       "div.sk-estimator:hover .sk-estimator-doc-link:hover,\n",
       ".sk-estimator-doc-link:hover,\n",
       "div.sk-label-container:hover .sk-estimator-doc-link:hover,\n",
       ".sk-estimator-doc-link:hover {\n",
       "  /* unfitted */\n",
       "  background-color: var(--sklearn-color-unfitted-level-3);\n",
       "  color: var(--sklearn-color-background);\n",
       "  text-decoration: none;\n",
       "}\n",
       "\n",
       "div.sk-estimator.fitted:hover .sk-estimator-doc-link.fitted:hover,\n",
       ".sk-estimator-doc-link.fitted:hover,\n",
       "div.sk-label-container:hover .sk-estimator-doc-link.fitted:hover,\n",
       ".sk-estimator-doc-link.fitted:hover {\n",
       "  /* fitted */\n",
       "  background-color: var(--sklearn-color-fitted-level-3);\n",
       "  color: var(--sklearn-color-background);\n",
       "  text-decoration: none;\n",
       "}\n",
       "\n",
       "/* Span, style for the box shown on hovering the info icon */\n",
       ".sk-estimator-doc-link span {\n",
       "  display: none;\n",
       "  z-index: 9999;\n",
       "  position: relative;\n",
       "  font-weight: normal;\n",
       "  right: .2ex;\n",
       "  padding: .5ex;\n",
       "  margin: .5ex;\n",
       "  width: min-content;\n",
       "  min-width: 20ex;\n",
       "  max-width: 50ex;\n",
       "  color: var(--sklearn-color-text);\n",
       "  box-shadow: 2pt 2pt 4pt #999;\n",
       "  /* unfitted */\n",
       "  background: var(--sklearn-color-unfitted-level-0);\n",
       "  border: .5pt solid var(--sklearn-color-unfitted-level-3);\n",
       "}\n",
       "\n",
       ".sk-estimator-doc-link.fitted span {\n",
       "  /* fitted */\n",
       "  background: var(--sklearn-color-fitted-level-0);\n",
       "  border: var(--sklearn-color-fitted-level-3);\n",
       "}\n",
       "\n",
       ".sk-estimator-doc-link:hover span {\n",
       "  display: block;\n",
       "}\n",
       "\n",
       "/* \"?\"-specific style due to the `<a>` HTML tag */\n",
       "\n",
       "#sk-container-id-4 a.estimator_doc_link {\n",
       "  float: right;\n",
       "  font-size: 1rem;\n",
       "  line-height: 1em;\n",
       "  font-family: monospace;\n",
       "  background-color: var(--sklearn-color-background);\n",
       "  border-radius: 1rem;\n",
       "  height: 1rem;\n",
       "  width: 1rem;\n",
       "  text-decoration: none;\n",
       "  /* unfitted */\n",
       "  color: var(--sklearn-color-unfitted-level-1);\n",
       "  border: var(--sklearn-color-unfitted-level-1) 1pt solid;\n",
       "}\n",
       "\n",
       "#sk-container-id-4 a.estimator_doc_link.fitted {\n",
       "  /* fitted */\n",
       "  border: var(--sklearn-color-fitted-level-1) 1pt solid;\n",
       "  color: var(--sklearn-color-fitted-level-1);\n",
       "}\n",
       "\n",
       "/* On hover */\n",
       "#sk-container-id-4 a.estimator_doc_link:hover {\n",
       "  /* unfitted */\n",
       "  background-color: var(--sklearn-color-unfitted-level-3);\n",
       "  color: var(--sklearn-color-background);\n",
       "  text-decoration: none;\n",
       "}\n",
       "\n",
       "#sk-container-id-4 a.estimator_doc_link.fitted:hover {\n",
       "  /* fitted */\n",
       "  background-color: var(--sklearn-color-fitted-level-3);\n",
       "}\n",
       "</style><div id=\"sk-container-id-4\" class=\"sk-top-container\"><div class=\"sk-text-repr-fallback\"><pre>GridSearchCV(cv=3,\n",
       "             estimator=Pipeline(steps=[(&#x27;simpleimputer&#x27;,\n",
       "                                        SimpleImputer(strategy=&#x27;median&#x27;)),\n",
       "                                       (&#x27;standardscaler&#x27;, StandardScaler()),\n",
       "                                       (&#x27;randomforestregressor&#x27;,\n",
       "                                        RandomForestRegressor(random_state=47))]),\n",
       "             n_jobs=4,\n",
       "             param_grid={&#x27;randomforestregressor__n_estimators&#x27;: [50, 100, 500,\n",
       "                                                                 1000],\n",
       "                         &#x27;simpleimputer__strategy&#x27;: [&#x27;mean&#x27;, &#x27;median&#x27;],\n",
       "                         &#x27;standardscaler&#x27;: [None]})</pre><b>In a Jupyter environment, please rerun this cell to show the HTML representation or trust the notebook. <br />On GitHub, the HTML representation is unable to render, please try loading this page with nbviewer.org.</b></div><div class=\"sk-container\" hidden><div class=\"sk-item sk-dashed-wrapped\"><div class=\"sk-label-container\"><div class=\"sk-label fitted sk-toggleable\"><input class=\"sk-toggleable__control sk-hidden--visually\" id=\"sk-estimator-id-17\" type=\"checkbox\" ><label for=\"sk-estimator-id-17\" class=\"sk-toggleable__label fitted sk-toggleable__label-arrow\"><div><div>GridSearchCV</div></div><div><a class=\"sk-estimator-doc-link fitted\" rel=\"noreferrer\" target=\"_blank\" href=\"https://scikit-learn.org/1.6/modules/generated/sklearn.model_selection.GridSearchCV.html\">?<span>Documentation for GridSearchCV</span></a><span class=\"sk-estimator-doc-link fitted\">i<span>Fitted</span></span></div></label><div class=\"sk-toggleable__content fitted\"><pre>GridSearchCV(cv=3,\n",
       "             estimator=Pipeline(steps=[(&#x27;simpleimputer&#x27;,\n",
       "                                        SimpleImputer(strategy=&#x27;median&#x27;)),\n",
       "                                       (&#x27;standardscaler&#x27;, StandardScaler()),\n",
       "                                       (&#x27;randomforestregressor&#x27;,\n",
       "                                        RandomForestRegressor(random_state=47))]),\n",
       "             n_jobs=4,\n",
       "             param_grid={&#x27;randomforestregressor__n_estimators&#x27;: [50, 100, 500,\n",
       "                                                                 1000],\n",
       "                         &#x27;simpleimputer__strategy&#x27;: [&#x27;mean&#x27;, &#x27;median&#x27;],\n",
       "                         &#x27;standardscaler&#x27;: [None]})</pre></div> </div></div><div class=\"sk-parallel\"><div class=\"sk-parallel-item\"><div class=\"sk-item\"><div class=\"sk-label-container\"><div class=\"sk-label fitted sk-toggleable\"><input class=\"sk-toggleable__control sk-hidden--visually\" id=\"sk-estimator-id-18\" type=\"checkbox\" ><label for=\"sk-estimator-id-18\" class=\"sk-toggleable__label fitted sk-toggleable__label-arrow\"><div><div>best_estimator_: Pipeline</div></div></label><div class=\"sk-toggleable__content fitted\"><pre>Pipeline(steps=[(&#x27;simpleimputer&#x27;, SimpleImputer()), (&#x27;standardscaler&#x27;, None),\n",
       "                (&#x27;randomforestregressor&#x27;,\n",
       "                 RandomForestRegressor(n_estimators=1000, random_state=47))])</pre></div> </div></div><div class=\"sk-serial\"><div class=\"sk-item\"><div class=\"sk-serial\"><div class=\"sk-item\"><div class=\"sk-estimator fitted sk-toggleable\"><input class=\"sk-toggleable__control sk-hidden--visually\" id=\"sk-estimator-id-19\" type=\"checkbox\" ><label for=\"sk-estimator-id-19\" class=\"sk-toggleable__label fitted sk-toggleable__label-arrow\"><div><div>SimpleImputer</div></div><div><a class=\"sk-estimator-doc-link fitted\" rel=\"noreferrer\" target=\"_blank\" href=\"https://scikit-learn.org/1.6/modules/generated/sklearn.impute.SimpleImputer.html\">?<span>Documentation for SimpleImputer</span></a></div></label><div class=\"sk-toggleable__content fitted\"><pre>SimpleImputer()</pre></div> </div></div><div class=\"sk-item\"><div class=\"sk-estimator fitted sk-toggleable\"><input class=\"sk-toggleable__control sk-hidden--visually\" id=\"sk-estimator-id-20\" type=\"checkbox\" ><label for=\"sk-estimator-id-20\" class=\"sk-toggleable__label fitted sk-toggleable__label-arrow\"><div><div>None</div></div></label><div class=\"sk-toggleable__content fitted\"><pre>None</pre></div> </div></div><div class=\"sk-item\"><div class=\"sk-estimator fitted sk-toggleable\"><input class=\"sk-toggleable__control sk-hidden--visually\" id=\"sk-estimator-id-21\" type=\"checkbox\" ><label for=\"sk-estimator-id-21\" class=\"sk-toggleable__label fitted sk-toggleable__label-arrow\"><div><div>RandomForestRegressor</div></div><div><a class=\"sk-estimator-doc-link fitted\" rel=\"noreferrer\" target=\"_blank\" href=\"https://scikit-learn.org/1.6/modules/generated/sklearn.ensemble.RandomForestRegressor.html\">?<span>Documentation for RandomForestRegressor</span></a></div></label><div class=\"sk-toggleable__content fitted\"><pre>RandomForestRegressor(n_estimators=1000, random_state=47)</pre></div> </div></div></div></div></div></div></div></div></div></div></div>"
      ],
      "text/plain": [
       "GridSearchCV(cv=3,\n",
       "             estimator=Pipeline(steps=[('simpleimputer',\n",
       "                                        SimpleImputer(strategy='median')),\n",
       "                                       ('standardscaler', StandardScaler()),\n",
       "                                       ('randomforestregressor',\n",
       "                                        RandomForestRegressor(random_state=47))]),\n",
       "             n_jobs=4,\n",
       "             param_grid={'randomforestregressor__n_estimators': [50, 100, 500,\n",
       "                                                                 1000],\n",
       "                         'simpleimputer__strategy': ['mean', 'median'],\n",
       "                         'standardscaler': [None]})"
      ]
     },
     "execution_count": 71,
     "metadata": {},
     "output_type": "execute_result"
    }
   ],
   "source": [
    "#Now call the `GridSearchCV`'s `fit()` method with `X_train` and `y_train` as arguments\n",
    "#to actually start the grid search. This may take a minute or two.\n",
    "rf_grid_cv.fit(X_train, y_train)"
   ]
  },
  {
   "cell_type": "code",
   "execution_count": 72,
   "id": "dcb9ebae-e728-4cc5-aaed-c41d439d236b",
   "metadata": {
    "execution": {
     "iopub.execute_input": "2025-03-14T21:36:20.452488Z",
     "iopub.status.busy": "2025-03-14T21:36:20.452197Z",
     "iopub.status.idle": "2025-03-14T21:36:20.456110Z",
     "shell.execute_reply": "2025-03-14T21:36:20.455658Z",
     "shell.execute_reply.started": "2025-03-14T21:36:20.452475Z"
    }
   },
   "outputs": [
    {
     "data": {
      "text/plain": [
       "{'randomforestregressor__n_estimators': 1000,\n",
       " 'simpleimputer__strategy': 'mean',\n",
       " 'standardscaler': None}"
      ]
     },
     "execution_count": 72,
     "metadata": {},
     "output_type": "execute_result"
    }
   ],
   "source": [
    "#Print the best params (`best_params_` attribute) from the grid search\n",
    "rf_grid_cv.best_params_"
   ]
  },
  {
   "cell_type": "markdown",
   "id": "58346d09-c979-4800-b75a-77a91c993607",
   "metadata": {},
   "source": [
    "<div class=\"alert alert-info\">\n",
    "\n",
    "\n",
    "  Before we continue, let's determine if 1000 trees are needed by plottingg mean cv score vs n_estimators\n",
    "\n",
    "</div>"
   ]
  },
  {
   "cell_type": "code",
   "execution_count": 73,
   "id": "bd0a4573-a294-4fed-b722-1b2141947b9b",
   "metadata": {
    "execution": {
     "iopub.execute_input": "2025-03-14T21:36:20.457009Z",
     "iopub.status.busy": "2025-03-14T21:36:20.456769Z",
     "iopub.status.idle": "2025-03-14T21:36:20.543857Z",
     "shell.execute_reply": "2025-03-14T21:36:20.543072Z",
     "shell.execute_reply.started": "2025-03-14T21:36:20.456996Z"
    }
   },
   "outputs": [
    {
     "data": {
      "image/png": "[encoded data removed]",
      "text/plain": [
       "<Figure size 640x480 with 1 Axes>"
      ]
     },
     "metadata": {},
     "output_type": "display_data"
    }
   ],
   "source": [
    "# Instead of assuming 1000 is best, let’s check if it’s worth keeping by:\n",
    "# Comparing Model Performance for n_estimators=[50, 100, 500, 1000]\n",
    "results = rf_grid_cv.cv_results_\n",
    "plt.plot(results['param_randomforestregressor__n_estimators'], results['mean_test_score'])\n",
    "plt.xlabel('Number of Trees')\n",
    "plt.ylabel('Mean CV Score')\n",
    "plt.title('Random Forest Performance vs. Trees')\n",
    "plt.show()"
   ]
  },
  {
   "cell_type": "markdown",
   "id": "033cd766-a137-43b4-a0c2-59aaab4296a5",
   "metadata": {},
   "source": [
    "<div class=\"alert alert-info\">\n",
    "  100 → 500 trees only increased the score by 0.002 (0.2%).<br>\n",
    "After 500 trees increased, the scores starts to flatten<br>\n",
    "More trees produce diminishing return.<br><br>\n",
    "\n",
    "We will redo the fit by removing 1000 trees from grid_params\n",
    "\n",
    "</div>"
   ]
  },
  {
   "cell_type": "code",
   "execution_count": 74,
   "id": "6cdbb1d8-5fe2-469a-9596-9f877a976fca",
   "metadata": {
    "execution": {
     "iopub.execute_input": "2025-03-14T21:36:20.545347Z",
     "iopub.status.busy": "2025-03-14T21:36:20.544714Z",
     "iopub.status.idle": "2025-03-14T21:36:20.550729Z",
     "shell.execute_reply": "2025-03-14T21:36:20.549650Z",
     "shell.execute_reply.started": "2025-03-14T21:36:20.545329Z"
    }
   },
   "outputs": [
    {
     "data": {
      "text/plain": [
       "{'randomforestregressor__n_estimators': [50, 100, 500],\n",
       " 'standardscaler': [None],\n",
       " 'simpleimputer__strategy': ['mean', 'median']}"
      ]
     },
     "execution_count": 74,
     "metadata": {},
     "output_type": "execute_result"
    }
   ],
   "source": [
    "n_est = [50,100,500]\n",
    "grid_params = {\n",
    "        'randomforestregressor__n_estimators': n_est,\n",
    "        'standardscaler': [None], # Skip scaling since RF handles unscaled data well\n",
    "        'simpleimputer__strategy': ['mean', 'median']\n",
    "}\n",
    "\n",
    "grid_params"
   ]
  },
  {
   "cell_type": "code",
   "execution_count": 75,
   "id": "cf1416df-7dc8-4fde-b55f-d686868e3bfa",
   "metadata": {
    "execution": {
     "iopub.execute_input": "2025-03-14T21:36:20.552042Z",
     "iopub.status.busy": "2025-03-14T21:36:20.551543Z",
     "iopub.status.idle": "2025-03-14T21:36:20.556378Z",
     "shell.execute_reply": "2025-03-14T21:36:20.555735Z",
     "shell.execute_reply.started": "2025-03-14T21:36:20.551982Z"
    }
   },
   "outputs": [],
   "source": [
    "#Call `GridSearchCV` with the random forest pipeline, passing in the above `grid_params`\n",
    "#dict for parameters to evaluate, 5-fold cross-validation, and all available CPU cores (if desired)\n",
    "rf_grid_cv = GridSearchCV(RF_pipe, param_grid=grid_params, cv=cv, n_jobs=4)"
   ]
  },
  {
   "cell_type": "code",
   "execution_count": 76,
   "id": "c70dd977-1ce2-4504-863a-ef5ba57e700d",
   "metadata": {
    "execution": {
     "iopub.execute_input": "2025-03-14T21:36:20.558033Z",
     "iopub.status.busy": "2025-03-14T21:36:20.557536Z",
     "iopub.status.idle": "2025-03-14T21:42:38.354600Z",
     "shell.execute_reply": "2025-03-14T21:42:38.353861Z",
     "shell.execute_reply.started": "2025-03-14T21:36:20.558011Z"
    }
   },
   "outputs": [
    {
     "data": {
      "text/html": [
       "<style>#sk-container-id-5 {\n",
       "  /* Definition of color scheme common for light and dark mode */\n",
       "  --sklearn-color-text: #000;\n",
       "  --sklearn-color-text-muted: #666;\n",
       "  --sklearn-color-line: gray;\n",
       "  /* Definition of color scheme for unfitted estimators */\n",
       "  --sklearn-color-unfitted-level-0: #fff5e6;\n",
       "  --sklearn-color-unfitted-level-1: #f6e4d2;\n",
       "  --sklearn-color-unfitted-level-2: #ffe0b3;\n",
       "  --sklearn-color-unfitted-level-3: chocolate;\n",
       "  /* Definition of color scheme for fitted estimators */\n",
       "  --sklearn-color-fitted-level-0: #f0f8ff;\n",
       "  --sklearn-color-fitted-level-1: #d4ebff;\n",
       "  --sklearn-color-fitted-level-2: #b3dbfd;\n",
       "  --sklearn-color-fitted-level-3: cornflowerblue;\n",
       "\n",
       "  /* Specific color for light theme */\n",
       "  --sklearn-color-text-on-default-background: var(--sg-text-color, var(--theme-code-foreground, var(--jp-content-font-color1, black)));\n",
       "  --sklearn-color-background: var(--sg-background-color, var(--theme-background, var(--jp-layout-color0, white)));\n",
       "  --sklearn-color-border-box: var(--sg-text-color, var(--theme-code-foreground, var(--jp-content-font-color1, black)));\n",
       "  --sklearn-color-icon: #696969;\n",
       "\n",
       "  @media (prefers-color-scheme: dark) {\n",
       "    /* Redefinition of color scheme for dark theme */\n",
       "    --sklearn-color-text-on-default-background: var(--sg-text-color, var(--theme-code-foreground, var(--jp-content-font-color1, white)));\n",
       "    --sklearn-color-background: var(--sg-background-color, var(--theme-background, var(--jp-layout-color0, #111)));\n",
       "    --sklearn-color-border-box: var(--sg-text-color, var(--theme-code-foreground, var(--jp-content-font-color1, white)));\n",
       "    --sklearn-color-icon: #878787;\n",
       "  }\n",
       "}\n",
       "\n",
       "#sk-container-id-5 {\n",
       "  color: var(--sklearn-color-text);\n",
       "}\n",
       "\n",
       "#sk-container-id-5 pre {\n",
       "  padding: 0;\n",
       "}\n",
       "\n",
       "#sk-container-id-5 input.sk-hidden--visually {\n",
       "  border: 0;\n",
       "  clip: rect(1px 1px 1px 1px);\n",
       "  clip: rect(1px, 1px, 1px, 1px);\n",
       "  height: 1px;\n",
       "  margin: -1px;\n",
       "  overflow: hidden;\n",
       "  padding: 0;\n",
       "  position: absolute;\n",
       "  width: 1px;\n",
       "}\n",
       "\n",
       "#sk-container-id-5 div.sk-dashed-wrapped {\n",
       "  border: 1px dashed var(--sklearn-color-line);\n",
       "  margin: 0 0.4em 0.5em 0.4em;\n",
       "  box-sizing: border-box;\n",
       "  padding-bottom: 0.4em;\n",
       "  background-color: var(--sklearn-color-background);\n",
       "}\n",
       "\n",
       "#sk-container-id-5 div.sk-container {\n",
       "  /* jupyter's `normalize.less` sets `[hidden] { display: none; }`\n",
       "     but bootstrap.min.css set `[hidden] { display: none !important; }`\n",
       "     so we also need the `!important` here to be able to override the\n",
       "     default hidden behavior on the sphinx rendered scikit-learn.org.\n",
       "     See: https://github.com/scikit-learn/scikit-learn/issues/21755 */\n",
       "  display: inline-block !important;\n",
       "  position: relative;\n",
       "}\n",
       "\n",
       "#sk-container-id-5 div.sk-text-repr-fallback {\n",
       "  display: none;\n",
       "}\n",
       "\n",
       "div.sk-parallel-item,\n",
       "div.sk-serial,\n",
       "div.sk-item {\n",
       "  /* draw centered vertical line to link estimators */\n",
       "  background-image: linear-gradient(var(--sklearn-color-text-on-default-background), var(--sklearn-color-text-on-default-background));\n",
       "  background-size: 2px 100%;\n",
       "  background-repeat: no-repeat;\n",
       "  background-position: center center;\n",
       "}\n",
       "\n",
       "/* Parallel-specific style estimator block */\n",
       "\n",
       "#sk-container-id-5 div.sk-parallel-item::after {\n",
       "  content: \"\";\n",
       "  width: 100%;\n",
       "  border-bottom: 2px solid var(--sklearn-color-text-on-default-background);\n",
       "  flex-grow: 1;\n",
       "}\n",
       "\n",
       "#sk-container-id-5 div.sk-parallel {\n",
       "  display: flex;\n",
       "  align-items: stretch;\n",
       "  justify-content: center;\n",
       "  background-color: var(--sklearn-color-background);\n",
       "  position: relative;\n",
       "}\n",
       "\n",
       "#sk-container-id-5 div.sk-parallel-item {\n",
       "  display: flex;\n",
       "  flex-direction: column;\n",
       "}\n",
       "\n",
       "#sk-container-id-5 div.sk-parallel-item:first-child::after {\n",
       "  align-self: flex-end;\n",
       "  width: 50%;\n",
       "}\n",
       "\n",
       "#sk-container-id-5 div.sk-parallel-item:last-child::after {\n",
       "  align-self: flex-start;\n",
       "  width: 50%;\n",
       "}\n",
       "\n",
       "#sk-container-id-5 div.sk-parallel-item:only-child::after {\n",
       "  width: 0;\n",
       "}\n",
       "\n",
       "/* Serial-specific style estimator block */\n",
       "\n",
       "#sk-container-id-5 div.sk-serial {\n",
       "  display: flex;\n",
       "  flex-direction: column;\n",
       "  align-items: center;\n",
       "  background-color: var(--sklearn-color-background);\n",
       "  padding-right: 1em;\n",
       "  padding-left: 1em;\n",
       "}\n",
       "\n",
       "\n",
       "/* Toggleable style: style used for estimator/Pipeline/ColumnTransformer box that is\n",
       "clickable and can be expanded/collapsed.\n",
       "- Pipeline and ColumnTransformer use this feature and define the default style\n",
       "- Estimators will overwrite some part of the style using the `sk-estimator` class\n",
       "*/\n",
       "\n",
       "/* Pipeline and ColumnTransformer style (default) */\n",
       "\n",
       "#sk-container-id-5 div.sk-toggleable {\n",
       "  /* Default theme specific background. It is overwritten whether we have a\n",
       "  specific estimator or a Pipeline/ColumnTransformer */\n",
       "  background-color: var(--sklearn-color-background);\n",
       "}\n",
       "\n",
       "/* Toggleable label */\n",
       "#sk-container-id-5 label.sk-toggleable__label {\n",
       "  cursor: pointer;\n",
       "  display: flex;\n",
       "  width: 100%;\n",
       "  margin-bottom: 0;\n",
       "  padding: 0.5em;\n",
       "  box-sizing: border-box;\n",
       "  text-align: center;\n",
       "  align-items: start;\n",
       "  justify-content: space-between;\n",
       "  gap: 0.5em;\n",
       "}\n",
       "\n",
       "#sk-container-id-5 label.sk-toggleable__label .caption {\n",
       "  font-size: 0.6rem;\n",
       "  font-weight: lighter;\n",
       "  color: var(--sklearn-color-text-muted);\n",
       "}\n",
       "\n",
       "#sk-container-id-5 label.sk-toggleable__label-arrow:before {\n",
       "  /* Arrow on the left of the label */\n",
       "  content: \"▸\";\n",
       "  float: left;\n",
       "  margin-right: 0.25em;\n",
       "  color: var(--sklearn-color-icon);\n",
       "}\n",
       "\n",
       "#sk-container-id-5 label.sk-toggleable__label-arrow:hover:before {\n",
       "  color: var(--sklearn-color-text);\n",
       "}\n",
       "\n",
       "/* Toggleable content - dropdown */\n",
       "\n",
       "#sk-container-id-5 div.sk-toggleable__content {\n",
       "  max-height: 0;\n",
       "  max-width: 0;\n",
       "  overflow: hidden;\n",
       "  text-align: left;\n",
       "  /* unfitted */\n",
       "  background-color: var(--sklearn-color-unfitted-level-0);\n",
       "}\n",
       "\n",
       "#sk-container-id-5 div.sk-toggleable__content.fitted {\n",
       "  /* fitted */\n",
       "  background-color: var(--sklearn-color-fitted-level-0);\n",
       "}\n",
       "\n",
       "#sk-container-id-5 div.sk-toggleable__content pre {\n",
       "  margin: 0.2em;\n",
       "  border-radius: 0.25em;\n",
       "  color: var(--sklearn-color-text);\n",
       "  /* unfitted */\n",
       "  background-color: var(--sklearn-color-unfitted-level-0);\n",
       "}\n",
       "\n",
       "#sk-container-id-5 div.sk-toggleable__content.fitted pre {\n",
       "  /* unfitted */\n",
       "  background-color: var(--sklearn-color-fitted-level-0);\n",
       "}\n",
       "\n",
       "#sk-container-id-5 input.sk-toggleable__control:checked~div.sk-toggleable__content {\n",
       "  /* Expand drop-down */\n",
       "  max-height: 200px;\n",
       "  max-width: 100%;\n",
       "  overflow: auto;\n",
       "}\n",
       "\n",
       "#sk-container-id-5 input.sk-toggleable__control:checked~label.sk-toggleable__label-arrow:before {\n",
       "  content: \"▾\";\n",
       "}\n",
       "\n",
       "/* Pipeline/ColumnTransformer-specific style */\n",
       "\n",
       "#sk-container-id-5 div.sk-label input.sk-toggleable__control:checked~label.sk-toggleable__label {\n",
       "  color: var(--sklearn-color-text);\n",
       "  background-color: var(--sklearn-color-unfitted-level-2);\n",
       "}\n",
       "\n",
       "#sk-container-id-5 div.sk-label.fitted input.sk-toggleable__control:checked~label.sk-toggleable__label {\n",
       "  background-color: var(--sklearn-color-fitted-level-2);\n",
       "}\n",
       "\n",
       "/* Estimator-specific style */\n",
       "\n",
       "/* Colorize estimator box */\n",
       "#sk-container-id-5 div.sk-estimator input.sk-toggleable__control:checked~label.sk-toggleable__label {\n",
       "  /* unfitted */\n",
       "  background-color: var(--sklearn-color-unfitted-level-2);\n",
       "}\n",
       "\n",
       "#sk-container-id-5 div.sk-estimator.fitted input.sk-toggleable__control:checked~label.sk-toggleable__label {\n",
       "  /* fitted */\n",
       "  background-color: var(--sklearn-color-fitted-level-2);\n",
       "}\n",
       "\n",
       "#sk-container-id-5 div.sk-label label.sk-toggleable__label,\n",
       "#sk-container-id-5 div.sk-label label {\n",
       "  /* The background is the default theme color */\n",
       "  color: var(--sklearn-color-text-on-default-background);\n",
       "}\n",
       "\n",
       "/* On hover, darken the color of the background */\n",
       "#sk-container-id-5 div.sk-label:hover label.sk-toggleable__label {\n",
       "  color: var(--sklearn-color-text);\n",
       "  background-color: var(--sklearn-color-unfitted-level-2);\n",
       "}\n",
       "\n",
       "/* Label box, darken color on hover, fitted */\n",
       "#sk-container-id-5 div.sk-label.fitted:hover label.sk-toggleable__label.fitted {\n",
       "  color: var(--sklearn-color-text);\n",
       "  background-color: var(--sklearn-color-fitted-level-2);\n",
       "}\n",
       "\n",
       "/* Estimator label */\n",
       "\n",
       "#sk-container-id-5 div.sk-label label {\n",
       "  font-family: monospace;\n",
       "  font-weight: bold;\n",
       "  display: inline-block;\n",
       "  line-height: 1.2em;\n",
       "}\n",
       "\n",
       "#sk-container-id-5 div.sk-label-container {\n",
       "  text-align: center;\n",
       "}\n",
       "\n",
       "/* Estimator-specific */\n",
       "#sk-container-id-5 div.sk-estimator {\n",
       "  font-family: monospace;\n",
       "  border: 1px dotted var(--sklearn-color-border-box);\n",
       "  border-radius: 0.25em;\n",
       "  box-sizing: border-box;\n",
       "  margin-bottom: 0.5em;\n",
       "  /* unfitted */\n",
       "  background-color: var(--sklearn-color-unfitted-level-0);\n",
       "}\n",
       "\n",
       "#sk-container-id-5 div.sk-estimator.fitted {\n",
       "  /* fitted */\n",
       "  background-color: var(--sklearn-color-fitted-level-0);\n",
       "}\n",
       "\n",
       "/* on hover */\n",
       "#sk-container-id-5 div.sk-estimator:hover {\n",
       "  /* unfitted */\n",
       "  background-color: var(--sklearn-color-unfitted-level-2);\n",
       "}\n",
       "\n",
       "#sk-container-id-5 div.sk-estimator.fitted:hover {\n",
       "  /* fitted */\n",
       "  background-color: var(--sklearn-color-fitted-level-2);\n",
       "}\n",
       "\n",
       "/* Specification for estimator info (e.g. \"i\" and \"?\") */\n",
       "\n",
       "/* Common style for \"i\" and \"?\" */\n",
       "\n",
       ".sk-estimator-doc-link,\n",
       "a:link.sk-estimator-doc-link,\n",
       "a:visited.sk-estimator-doc-link {\n",
       "  float: right;\n",
       "  font-size: smaller;\n",
       "  line-height: 1em;\n",
       "  font-family: monospace;\n",
       "  background-color: var(--sklearn-color-background);\n",
       "  border-radius: 1em;\n",
       "  height: 1em;\n",
       "  width: 1em;\n",
       "  text-decoration: none !important;\n",
       "  margin-left: 0.5em;\n",
       "  text-align: center;\n",
       "  /* unfitted */\n",
       "  border: var(--sklearn-color-unfitted-level-1) 1pt solid;\n",
       "  color: var(--sklearn-color-unfitted-level-1);\n",
       "}\n",
       "\n",
       ".sk-estimator-doc-link.fitted,\n",
       "a:link.sk-estimator-doc-link.fitted,\n",
       "a:visited.sk-estimator-doc-link.fitted {\n",
       "  /* fitted */\n",
       "  border: var(--sklearn-color-fitted-level-1) 1pt solid;\n",
       "  color: var(--sklearn-color-fitted-level-1);\n",
       "}\n",
       "\n",
       "/* On hover */\n",
       "div.sk-estimator:hover .sk-estimator-doc-link:hover,\n",
       ".sk-estimator-doc-link:hover,\n",
       "div.sk-label-container:hover .sk-estimator-doc-link:hover,\n",
       ".sk-estimator-doc-link:hover {\n",
       "  /* unfitted */\n",
       "  background-color: var(--sklearn-color-unfitted-level-3);\n",
       "  color: var(--sklearn-color-background);\n",
       "  text-decoration: none;\n",
       "}\n",
       "\n",
       "div.sk-estimator.fitted:hover .sk-estimator-doc-link.fitted:hover,\n",
       ".sk-estimator-doc-link.fitted:hover,\n",
       "div.sk-label-container:hover .sk-estimator-doc-link.fitted:hover,\n",
       ".sk-estimator-doc-link.fitted:hover {\n",
       "  /* fitted */\n",
       "  background-color: var(--sklearn-color-fitted-level-3);\n",
       "  color: var(--sklearn-color-background);\n",
       "  text-decoration: none;\n",
       "}\n",
       "\n",
       "/* Span, style for the box shown on hovering the info icon */\n",
       ".sk-estimator-doc-link span {\n",
       "  display: none;\n",
       "  z-index: 9999;\n",
       "  position: relative;\n",
       "  font-weight: normal;\n",
       "  right: .2ex;\n",
       "  padding: .5ex;\n",
       "  margin: .5ex;\n",
       "  width: min-content;\n",
       "  min-width: 20ex;\n",
       "  max-width: 50ex;\n",
       "  color: var(--sklearn-color-text);\n",
       "  box-shadow: 2pt 2pt 4pt #999;\n",
       "  /* unfitted */\n",
       "  background: var(--sklearn-color-unfitted-level-0);\n",
       "  border: .5pt solid var(--sklearn-color-unfitted-level-3);\n",
       "}\n",
       "\n",
       ".sk-estimator-doc-link.fitted span {\n",
       "  /* fitted */\n",
       "  background: var(--sklearn-color-fitted-level-0);\n",
       "  border: var(--sklearn-color-fitted-level-3);\n",
       "}\n",
       "\n",
       ".sk-estimator-doc-link:hover span {\n",
       "  display: block;\n",
       "}\n",
       "\n",
       "/* \"?\"-specific style due to the `<a>` HTML tag */\n",
       "\n",
       "#sk-container-id-5 a.estimator_doc_link {\n",
       "  float: right;\n",
       "  font-size: 1rem;\n",
       "  line-height: 1em;\n",
       "  font-family: monospace;\n",
       "  background-color: var(--sklearn-color-background);\n",
       "  border-radius: 1rem;\n",
       "  height: 1rem;\n",
       "  width: 1rem;\n",
       "  text-decoration: none;\n",
       "  /* unfitted */\n",
       "  color: var(--sklearn-color-unfitted-level-1);\n",
       "  border: var(--sklearn-color-unfitted-level-1) 1pt solid;\n",
       "}\n",
       "\n",
       "#sk-container-id-5 a.estimator_doc_link.fitted {\n",
       "  /* fitted */\n",
       "  border: var(--sklearn-color-fitted-level-1) 1pt solid;\n",
       "  color: var(--sklearn-color-fitted-level-1);\n",
       "}\n",
       "\n",
       "/* On hover */\n",
       "#sk-container-id-5 a.estimator_doc_link:hover {\n",
       "  /* unfitted */\n",
       "  background-color: var(--sklearn-color-unfitted-level-3);\n",
       "  color: var(--sklearn-color-background);\n",
       "  text-decoration: none;\n",
       "}\n",
       "\n",
       "#sk-container-id-5 a.estimator_doc_link.fitted:hover {\n",
       "  /* fitted */\n",
       "  background-color: var(--sklearn-color-fitted-level-3);\n",
       "}\n",
       "</style><div id=\"sk-container-id-5\" class=\"sk-top-container\"><div class=\"sk-text-repr-fallback\"><pre>GridSearchCV(cv=3,\n",
       "             estimator=Pipeline(steps=[(&#x27;simpleimputer&#x27;,\n",
       "                                        SimpleImputer(strategy=&#x27;median&#x27;)),\n",
       "                                       (&#x27;standardscaler&#x27;, StandardScaler()),\n",
       "                                       (&#x27;randomforestregressor&#x27;,\n",
       "                                        RandomForestRegressor(random_state=47))]),\n",
       "             n_jobs=4,\n",
       "             param_grid={&#x27;randomforestregressor__n_estimators&#x27;: [50, 100, 500],\n",
       "                         &#x27;simpleimputer__strategy&#x27;: [&#x27;mean&#x27;, &#x27;median&#x27;],\n",
       "                         &#x27;standardscaler&#x27;: [None]})</pre><b>In a Jupyter environment, please rerun this cell to show the HTML representation or trust the notebook. <br />On GitHub, the HTML representation is unable to render, please try loading this page with nbviewer.org.</b></div><div class=\"sk-container\" hidden><div class=\"sk-item sk-dashed-wrapped\"><div class=\"sk-label-container\"><div class=\"sk-label fitted sk-toggleable\"><input class=\"sk-toggleable__control sk-hidden--visually\" id=\"sk-estimator-id-22\" type=\"checkbox\" ><label for=\"sk-estimator-id-22\" class=\"sk-toggleable__label fitted sk-toggleable__label-arrow\"><div><div>GridSearchCV</div></div><div><a class=\"sk-estimator-doc-link fitted\" rel=\"noreferrer\" target=\"_blank\" href=\"https://scikit-learn.org/1.6/modules/generated/sklearn.model_selection.GridSearchCV.html\">?<span>Documentation for GridSearchCV</span></a><span class=\"sk-estimator-doc-link fitted\">i<span>Fitted</span></span></div></label><div class=\"sk-toggleable__content fitted\"><pre>GridSearchCV(cv=3,\n",
       "             estimator=Pipeline(steps=[(&#x27;simpleimputer&#x27;,\n",
       "                                        SimpleImputer(strategy=&#x27;median&#x27;)),\n",
       "                                       (&#x27;standardscaler&#x27;, StandardScaler()),\n",
       "                                       (&#x27;randomforestregressor&#x27;,\n",
       "                                        RandomForestRegressor(random_state=47))]),\n",
       "             n_jobs=4,\n",
       "             param_grid={&#x27;randomforestregressor__n_estimators&#x27;: [50, 100, 500],\n",
       "                         &#x27;simpleimputer__strategy&#x27;: [&#x27;mean&#x27;, &#x27;median&#x27;],\n",
       "                         &#x27;standardscaler&#x27;: [None]})</pre></div> </div></div><div class=\"sk-parallel\"><div class=\"sk-parallel-item\"><div class=\"sk-item\"><div class=\"sk-label-container\"><div class=\"sk-label fitted sk-toggleable\"><input class=\"sk-toggleable__control sk-hidden--visually\" id=\"sk-estimator-id-23\" type=\"checkbox\" ><label for=\"sk-estimator-id-23\" class=\"sk-toggleable__label fitted sk-toggleable__label-arrow\"><div><div>best_estimator_: Pipeline</div></div></label><div class=\"sk-toggleable__content fitted\"><pre>Pipeline(steps=[(&#x27;simpleimputer&#x27;, SimpleImputer()), (&#x27;standardscaler&#x27;, None),\n",
       "                (&#x27;randomforestregressor&#x27;,\n",
       "                 RandomForestRegressor(n_estimators=500, random_state=47))])</pre></div> </div></div><div class=\"sk-serial\"><div class=\"sk-item\"><div class=\"sk-serial\"><div class=\"sk-item\"><div class=\"sk-estimator fitted sk-toggleable\"><input class=\"sk-toggleable__control sk-hidden--visually\" id=\"sk-estimator-id-24\" type=\"checkbox\" ><label for=\"sk-estimator-id-24\" class=\"sk-toggleable__label fitted sk-toggleable__label-arrow\"><div><div>SimpleImputer</div></div><div><a class=\"sk-estimator-doc-link fitted\" rel=\"noreferrer\" target=\"_blank\" href=\"https://scikit-learn.org/1.6/modules/generated/sklearn.impute.SimpleImputer.html\">?<span>Documentation for SimpleImputer</span></a></div></label><div class=\"sk-toggleable__content fitted\"><pre>SimpleImputer()</pre></div> </div></div><div class=\"sk-item\"><div class=\"sk-estimator fitted sk-toggleable\"><input class=\"sk-toggleable__control sk-hidden--visually\" id=\"sk-estimator-id-25\" type=\"checkbox\" ><label for=\"sk-estimator-id-25\" class=\"sk-toggleable__label fitted sk-toggleable__label-arrow\"><div><div>None</div></div></label><div class=\"sk-toggleable__content fitted\"><pre>None</pre></div> </div></div><div class=\"sk-item\"><div class=\"sk-estimator fitted sk-toggleable\"><input class=\"sk-toggleable__control sk-hidden--visually\" id=\"sk-estimator-id-26\" type=\"checkbox\" ><label for=\"sk-estimator-id-26\" class=\"sk-toggleable__label fitted sk-toggleable__label-arrow\"><div><div>RandomForestRegressor</div></div><div><a class=\"sk-estimator-doc-link fitted\" rel=\"noreferrer\" target=\"_blank\" href=\"https://scikit-learn.org/1.6/modules/generated/sklearn.ensemble.RandomForestRegressor.html\">?<span>Documentation for RandomForestRegressor</span></a></div></label><div class=\"sk-toggleable__content fitted\"><pre>RandomForestRegressor(n_estimators=500, random_state=47)</pre></div> </div></div></div></div></div></div></div></div></div></div></div>"
      ],
      "text/plain": [
       "GridSearchCV(cv=3,\n",
       "             estimator=Pipeline(steps=[('simpleimputer',\n",
       "                                        SimpleImputer(strategy='median')),\n",
       "                                       ('standardscaler', StandardScaler()),\n",
       "                                       ('randomforestregressor',\n",
       "                                        RandomForestRegressor(random_state=47))]),\n",
       "             n_jobs=4,\n",
       "             param_grid={'randomforestregressor__n_estimators': [50, 100, 500],\n",
       "                         'simpleimputer__strategy': ['mean', 'median'],\n",
       "                         'standardscaler': [None]})"
      ]
     },
     "execution_count": 76,
     "metadata": {},
     "output_type": "execute_result"
    }
   ],
   "source": [
    "rf_grid_cv.fit(X_train, y_train)"
   ]
  },
  {
   "cell_type": "code",
   "execution_count": 77,
   "id": "ae99bd84-de17-4019-8825-6ea642a45f1d",
   "metadata": {
    "execution": {
     "iopub.execute_input": "2025-03-14T21:42:38.355468Z",
     "iopub.status.busy": "2025-03-14T21:42:38.355309Z",
     "iopub.status.idle": "2025-03-14T21:42:38.358915Z",
     "shell.execute_reply": "2025-03-14T21:42:38.358345Z",
     "shell.execute_reply.started": "2025-03-14T21:42:38.355456Z"
    }
   },
   "outputs": [
    {
     "data": {
      "text/plain": [
       "{'randomforestregressor__n_estimators': 500,\n",
       " 'simpleimputer__strategy': 'mean',\n",
       " 'standardscaler': None}"
      ]
     },
     "execution_count": 77,
     "metadata": {},
     "output_type": "execute_result"
    }
   ],
   "source": [
    "#Print the best params (`best_params_` attribute) from the grid search\n",
    "rf_grid_cv.best_params_"
   ]
  },
  {
   "cell_type": "markdown",
   "id": "a2af294b-9a72-45b0-81ae-b49d5ee336ef",
   "metadata": {},
   "source": [
    "<div class=\"alert alert-info\">\n",
    "Much faster execution. \n",
    "\n",
    "  Imputing with mean helps but this is not very meaningful since the data did not have any NaN.<br>\n",
    "  The best number of trees for our data is 500 (n_estimators). We already know more than 500 has diminishing returns<br>\n",
    "  scaling had no affect<br><br>\n",
    "</div>"
   ]
  },
  {
   "cell_type": "code",
   "execution_count": 78,
   "id": "d3b254e3-3bc2-4a7f-a0df-e5b1be763cad",
   "metadata": {
    "execution": {
     "iopub.execute_input": "2025-03-14T21:42:38.359682Z",
     "iopub.status.busy": "2025-03-14T21:42:38.359344Z",
     "iopub.status.idle": "2025-03-14T21:51:23.588795Z",
     "shell.execute_reply": "2025-03-14T21:51:23.588325Z",
     "shell.execute_reply.started": "2025-03-14T21:42:38.359669Z"
    }
   },
   "outputs": [
    {
     "data": {
      "text/plain": [
       "array([0.90705704, 0.90551438, 0.87904697, 0.90296144, 0.91076724])"
      ]
     },
     "execution_count": 78,
     "metadata": {},
     "output_type": "execute_result"
    }
   ],
   "source": [
    "rf_best_cv_results = cross_validate(rf_grid_cv.best_estimator_, X_train, y_train, cv=5)\n",
    "rf_best_scores = rf_best_cv_results['test_score']\n",
    "rf_best_scores"
   ]
  },
  {
   "cell_type": "code",
   "execution_count": 79,
   "id": "82fe9b11-a4c6-4b64-ac22-ed792ae4c215",
   "metadata": {
    "execution": {
     "iopub.execute_input": "2025-03-14T21:51:23.589725Z",
     "iopub.status.busy": "2025-03-14T21:51:23.589535Z",
     "iopub.status.idle": "2025-03-14T21:51:23.594615Z",
     "shell.execute_reply": "2025-03-14T21:51:23.593480Z",
     "shell.execute_reply.started": "2025-03-14T21:51:23.589713Z"
    }
   },
   "outputs": [
    {
     "data": {
      "text/plain": [
       "(np.float64(0.9010694152857566), np.float64(0.011298010287992936))"
      ]
     },
     "execution_count": 79,
     "metadata": {},
     "output_type": "execute_result"
    }
   ],
   "source": [
    "np.mean(rf_best_scores), np.std(rf_best_scores)"
   ]
  },
  {
   "cell_type": "code",
   "execution_count": 80,
   "id": "4207fa70-4e49-4793-9d1f-5e20817c424a",
   "metadata": {
    "execution": {
     "iopub.execute_input": "2025-03-14T21:51:23.596073Z",
     "iopub.status.busy": "2025-03-14T21:51:23.595836Z",
     "iopub.status.idle": "2025-03-14T21:51:23.796914Z",
     "shell.execute_reply": "2025-03-14T21:51:23.796253Z",
     "shell.execute_reply.started": "2025-03-14T21:51:23.596060Z"
    }
   },
   "outputs": [
    {
     "data": {
      "image/png": "[encoded data removed]",
      "text/plain": [
       "<Figure size 1000x500 with 1 Axes>"
      ]
     },
     "metadata": {},
     "output_type": "display_data"
    }
   ],
   "source": [
    "#Plot a barplot of the random forest's feature importances,\n",
    "#assigning the `feature_importances_` attribute of \n",
    "#`rf_grid_cv.best_estimator_.named_steps.randomforestregressor` to the name `imps` to then\n",
    "#create a pandas Series object of the feature importances, with the index given by the\n",
    "#training data column names, sorting the values in descending order\n",
    "plt.subplots(figsize=(10, 5))\n",
    "imps = rf_grid_cv.best_estimator_.named_steps.randomforestregressor.feature_importances_\n",
    "rf_feat_imps = pd.Series(imps, index=X_train.columns).sort_values(ascending=False)\n",
    "rf_feat_imps.plot(kind='bar')\n",
    "plt.xlabel('features')\n",
    "plt.ylabel('importance')\n",
    "plt.title('Best Random Forest Regressor Feature Importances');"
   ]
  },
  {
   "cell_type": "markdown",
   "id": "f6332b1e-7b76-4176-82f5-51896fd77a96",
   "metadata": {},
   "source": [
    "<div class=\"alert alert-info\">\n",
    "Nice to see gtgrisk is still in the top list<br><br>\n",
    "    We will try one more model, Gradient Boosting, specifically LightGBM\n",
    "</div>"
   ]
  },
  {
   "cell_type": "code",
   "execution_count": 81,
   "id": "82c5e1c5-1ed5-4402-a2ec-50ed752e2a11",
   "metadata": {
    "execution": {
     "iopub.execute_input": "2025-03-14T21:51:23.797558Z",
     "iopub.status.busy": "2025-03-14T21:51:23.797369Z",
     "iopub.status.idle": "2025-03-14T21:51:23.800279Z",
     "shell.execute_reply": "2025-03-14T21:51:23.799665Z",
     "shell.execute_reply.started": "2025-03-14T21:51:23.797534Z"
    }
   },
   "outputs": [],
   "source": [
    " # or LGBMClassifier()\n",
    "lgbm_model = lgb.LGBMRegressor(verbose=-1) #verbose used to remove warnings from the display"
   ]
  },
  {
   "cell_type": "code",
   "execution_count": 82,
   "id": "55cbae23-0e65-4b52-b22f-2859f1c7e7e6",
   "metadata": {
    "execution": {
     "iopub.execute_input": "2025-03-14T21:51:23.801439Z",
     "iopub.status.busy": "2025-03-14T21:51:23.801168Z",
     "iopub.status.idle": "2025-03-14T21:51:23.816387Z",
     "shell.execute_reply": "2025-03-14T21:51:23.815869Z",
     "shell.execute_reply.started": "2025-03-14T21:51:23.801426Z"
    }
   },
   "outputs": [],
   "source": [
    "lgbm_params = {\n",
    "    'n_estimators': [100, 500, 1000],\n",
    "    'max_depth': [3, 5, 7],\n",
    "    'learning_rate': [0.01, 0.002, 0.0005]    \n",
    "}"
   ]
  },
  {
   "cell_type": "code",
   "execution_count": 83,
   "id": "eade0c39-32a8-4791-9ece-bbb37e7b30f9",
   "metadata": {
    "execution": {
     "iopub.execute_input": "2025-03-14T21:51:23.817000Z",
     "iopub.status.busy": "2025-03-14T21:51:23.816823Z",
     "iopub.status.idle": "2025-03-14T21:51:23.819470Z",
     "shell.execute_reply": "2025-03-14T21:51:23.818864Z",
     "shell.execute_reply.started": "2025-03-14T21:51:23.816988Z"
    }
   },
   "outputs": [],
   "source": [
    "lgbm_grid_cv = GridSearchCV(lgbm_model, param_grid=lgbm_params, cv=cv, n_jobs=4)"
   ]
  },
  {
   "cell_type": "code",
   "execution_count": 84,
   "id": "f63e8113-27f7-4149-b27f-5c4cefe69026",
   "metadata": {
    "execution": {
     "iopub.execute_input": "2025-03-14T21:51:23.820283Z",
     "iopub.status.busy": "2025-03-14T21:51:23.820127Z",
     "iopub.status.idle": "2025-03-14T21:52:19.881612Z",
     "shell.execute_reply": "2025-03-14T21:52:19.880974Z",
     "shell.execute_reply.started": "2025-03-14T21:51:23.820272Z"
    }
   },
   "outputs": [
    {
     "data": {
      "text/html": [
       "<style>#sk-container-id-6 {\n",
       "  /* Definition of color scheme common for light and dark mode */\n",
       "  --sklearn-color-text: #000;\n",
       "  --sklearn-color-text-muted: #666;\n",
       "  --sklearn-color-line: gray;\n",
       "  /* Definition of color scheme for unfitted estimators */\n",
       "  --sklearn-color-unfitted-level-0: #fff5e6;\n",
       "  --sklearn-color-unfitted-level-1: #f6e4d2;\n",
       "  --sklearn-color-unfitted-level-2: #ffe0b3;\n",
       "  --sklearn-color-unfitted-level-3: chocolate;\n",
       "  /* Definition of color scheme for fitted estimators */\n",
       "  --sklearn-color-fitted-level-0: #f0f8ff;\n",
       "  --sklearn-color-fitted-level-1: #d4ebff;\n",
       "  --sklearn-color-fitted-level-2: #b3dbfd;\n",
       "  --sklearn-color-fitted-level-3: cornflowerblue;\n",
       "\n",
       "  /* Specific color for light theme */\n",
       "  --sklearn-color-text-on-default-background: var(--sg-text-color, var(--theme-code-foreground, var(--jp-content-font-color1, black)));\n",
       "  --sklearn-color-background: var(--sg-background-color, var(--theme-background, var(--jp-layout-color0, white)));\n",
       "  --sklearn-color-border-box: var(--sg-text-color, var(--theme-code-foreground, var(--jp-content-font-color1, black)));\n",
       "  --sklearn-color-icon: #696969;\n",
       "\n",
       "  @media (prefers-color-scheme: dark) {\n",
       "    /* Redefinition of color scheme for dark theme */\n",
       "    --sklearn-color-text-on-default-background: var(--sg-text-color, var(--theme-code-foreground, var(--jp-content-font-color1, white)));\n",
       "    --sklearn-color-background: var(--sg-background-color, var(--theme-background, var(--jp-layout-color0, #111)));\n",
       "    --sklearn-color-border-box: var(--sg-text-color, var(--theme-code-foreground, var(--jp-content-font-color1, white)));\n",
       "    --sklearn-color-icon: #878787;\n",
       "  }\n",
       "}\n",
       "\n",
       "#sk-container-id-6 {\n",
       "  color: var(--sklearn-color-text);\n",
       "}\n",
       "\n",
       "#sk-container-id-6 pre {\n",
       "  padding: 0;\n",
       "}\n",
       "\n",
       "#sk-container-id-6 input.sk-hidden--visually {\n",
       "  border: 0;\n",
       "  clip: rect(1px 1px 1px 1px);\n",
       "  clip: rect(1px, 1px, 1px, 1px);\n",
       "  height: 1px;\n",
       "  margin: -1px;\n",
       "  overflow: hidden;\n",
       "  padding: 0;\n",
       "  position: absolute;\n",
       "  width: 1px;\n",
       "}\n",
       "\n",
       "#sk-container-id-6 div.sk-dashed-wrapped {\n",
       "  border: 1px dashed var(--sklearn-color-line);\n",
       "  margin: 0 0.4em 0.5em 0.4em;\n",
       "  box-sizing: border-box;\n",
       "  padding-bottom: 0.4em;\n",
       "  background-color: var(--sklearn-color-background);\n",
       "}\n",
       "\n",
       "#sk-container-id-6 div.sk-container {\n",
       "  /* jupyter's `normalize.less` sets `[hidden] { display: none; }`\n",
       "     but bootstrap.min.css set `[hidden] { display: none !important; }`\n",
       "     so we also need the `!important` here to be able to override the\n",
       "     default hidden behavior on the sphinx rendered scikit-learn.org.\n",
       "     See: https://github.com/scikit-learn/scikit-learn/issues/21755 */\n",
       "  display: inline-block !important;\n",
       "  position: relative;\n",
       "}\n",
       "\n",
       "#sk-container-id-6 div.sk-text-repr-fallback {\n",
       "  display: none;\n",
       "}\n",
       "\n",
       "div.sk-parallel-item,\n",
       "div.sk-serial,\n",
       "div.sk-item {\n",
       "  /* draw centered vertical line to link estimators */\n",
       "  background-image: linear-gradient(var(--sklearn-color-text-on-default-background), var(--sklearn-color-text-on-default-background));\n",
       "  background-size: 2px 100%;\n",
       "  background-repeat: no-repeat;\n",
       "  background-position: center center;\n",
       "}\n",
       "\n",
       "/* Parallel-specific style estimator block */\n",
       "\n",
       "#sk-container-id-6 div.sk-parallel-item::after {\n",
       "  content: \"\";\n",
       "  width: 100%;\n",
       "  border-bottom: 2px solid var(--sklearn-color-text-on-default-background);\n",
       "  flex-grow: 1;\n",
       "}\n",
       "\n",
       "#sk-container-id-6 div.sk-parallel {\n",
       "  display: flex;\n",
       "  align-items: stretch;\n",
       "  justify-content: center;\n",
       "  background-color: var(--sklearn-color-background);\n",
       "  position: relative;\n",
       "}\n",
       "\n",
       "#sk-container-id-6 div.sk-parallel-item {\n",
       "  display: flex;\n",
       "  flex-direction: column;\n",
       "}\n",
       "\n",
       "#sk-container-id-6 div.sk-parallel-item:first-child::after {\n",
       "  align-self: flex-end;\n",
       "  width: 50%;\n",
       "}\n",
       "\n",
       "#sk-container-id-6 div.sk-parallel-item:last-child::after {\n",
       "  align-self: flex-start;\n",
       "  width: 50%;\n",
       "}\n",
       "\n",
       "#sk-container-id-6 div.sk-parallel-item:only-child::after {\n",
       "  width: 0;\n",
       "}\n",
       "\n",
       "/* Serial-specific style estimator block */\n",
       "\n",
       "#sk-container-id-6 div.sk-serial {\n",
       "  display: flex;\n",
       "  flex-direction: column;\n",
       "  align-items: center;\n",
       "  background-color: var(--sklearn-color-background);\n",
       "  padding-right: 1em;\n",
       "  padding-left: 1em;\n",
       "}\n",
       "\n",
       "\n",
       "/* Toggleable style: style used for estimator/Pipeline/ColumnTransformer box that is\n",
       "clickable and can be expanded/collapsed.\n",
       "- Pipeline and ColumnTransformer use this feature and define the default style\n",
       "- Estimators will overwrite some part of the style using the `sk-estimator` class\n",
       "*/\n",
       "\n",
       "/* Pipeline and ColumnTransformer style (default) */\n",
       "\n",
       "#sk-container-id-6 div.sk-toggleable {\n",
       "  /* Default theme specific background. It is overwritten whether we have a\n",
       "  specific estimator or a Pipeline/ColumnTransformer */\n",
       "  background-color: var(--sklearn-color-background);\n",
       "}\n",
       "\n",
       "/* Toggleable label */\n",
       "#sk-container-id-6 label.sk-toggleable__label {\n",
       "  cursor: pointer;\n",
       "  display: flex;\n",
       "  width: 100%;\n",
       "  margin-bottom: 0;\n",
       "  padding: 0.5em;\n",
       "  box-sizing: border-box;\n",
       "  text-align: center;\n",
       "  align-items: start;\n",
       "  justify-content: space-between;\n",
       "  gap: 0.5em;\n",
       "}\n",
       "\n",
       "#sk-container-id-6 label.sk-toggleable__label .caption {\n",
       "  font-size: 0.6rem;\n",
       "  font-weight: lighter;\n",
       "  color: var(--sklearn-color-text-muted);\n",
       "}\n",
       "\n",
       "#sk-container-id-6 label.sk-toggleable__label-arrow:before {\n",
       "  /* Arrow on the left of the label */\n",
       "  content: \"▸\";\n",
       "  float: left;\n",
       "  margin-right: 0.25em;\n",
       "  color: var(--sklearn-color-icon);\n",
       "}\n",
       "\n",
       "#sk-container-id-6 label.sk-toggleable__label-arrow:hover:before {\n",
       "  color: var(--sklearn-color-text);\n",
       "}\n",
       "\n",
       "/* Toggleable content - dropdown */\n",
       "\n",
       "#sk-container-id-6 div.sk-toggleable__content {\n",
       "  max-height: 0;\n",
       "  max-width: 0;\n",
       "  overflow: hidden;\n",
       "  text-align: left;\n",
       "  /* unfitted */\n",
       "  background-color: var(--sklearn-color-unfitted-level-0);\n",
       "}\n",
       "\n",
       "#sk-container-id-6 div.sk-toggleable__content.fitted {\n",
       "  /* fitted */\n",
       "  background-color: var(--sklearn-color-fitted-level-0);\n",
       "}\n",
       "\n",
       "#sk-container-id-6 div.sk-toggleable__content pre {\n",
       "  margin: 0.2em;\n",
       "  border-radius: 0.25em;\n",
       "  color: var(--sklearn-color-text);\n",
       "  /* unfitted */\n",
       "  background-color: var(--sklearn-color-unfitted-level-0);\n",
       "}\n",
       "\n",
       "#sk-container-id-6 div.sk-toggleable__content.fitted pre {\n",
       "  /* unfitted */\n",
       "  background-color: var(--sklearn-color-fitted-level-0);\n",
       "}\n",
       "\n",
       "#sk-container-id-6 input.sk-toggleable__control:checked~div.sk-toggleable__content {\n",
       "  /* Expand drop-down */\n",
       "  max-height: 200px;\n",
       "  max-width: 100%;\n",
       "  overflow: auto;\n",
       "}\n",
       "\n",
       "#sk-container-id-6 input.sk-toggleable__control:checked~label.sk-toggleable__label-arrow:before {\n",
       "  content: \"▾\";\n",
       "}\n",
       "\n",
       "/* Pipeline/ColumnTransformer-specific style */\n",
       "\n",
       "#sk-container-id-6 div.sk-label input.sk-toggleable__control:checked~label.sk-toggleable__label {\n",
       "  color: var(--sklearn-color-text);\n",
       "  background-color: var(--sklearn-color-unfitted-level-2);\n",
       "}\n",
       "\n",
       "#sk-container-id-6 div.sk-label.fitted input.sk-toggleable__control:checked~label.sk-toggleable__label {\n",
       "  background-color: var(--sklearn-color-fitted-level-2);\n",
       "}\n",
       "\n",
       "/* Estimator-specific style */\n",
       "\n",
       "/* Colorize estimator box */\n",
       "#sk-container-id-6 div.sk-estimator input.sk-toggleable__control:checked~label.sk-toggleable__label {\n",
       "  /* unfitted */\n",
       "  background-color: var(--sklearn-color-unfitted-level-2);\n",
       "}\n",
       "\n",
       "#sk-container-id-6 div.sk-estimator.fitted input.sk-toggleable__control:checked~label.sk-toggleable__label {\n",
       "  /* fitted */\n",
       "  background-color: var(--sklearn-color-fitted-level-2);\n",
       "}\n",
       "\n",
       "#sk-container-id-6 div.sk-label label.sk-toggleable__label,\n",
       "#sk-container-id-6 div.sk-label label {\n",
       "  /* The background is the default theme color */\n",
       "  color: var(--sklearn-color-text-on-default-background);\n",
       "}\n",
       "\n",
       "/* On hover, darken the color of the background */\n",
       "#sk-container-id-6 div.sk-label:hover label.sk-toggleable__label {\n",
       "  color: var(--sklearn-color-text);\n",
       "  background-color: var(--sklearn-color-unfitted-level-2);\n",
       "}\n",
       "\n",
       "/* Label box, darken color on hover, fitted */\n",
       "#sk-container-id-6 div.sk-label.fitted:hover label.sk-toggleable__label.fitted {\n",
       "  color: var(--sklearn-color-text);\n",
       "  background-color: var(--sklearn-color-fitted-level-2);\n",
       "}\n",
       "\n",
       "/* Estimator label */\n",
       "\n",
       "#sk-container-id-6 div.sk-label label {\n",
       "  font-family: monospace;\n",
       "  font-weight: bold;\n",
       "  display: inline-block;\n",
       "  line-height: 1.2em;\n",
       "}\n",
       "\n",
       "#sk-container-id-6 div.sk-label-container {\n",
       "  text-align: center;\n",
       "}\n",
       "\n",
       "/* Estimator-specific */\n",
       "#sk-container-id-6 div.sk-estimator {\n",
       "  font-family: monospace;\n",
       "  border: 1px dotted var(--sklearn-color-border-box);\n",
       "  border-radius: 0.25em;\n",
       "  box-sizing: border-box;\n",
       "  margin-bottom: 0.5em;\n",
       "  /* unfitted */\n",
       "  background-color: var(--sklearn-color-unfitted-level-0);\n",
       "}\n",
       "\n",
       "#sk-container-id-6 div.sk-estimator.fitted {\n",
       "  /* fitted */\n",
       "  background-color: var(--sklearn-color-fitted-level-0);\n",
       "}\n",
       "\n",
       "/* on hover */\n",
       "#sk-container-id-6 div.sk-estimator:hover {\n",
       "  /* unfitted */\n",
       "  background-color: var(--sklearn-color-unfitted-level-2);\n",
       "}\n",
       "\n",
       "#sk-container-id-6 div.sk-estimator.fitted:hover {\n",
       "  /* fitted */\n",
       "  background-color: var(--sklearn-color-fitted-level-2);\n",
       "}\n",
       "\n",
       "/* Specification for estimator info (e.g. \"i\" and \"?\") */\n",
       "\n",
       "/* Common style for \"i\" and \"?\" */\n",
       "\n",
       ".sk-estimator-doc-link,\n",
       "a:link.sk-estimator-doc-link,\n",
       "a:visited.sk-estimator-doc-link {\n",
       "  float: right;\n",
       "  font-size: smaller;\n",
       "  line-height: 1em;\n",
       "  font-family: monospace;\n",
       "  background-color: var(--sklearn-color-background);\n",
       "  border-radius: 1em;\n",
       "  height: 1em;\n",
       "  width: 1em;\n",
       "  text-decoration: none !important;\n",
       "  margin-left: 0.5em;\n",
       "  text-align: center;\n",
       "  /* unfitted */\n",
       "  border: var(--sklearn-color-unfitted-level-1) 1pt solid;\n",
       "  color: var(--sklearn-color-unfitted-level-1);\n",
       "}\n",
       "\n",
       ".sk-estimator-doc-link.fitted,\n",
       "a:link.sk-estimator-doc-link.fitted,\n",
       "a:visited.sk-estimator-doc-link.fitted {\n",
       "  /* fitted */\n",
       "  border: var(--sklearn-color-fitted-level-1) 1pt solid;\n",
       "  color: var(--sklearn-color-fitted-level-1);\n",
       "}\n",
       "\n",
       "/* On hover */\n",
       "div.sk-estimator:hover .sk-estimator-doc-link:hover,\n",
       ".sk-estimator-doc-link:hover,\n",
       "div.sk-label-container:hover .sk-estimator-doc-link:hover,\n",
       ".sk-estimator-doc-link:hover {\n",
       "  /* unfitted */\n",
       "  background-color: var(--sklearn-color-unfitted-level-3);\n",
       "  color: var(--sklearn-color-background);\n",
       "  text-decoration: none;\n",
       "}\n",
       "\n",
       "div.sk-estimator.fitted:hover .sk-estimator-doc-link.fitted:hover,\n",
       ".sk-estimator-doc-link.fitted:hover,\n",
       "div.sk-label-container:hover .sk-estimator-doc-link.fitted:hover,\n",
       ".sk-estimator-doc-link.fitted:hover {\n",
       "  /* fitted */\n",
       "  background-color: var(--sklearn-color-fitted-level-3);\n",
       "  color: var(--sklearn-color-background);\n",
       "  text-decoration: none;\n",
       "}\n",
       "\n",
       "/* Span, style for the box shown on hovering the info icon */\n",
       ".sk-estimator-doc-link span {\n",
       "  display: none;\n",
       "  z-index: 9999;\n",
       "  position: relative;\n",
       "  font-weight: normal;\n",
       "  right: .2ex;\n",
       "  padding: .5ex;\n",
       "  margin: .5ex;\n",
       "  width: min-content;\n",
       "  min-width: 20ex;\n",
       "  max-width: 50ex;\n",
       "  color: var(--sklearn-color-text);\n",
       "  box-shadow: 2pt 2pt 4pt #999;\n",
       "  /* unfitted */\n",
       "  background: var(--sklearn-color-unfitted-level-0);\n",
       "  border: .5pt solid var(--sklearn-color-unfitted-level-3);\n",
       "}\n",
       "\n",
       ".sk-estimator-doc-link.fitted span {\n",
       "  /* fitted */\n",
       "  background: var(--sklearn-color-fitted-level-0);\n",
       "  border: var(--sklearn-color-fitted-level-3);\n",
       "}\n",
       "\n",
       ".sk-estimator-doc-link:hover span {\n",
       "  display: block;\n",
       "}\n",
       "\n",
       "/* \"?\"-specific style due to the `<a>` HTML tag */\n",
       "\n",
       "#sk-container-id-6 a.estimator_doc_link {\n",
       "  float: right;\n",
       "  font-size: 1rem;\n",
       "  line-height: 1em;\n",
       "  font-family: monospace;\n",
       "  background-color: var(--sklearn-color-background);\n",
       "  border-radius: 1rem;\n",
       "  height: 1rem;\n",
       "  width: 1rem;\n",
       "  text-decoration: none;\n",
       "  /* unfitted */\n",
       "  color: var(--sklearn-color-unfitted-level-1);\n",
       "  border: var(--sklearn-color-unfitted-level-1) 1pt solid;\n",
       "}\n",
       "\n",
       "#sk-container-id-6 a.estimator_doc_link.fitted {\n",
       "  /* fitted */\n",
       "  border: var(--sklearn-color-fitted-level-1) 1pt solid;\n",
       "  color: var(--sklearn-color-fitted-level-1);\n",
       "}\n",
       "\n",
       "/* On hover */\n",
       "#sk-container-id-6 a.estimator_doc_link:hover {\n",
       "  /* unfitted */\n",
       "  background-color: var(--sklearn-color-unfitted-level-3);\n",
       "  color: var(--sklearn-color-background);\n",
       "  text-decoration: none;\n",
       "}\n",
       "\n",
       "#sk-container-id-6 a.estimator_doc_link.fitted:hover {\n",
       "  /* fitted */\n",
       "  background-color: var(--sklearn-color-fitted-level-3);\n",
       "}\n",
       "</style><div id=\"sk-container-id-6\" class=\"sk-top-container\"><div class=\"sk-text-repr-fallback\"><pre>GridSearchCV(cv=3, estimator=LGBMRegressor(verbose=-1), n_jobs=4,\n",
       "             param_grid={&#x27;learning_rate&#x27;: [0.01, 0.002, 0.0005],\n",
       "                         &#x27;max_depth&#x27;: [3, 5, 7],\n",
       "                         &#x27;n_estimators&#x27;: [100, 500, 1000]})</pre><b>In a Jupyter environment, please rerun this cell to show the HTML representation or trust the notebook. <br />On GitHub, the HTML representation is unable to render, please try loading this page with nbviewer.org.</b></div><div class=\"sk-container\" hidden><div class=\"sk-item sk-dashed-wrapped\"><div class=\"sk-label-container\"><div class=\"sk-label fitted sk-toggleable\"><input class=\"sk-toggleable__control sk-hidden--visually\" id=\"sk-estimator-id-27\" type=\"checkbox\" ><label for=\"sk-estimator-id-27\" class=\"sk-toggleable__label fitted sk-toggleable__label-arrow\"><div><div>GridSearchCV</div></div><div><a class=\"sk-estimator-doc-link fitted\" rel=\"noreferrer\" target=\"_blank\" href=\"https://scikit-learn.org/1.6/modules/generated/sklearn.model_selection.GridSearchCV.html\">?<span>Documentation for GridSearchCV</span></a><span class=\"sk-estimator-doc-link fitted\">i<span>Fitted</span></span></div></label><div class=\"sk-toggleable__content fitted\"><pre>GridSearchCV(cv=3, estimator=LGBMRegressor(verbose=-1), n_jobs=4,\n",
       "             param_grid={&#x27;learning_rate&#x27;: [0.01, 0.002, 0.0005],\n",
       "                         &#x27;max_depth&#x27;: [3, 5, 7],\n",
       "                         &#x27;n_estimators&#x27;: [100, 500, 1000]})</pre></div> </div></div><div class=\"sk-parallel\"><div class=\"sk-parallel-item\"><div class=\"sk-item\"><div class=\"sk-label-container\"><div class=\"sk-label fitted sk-toggleable\"><input class=\"sk-toggleable__control sk-hidden--visually\" id=\"sk-estimator-id-28\" type=\"checkbox\" ><label for=\"sk-estimator-id-28\" class=\"sk-toggleable__label fitted sk-toggleable__label-arrow\"><div><div>best_estimator_: LGBMRegressor</div></div></label><div class=\"sk-toggleable__content fitted\"><pre>LGBMRegressor(learning_rate=0.01, max_depth=7, n_estimators=1000, verbose=-1)</pre></div> </div></div><div class=\"sk-serial\"><div class=\"sk-item\"><div class=\"sk-estimator fitted sk-toggleable\"><input class=\"sk-toggleable__control sk-hidden--visually\" id=\"sk-estimator-id-29\" type=\"checkbox\" ><label for=\"sk-estimator-id-29\" class=\"sk-toggleable__label fitted sk-toggleable__label-arrow\"><div><div>LGBMRegressor</div></div></label><div class=\"sk-toggleable__content fitted\"><pre>LGBMRegressor(learning_rate=0.01, max_depth=7, n_estimators=1000, verbose=-1)</pre></div> </div></div></div></div></div></div></div></div></div>"
      ],
      "text/plain": [
       "GridSearchCV(cv=3, estimator=LGBMRegressor(verbose=-1), n_jobs=4,\n",
       "             param_grid={'learning_rate': [0.01, 0.002, 0.0005],\n",
       "                         'max_depth': [3, 5, 7],\n",
       "                         'n_estimators': [100, 500, 1000]})"
      ]
     },
     "execution_count": 84,
     "metadata": {},
     "output_type": "execute_result"
    }
   ],
   "source": [
    "lgbm_grid_cv.fit(X_train, y_train)"
   ]
  },
  {
   "cell_type": "code",
   "execution_count": 85,
   "id": "c74ffced-6365-4caa-a579-fca3ef7391b1",
   "metadata": {
    "execution": {
     "iopub.execute_input": "2025-03-14T21:52:19.883263Z",
     "iopub.status.busy": "2025-03-14T21:52:19.882763Z",
     "iopub.status.idle": "2025-03-14T21:52:19.887959Z",
     "shell.execute_reply": "2025-03-14T21:52:19.887070Z",
     "shell.execute_reply.started": "2025-03-14T21:52:19.883242Z"
    }
   },
   "outputs": [
    {
     "data": {
      "text/plain": [
       "{'learning_rate': 0.01, 'max_depth': 7, 'n_estimators': 1000}"
      ]
     },
     "execution_count": 85,
     "metadata": {},
     "output_type": "execute_result"
    }
   ],
   "source": [
    "lgbm_grid_cv.best_params_"
   ]
  },
  {
   "cell_type": "markdown",
   "id": "d90220fa-74d8-448e-856a-346ccdaea3ad",
   "metadata": {},
   "source": [
    "<div class=\"alert alert-info\">\n",
    "LightGBM is a very fast model. <br><br>\n",
    "\n",
    "  A learning rate of 0.2 is the best rate for model adjustments. Any higher number might introduce overfitting.<br>\n",
    "  Since the speed of execution of LightGBM is not an issues, we will not worry about the number of trees like we did with Random Forest Model.\n",
    "</div>"
   ]
  },
  {
   "cell_type": "code",
   "execution_count": 86,
   "id": "dc7a3210-791c-469b-a1d0-45515433edd8",
   "metadata": {
    "execution": {
     "iopub.execute_input": "2025-03-14T21:52:19.889492Z",
     "iopub.status.busy": "2025-03-14T21:52:19.888950Z",
     "iopub.status.idle": "2025-03-14T21:52:26.657146Z",
     "shell.execute_reply": "2025-03-14T21:52:26.655962Z",
     "shell.execute_reply.started": "2025-03-14T21:52:19.889472Z"
    }
   },
   "outputs": [
    {
     "data": {
      "text/plain": [
       "array([0.76669544, 0.77253519, 0.70597024, 0.77058649, 0.78778128])"
      ]
     },
     "execution_count": 86,
     "metadata": {},
     "output_type": "execute_result"
    }
   ],
   "source": [
    "# Cross-Validate the Best Model\n",
    "lgbm_best_cv_results = cross_validate(lgbm_grid_cv.best_estimator_, X_train, y_train, cv=5)\n",
    "\n",
    "# Extract and Display Scores\n",
    "lgbm_best_scores = lgbm_best_cv_results['test_score']\n",
    "lgbm_best_scores"
   ]
  },
  {
   "cell_type": "code",
   "execution_count": 87,
   "id": "6e1bf993-0537-4967-b4f4-3447064b43d9",
   "metadata": {
    "execution": {
     "iopub.execute_input": "2025-03-14T21:52:26.658959Z",
     "iopub.status.busy": "2025-03-14T21:52:26.658389Z",
     "iopub.status.idle": "2025-03-14T21:52:26.664602Z",
     "shell.execute_reply": "2025-03-14T21:52:26.663369Z",
     "shell.execute_reply.started": "2025-03-14T21:52:26.658931Z"
    }
   },
   "outputs": [
    {
     "data": {
      "text/plain": [
       "(np.float64(0.7607137297912675), np.float64(0.028293111645374132))"
      ]
     },
     "execution_count": 87,
     "metadata": {},
     "output_type": "execute_result"
    }
   ],
   "source": [
    "np.mean(lgbm_best_scores), np.std(lgbm_best_scores)"
   ]
  },
  {
   "cell_type": "code",
   "execution_count": 88,
   "id": "1de41500-8404-4291-86dc-3a86fe135cd7",
   "metadata": {
    "execution": {
     "iopub.execute_input": "2025-03-14T21:52:26.666059Z",
     "iopub.status.busy": "2025-03-14T21:52:26.665632Z",
     "iopub.status.idle": "2025-03-14T21:52:26.885654Z",
     "shell.execute_reply": "2025-03-14T21:52:26.885249Z",
     "shell.execute_reply.started": "2025-03-14T21:52:26.666030Z"
    }
   },
   "outputs": [
    {
     "data": {
      "image/png": "[encoded data removed]",
      "text/plain": [
       "<Figure size 1000x500 with 1 Axes>"
      ]
     },
     "metadata": {},
     "output_type": "display_data"
    }
   ],
   "source": [
    "#Plot a barplot of the random forest's feature importances,\n",
    "#assigning the `feature_importances_` attribute of \n",
    "#`lgbm_grid_cv.best_estimator_.named_steps.randomforestregressor` to the name `imps` to then\n",
    "#create a pandas Series object of the feature importances, with the index given by the\n",
    "#training data column names, sorting the values in descending order\n",
    "plt.subplots(figsize=(10, 5))\n",
    "imps = lgbm_grid_cv.best_estimator_.feature_importances_\n",
    "lgbm_feat_imps = pd.Series(imps, index=X_train.columns).sort_values(ascending=False)\n",
    "lgbm_feat_imps.plot(kind='bar')\n",
    "plt.xlabel('features')\n",
    "plt.ylabel('importance')\n",
    "plt.title('Best LightGBM Regressor Feature Importances');"
   ]
  },
  {
   "cell_type": "code",
   "execution_count": 89,
   "id": "306812c2-ee6f-4f91-85b1-79eac344b471",
   "metadata": {
    "execution": {
     "iopub.execute_input": "2025-03-14T21:52:26.886566Z",
     "iopub.status.busy": "2025-03-14T21:52:26.886391Z",
     "iopub.status.idle": "2025-03-14T21:52:26.890253Z",
     "shell.execute_reply": "2025-03-14T21:52:26.889415Z",
     "shell.execute_reply.started": "2025-03-14T21:52:26.886555Z"
    }
   },
   "outputs": [
    {
     "data": {
      "text/plain": [
       "(54015, 26)"
      ]
     },
     "execution_count": 89,
     "metadata": {},
     "output_type": "execute_result"
    }
   ],
   "source": [
    "X_train.shape"
   ]
  },
  {
   "cell_type": "code",
   "execution_count": 90,
   "id": "0ce0a0f0-7a14-439c-baeb-38764da24b68",
   "metadata": {
    "execution": {
     "iopub.execute_input": "2025-03-14T21:52:26.891398Z",
     "iopub.status.busy": "2025-03-14T21:52:26.891016Z",
     "iopub.status.idle": "2025-03-14T21:52:27.006322Z",
     "shell.execute_reply": "2025-03-14T21:52:27.005494Z",
     "shell.execute_reply.started": "2025-03-14T21:52:26.891376Z"
    }
   },
   "outputs": [
    {
     "data": {
      "image/png": "[encoded data removed]",
      "text/plain": [
       "<Figure size 1000x500 with 1 Axes>"
      ]
     },
     "metadata": {},
     "output_type": "display_data"
    }
   ],
   "source": [
    "plt.subplots(figsize=(10, 5))\n",
    "\n",
    "# Get coefficients from the linear regression model\n",
    "coefs = lr_grid_cv.best_estimator_.named_steps.linearregression.coef_\n",
    "\n",
    "# Get the indices of the selected features\n",
    "selected_indices = lr_grid_cv.best_estimator_.named_steps.selectkbest.get_support()\n",
    "\n",
    "# Create a pandas Series for coefficients with the correct index\n",
    "lr_feat_coefs = pd.Series(coefs, index=X_train.columns[selected_indices]).sort_values(ascending=False)\n",
    "\n",
    "# Plot the coefficients\n",
    "lr_feat_coefs.plot(kind='bar')\n",
    "\n",
    "plt.xlabel('features')\n",
    "plt.ylabel('coefficient')\n",
    "plt.title('Best Linear Regression Feature Coefficients (SelectKBest)');"
   ]
  },
  {
   "cell_type": "markdown",
   "id": "3fdaf667-5271-4345-bd2b-4f47627f0572",
   "metadata": {},
   "source": [
    "<div class=\"alert alert-info\">We notice that gtgrisk is an important feature in linear regression model performance and random forest model.<br>\n",
    "    Wellness is at the low end for linear regression model but the most important feature for random forest model.<br>\n",
    "    LightGBM has wellness and gtgrisk at the middle or lower end, respectively. <br><br>\n",
    "    Linear Regression → Prefers few dominant features with strong linear relationships.<br>\n",
    "Random Forest → Balances importance across features, prefers those with high variance reduction.<br>\n",
    "LightGBM → Focuses on features that improve performance in boosting rounds.<br><br>\n",
    "    Below the yellow markdown sections, we will evaluate the performance of each model.\n",
    "</div>"
   ]
  },
  {
   "cell_type": "markdown",
   "id": "b5e5b6dd-03a4-40eb-8908-81fee038f38c",
   "metadata": {},
   "source": [
    "<div class=\"alert alert-warning\">This section in yellow markdown helped us realize that our data set was too large to effectively run on a pc.\n",
    "  \n",
    "   Hyperparameter search using RandomizedSearchCV<br><br>\n",
    "   <strong> We went back and reduced the data and split again for the purpose of the capstone<strong>\n",
    "\n",
    "</div>"
   ]
  },
  {
   "cell_type": "markdown",
   "id": "ead2c220-42ff-4e6b-85ab-4a00c94a9aa2",
   "metadata": {},
   "source": [
    "<div class=\"alert alert-warning\">\n",
    "#Call `RandomizedSearchCV` with the random forest pipeline, passing in the above `grid_params`\n",
    "#dict for parameters to evaluate, 3-fold cross-validation, and all available CPU cores (if desired)\n",
    "\n",
    "#Define a custom cross-validator that samples 50% of data in each split\n",
    "cv_strategy = ShuffleSplit(n_splits=3, train_size=0.5, random_state=42)\n",
    "\n",
    "rf_random_cv = RandomizedSearchCV(\n",
    "    RF_pipe, param_distributions=grid_params, \n",
    "    n_iter=20, cv=cv_strategy, n_jobs=-1, random_state=42\n",
    ")\n",
    "</div>"
   ]
  },
  {
   "cell_type": "markdown",
   "id": "f8953b56-9f34-457f-b6b2-a1bbc318fdb9",
   "metadata": {},
   "source": [
    "<div class=\"alert alert-warning\">\n",
    "#Now call the `RandomizerSearchCV`'s `fit()` method with `X_train` and `y_train` as arguments\n",
    "#to actually start the grid search. This may take a minute or two.\n",
    "rf_random_cv.fit(X_train, y_train)\n",
    "</div>"
   ]
  },
  {
   "cell_type": "markdown",
   "id": "f95786a1-724b-4ac7-b225-4472e60e05eb",
   "metadata": {},
   "source": [
    "<div class=\"alert alert-warning\">\n",
    "#Print the best params (`best_params_` attribute) from the grid search\n",
    "rf_random_cv.best_params_\n",
    "</div>"
   ]
  },
  {
   "cell_type": "markdown",
   "id": "1ccc2763-ee35-4a38-8a5b-3753ab294c81",
   "metadata": {},
   "source": [
    "<div class=\"alert alert-warning\">\n",
    "start_time = time.time()\n",
    "rf_best_cv_results = cross_validate(rf_random_cv.best_estimator_, X_train, y_train, cv=cv)\n",
    "rf_best_scores = rf_best_cv_results['test_score']\n",
    "rf_best_scores\n",
    "end_time = time.time()\n",
    "elapsed_time = end_time - start_time\n",
    "print(f\"Cell execution time: {elapsed_time:.4f} seconds\")\n",
    "</div>"
   ]
  },
  {
   "cell_type": "markdown",
   "id": "fae0bfb6-5640-42be-b3ad-76525d6f4937",
   "metadata": {},
   "source": [
    "<div class=\"alert alert-warning\">Even with RandomizerSearchCV and ShuffleSplit at 50%, run time takes long.<br>\n",
    "    Almonst 9 minutes\n",
    "</div>"
   ]
  },
  {
   "cell_type": "markdown",
   "id": "a997be73-4458-45ad-b935-183598f5a9f9",
   "metadata": {},
   "source": [
    "<div class=\"alert alert-warning\">np.mean(rf_best_scores), np.std(rf_best_scores)</div>"
   ]
  },
  {
   "cell_type": "markdown",
   "id": "10e9ab3a-9c7b-4e82-94ed-b82da909db6a",
   "metadata": {},
   "source": [
    "<div class=\"alert alert-warning\">\n",
    "#Plot a barplot of the random forest's feature importances,\n",
    "#assigning the `feature_importances_` attribute of \n",
    "#`rf_grid_cv.best_estimator_.named_steps.randomforestregressor` to the name `imps` to then\n",
    "#create a pandas Series object of the feature importances, with the index given by the\n",
    "#training data column names, sorting the values in descending order\n",
    "plt.subplots(figsize=(10, 5))\n",
    "imps = rf_random_cv.best_estimator_.named_steps.randomforestregressor.feature_importances_\n",
    "rf_feat_imps = pd.Series(imps, index=X_train.columns).sort_values(ascending=False)\n",
    "rf_feat_imps.plot(kind='bar')\n",
    "plt.xlabel('features')\n",
    "plt.ylabel('importance')\n",
    "plt.title('Best random forest regressor feature importances');\n",
    "</div>"
   ]
  },
  {
   "cell_type": "markdown",
   "id": "26934f3e-20bd-4c7c-8772-33a553b5c8e5",
   "metadata": {},
   "source": [
    "<div class=\"alert alert-info\"><strong>Final Model Selection</strong>\n",
    "</div>"
   ]
  },
  {
   "cell_type": "markdown",
   "id": "e3b6ed64-a2e8-4565-9591-e0921346d0f7",
   "metadata": {},
   "source": [
    "<div class=\"alert alert-info\">Linear regression model performance\n",
    "</div>"
   ]
  },
  {
   "cell_type": "code",
   "execution_count": 91,
   "id": "48a80ab9-9d48-4a03-90f2-d6b9b506bd00",
   "metadata": {
    "execution": {
     "iopub.execute_input": "2025-03-14T21:52:27.007501Z",
     "iopub.status.busy": "2025-03-14T21:52:27.007004Z",
     "iopub.status.idle": "2025-03-14T21:52:28.539008Z",
     "shell.execute_reply": "2025-03-14T21:52:28.538323Z",
     "shell.execute_reply.started": "2025-03-14T21:52:27.007486Z"
    }
   },
   "outputs": [],
   "source": [
    "# 'neg_mean_absolute_error' uses the (negative of) the mean absolute error\n",
    "lr_neg_mae = cross_validate(lr_grid_cv.best_estimator_, X_train, y_train, \n",
    "                            scoring='neg_mean_absolute_error', cv=cv, n_jobs=-1)\n"
   ]
  },
  {
   "cell_type": "code",
   "execution_count": 92,
   "id": "f6e60ee3-100c-44d9-af8b-4744f48f2e1b",
   "metadata": {
    "execution": {
     "iopub.execute_input": "2025-03-14T21:52:28.539951Z",
     "iopub.status.busy": "2025-03-14T21:52:28.539773Z",
     "iopub.status.idle": "2025-03-14T21:52:28.544991Z",
     "shell.execute_reply": "2025-03-14T21:52:28.544062Z",
     "shell.execute_reply.started": "2025-03-14T21:52:28.539940Z"
    }
   },
   "outputs": [
    {
     "data": {
      "text/plain": [
       "(np.float64(0.3179421740200716), np.float64(0.0015420791712984258))"
      ]
     },
     "execution_count": 92,
     "metadata": {},
     "output_type": "execute_result"
    }
   ],
   "source": [
    "lr_mae_mean = np.mean(-1 * lr_neg_mae['test_score'])\n",
    "lr_mae_std = np.std(-1 * lr_neg_mae['test_score'])\n",
    "lr_mae_mean, lr_mae_std"
   ]
  },
  {
   "cell_type": "code",
   "execution_count": 93,
   "id": "f24cd52d-99e9-4117-a00d-03c796443e5c",
   "metadata": {
    "execution": {
     "iopub.execute_input": "2025-03-14T21:52:28.546425Z",
     "iopub.status.busy": "2025-03-14T21:52:28.545978Z",
     "iopub.status.idle": "2025-03-14T21:52:28.572394Z",
     "shell.execute_reply": "2025-03-14T21:52:28.571568Z",
     "shell.execute_reply.started": "2025-03-14T21:52:28.546407Z"
    }
   },
   "outputs": [
    {
     "data": {
      "text/plain": [
       "0.32138356855351696"
      ]
     },
     "execution_count": 93,
     "metadata": {},
     "output_type": "execute_result"
    }
   ],
   "source": [
    "mean_absolute_error(y_test, lr_grid_cv.best_estimator_.predict(X_test))"
   ]
  },
  {
   "cell_type": "markdown",
   "id": "24afd82b-bcad-413a-8fff-2c5e9de16ff9",
   "metadata": {},
   "source": [
    "<div class=\"alert alert-info\">Random forest regression model performance\n",
    "</div>"
   ]
  },
  {
   "cell_type": "code",
   "execution_count": 94,
   "id": "e1a42e43-9f9c-4478-9c2c-5754bc15da50",
   "metadata": {
    "execution": {
     "iopub.execute_input": "2025-03-14T21:52:28.573193Z",
     "iopub.status.busy": "2025-03-14T21:52:28.572868Z",
     "iopub.status.idle": "2025-03-14T21:54:11.143272Z",
     "shell.execute_reply": "2025-03-14T21:54:11.141674Z",
     "shell.execute_reply.started": "2025-03-14T21:52:28.573178Z"
    }
   },
   "outputs": [],
   "source": [
    "rf_neg_mae = cross_validate(rf_grid_cv.best_estimator_, X_train, y_train, \n",
    "                            scoring='neg_mean_absolute_error', cv=cv, n_jobs=-1)"
   ]
  },
  {
   "cell_type": "code",
   "execution_count": 95,
   "id": "50a001ea-c47f-44de-8f34-beddd6b020a4",
   "metadata": {
    "execution": {
     "iopub.execute_input": "2025-03-14T21:54:11.145178Z",
     "iopub.status.busy": "2025-03-14T21:54:11.144893Z",
     "iopub.status.idle": "2025-03-14T21:54:11.150245Z",
     "shell.execute_reply": "2025-03-14T21:54:11.149220Z",
     "shell.execute_reply.started": "2025-03-14T21:54:11.145163Z"
    }
   },
   "outputs": [
    {
     "data": {
      "text/plain": [
       "(np.float64(0.10511274421126408), np.float64(0.0014389468227561095))"
      ]
     },
     "execution_count": 95,
     "metadata": {},
     "output_type": "execute_result"
    }
   ],
   "source": [
    "rf_mae_mean = np.mean(-1 * rf_neg_mae['test_score'])\n",
    "rf_mae_std = np.std(-1 * rf_neg_mae['test_score'])\n",
    "rf_mae_mean, rf_mae_std"
   ]
  },
  {
   "cell_type": "code",
   "execution_count": 96,
   "id": "1f663083-96fb-4638-92fc-4b45e9848206",
   "metadata": {
    "execution": {
     "iopub.execute_input": "2025-03-14T21:54:11.151905Z",
     "iopub.status.busy": "2025-03-14T21:54:11.151216Z",
     "iopub.status.idle": "2025-03-14T21:54:13.456678Z",
     "shell.execute_reply": "2025-03-14T21:54:13.456094Z",
     "shell.execute_reply.started": "2025-03-14T21:54:11.151885Z"
    }
   },
   "outputs": [
    {
     "data": {
      "text/plain": [
       "0.07747507810146802"
      ]
     },
     "execution_count": 96,
     "metadata": {},
     "output_type": "execute_result"
    }
   ],
   "source": [
    "mean_absolute_error(y_test, rf_grid_cv.best_estimator_.predict(X_test))"
   ]
  },
  {
   "cell_type": "markdown",
   "id": "17540527-1b1e-4098-98f0-c994eb7afa92",
   "metadata": {},
   "source": [
    "<div class=\"alert alert-info\">Grading Boosting Light GBM model performance\n",
    "</div>"
   ]
  },
  {
   "cell_type": "code",
   "execution_count": 97,
   "id": "43e08948-773a-4ee0-b67e-aeca739b4c1d",
   "metadata": {
    "execution": {
     "iopub.execute_input": "2025-03-14T21:54:13.457182Z",
     "iopub.status.busy": "2025-03-14T21:54:13.457021Z",
     "iopub.status.idle": "2025-03-14T21:54:19.291231Z",
     "shell.execute_reply": "2025-03-14T21:54:19.290372Z",
     "shell.execute_reply.started": "2025-03-14T21:54:13.457172Z"
    }
   },
   "outputs": [],
   "source": [
    "# Perform cross-validation for LightGBM\n",
    "lgbm_neg_mae = cross_validate(lgbm_grid_cv.best_estimator_, X_train, y_train, \n",
    "                              scoring='neg_mean_absolute_error', cv=cv, n_jobs=-1)"
   ]
  },
  {
   "cell_type": "code",
   "execution_count": 98,
   "id": "ab41a381-dcee-463c-90c6-60892b3a904d",
   "metadata": {
    "execution": {
     "iopub.execute_input": "2025-03-14T21:54:19.291961Z",
     "iopub.status.busy": "2025-03-14T21:54:19.291781Z",
     "iopub.status.idle": "2025-03-14T21:54:19.297331Z",
     "shell.execute_reply": "2025-03-14T21:54:19.296483Z",
     "shell.execute_reply.started": "2025-03-14T21:54:19.291950Z"
    }
   },
   "outputs": [
    {
     "data": {
      "text/plain": [
       "(np.float64(0.18957651566727995), np.float64(0.000892466857433782))"
      ]
     },
     "execution_count": 98,
     "metadata": {},
     "output_type": "execute_result"
    }
   ],
   "source": [
    "# Compute mean and standard deviation\n",
    "lgbm_mae_mean = np.mean(-1 * lgbm_neg_mae['test_score'])\n",
    "lgbm_mae_std = np.std(-1 * lgbm_neg_mae['test_score'])\n",
    "lgbm_mae_mean, lgbm_mae_std"
   ]
  },
  {
   "cell_type": "code",
   "execution_count": 99,
   "id": "8b2d9a30-bd5e-4d0d-b943-6a5075bd2880",
   "metadata": {
    "execution": {
     "iopub.execute_input": "2025-03-14T21:54:19.298336Z",
     "iopub.status.busy": "2025-03-14T21:54:19.298078Z",
     "iopub.status.idle": "2025-03-14T21:54:19.638346Z",
     "shell.execute_reply": "2025-03-14T21:54:19.637278Z",
     "shell.execute_reply.started": "2025-03-14T21:54:19.298322Z"
    }
   },
   "outputs": [
    {
     "data": {
      "text/plain": [
       "0.1859172329441017"
      ]
     },
     "execution_count": 99,
     "metadata": {},
     "output_type": "execute_result"
    }
   ],
   "source": [
    "# Compute MAE on test set\n",
    "mean_absolute_error(y_test, lgbm_grid_cv.best_estimator_.predict(X_test))"
   ]
  },
  {
   "cell_type": "markdown",
   "id": "28992e81-285f-406b-ac2e-69267475b5df",
   "metadata": {},
   "source": [
    "<div class=\"alert alert-info\">Based on the performance of the three models<br>\n",
    "    Random forest gives the best mean MAE (CV), the most stable Std Dev MAE (CV), and the best test set MAE.<br><br>\n",
    "    The choice is to go with random Forest model.\n",
    "</div>"
   ]
  },
  {
   "cell_type": "markdown",
   "id": "f867c7d4-c109-4972-8dbe-c5da63a71983",
   "metadata": {},
   "source": [
    "<div class=\"alert alert-info\"><strong>Data quantity assessment</strong>\n",
    "</div>"
   ]
  },
  {
   "cell_type": "code",
   "execution_count": 100,
   "id": "a57526b6-3d2f-4e5a-88e9-5d6a68de1777",
   "metadata": {
    "execution": {
     "iopub.execute_input": "2025-03-14T21:54:19.640016Z",
     "iopub.status.busy": "2025-03-14T21:54:19.639431Z",
     "iopub.status.idle": "2025-03-14T21:54:22.608691Z",
     "shell.execute_reply": "2025-03-14T21:54:22.608031Z",
     "shell.execute_reply.started": "2025-03-14T21:54:19.639993Z"
    }
   },
   "outputs": [],
   "source": [
    "fractions = [.2, .25, .3, .35, .4, .45, .5, .6, .75, .8, 1.0]\n",
    "train_size, train_scores, test_scores = learning_curve(pipe15, X_train, y_train, train_sizes=fractions)\n",
    "train_scores_mean = np.mean(train_scores, axis=1)\n",
    "train_scores_std = np.std(train_scores, axis=1)\n",
    "test_scores_mean = np.mean(test_scores, axis=1)\n",
    "test_scores_std = np.std(test_scores, axis=1)"
   ]
  },
  {
   "cell_type": "code",
   "execution_count": 101,
   "id": "a337c9ee-e142-4a1e-aa9e-0c8fddc5da74",
   "metadata": {
    "execution": {
     "iopub.execute_input": "2025-03-14T21:54:22.609355Z",
     "iopub.status.busy": "2025-03-14T21:54:22.609161Z",
     "iopub.status.idle": "2025-03-14T21:54:22.702172Z",
     "shell.execute_reply": "2025-03-14T21:54:22.701315Z",
     "shell.execute_reply.started": "2025-03-14T21:54:22.609340Z"
    }
   },
   "outputs": [
    {
     "data": {
      "image/png": "[encoded data removed]",
      "text/plain": [
       "<Figure size 1000x500 with 1 Axes>"
      ]
     },
     "metadata": {},
     "output_type": "display_data"
    }
   ],
   "source": [
    "plt.subplots(figsize=(10, 5))\n",
    "plt.errorbar(train_size, test_scores_mean, yerr=test_scores_std)\n",
    "plt.xlabel('Training set size')\n",
    "plt.ylabel('CV scores')\n",
    "plt.title('Cross-validation score as training set size increases');"
   ]
  },
  {
   "cell_type": "markdown",
   "id": "d9b42d99-570a-45b2-afc5-68133c06f8f5",
   "metadata": {},
   "source": [
    "<div class=\"alert alert-info\">We don't need more data to train.<br>\n",
    "    The flat line suggests no improvement inthe  model score as size increases\n",
    "</div>"
   ]
  },
  {
   "cell_type": "markdown",
   "id": "0975dbc1-1669-4207-844c-162d1ff051c6",
   "metadata": {},
   "source": [
    "<div class=\"alert alert-info\"><strong>Save best model object from pipeline</strong>\n",
    "</div>"
   ]
  },
  {
   "cell_type": "code",
   "execution_count": 102,
   "id": "a3c52b0e-2ccf-4ab2-ba03-4ec21aed9ff9",
   "metadata": {
    "execution": {
     "iopub.execute_input": "2025-03-14T21:54:22.702988Z",
     "iopub.status.busy": "2025-03-14T21:54:22.702780Z",
     "iopub.status.idle": "2025-03-14T21:54:22.706015Z",
     "shell.execute_reply": "2025-03-14T21:54:22.705295Z",
     "shell.execute_reply.started": "2025-03-14T21:54:22.702976Z"
    }
   },
   "outputs": [],
   "source": [
    "#This may not be \"production grade ML deployment\" practice, but adding some basic\n",
    "#information to your saved models can save your bacon in development.\n",
    "#Just what version model have you just loaded to reuse? What version of `sklearn`\n",
    "#created it? When did you make it?\n",
    "#Assign the pandas version number (`pd.__version__`) to the `pandas_version` attribute,\n",
    "#the numpy version (`np.__version__`) to the `numpy_version` attribute,\n",
    "#the sklearn version (`sklearn_version`) to the `sklearn_version` attribute,\n",
    "#and the current datetime (`datetime.datetime.now()`) to the `build_datetime` attribute\n",
    "#Let's call this model version '1.0'\n",
    "best_model = rf_grid_cv.best_estimator_\n",
    "\n",
    "# Add metadata\n",
    "best_model.metadata = {\n",
    "    \"version\": \"1.0\",\n",
    "    \"pandas_version\": pd.__version__,\n",
    "    \"numpy_version\": np.__version__,\n",
    "    \"sklearn_version\": sklearn.__version__,\n",
    "    \"X_columns\": list(X_train.columns),\n",
    "    \"build_datetime\": datetime.datetime.now().strftime(\"%Y-%m-%d %H:%M:%S\"),\n",
    "}\n"
   ]
  },
  {
   "cell_type": "code",
   "execution_count": 103,
   "id": "e0b0f266-9afb-4596-8215-e407b23c69e0",
   "metadata": {
    "execution": {
     "iopub.execute_input": "2025-03-14T21:54:22.707586Z",
     "iopub.status.busy": "2025-03-14T21:54:22.706923Z",
     "iopub.status.idle": "2025-03-14T21:54:25.333513Z",
     "shell.execute_reply": "2025-03-14T21:54:25.332740Z",
     "shell.execute_reply.started": "2025-03-14T21:54:22.707571Z"
    }
   },
   "outputs": [],
   "source": [
    "# Save the data \n",
    "\n",
    "datapath = '../data'\n",
    "# Specify the file path for health data\n",
    "file_path = f'{datapath}/health_record_data.csv'\n",
    "\n",
    "health_rec.to_csv(file_path, index=False)\n",
    "\n",
    "# Specify the file path for black race data\n",
    "file_path = f'{datapath}/black_race_data.csv'\n",
    "\n",
    "blk_race.to_csv(file_path, index=False)\n",
    "\n"
   ]
  },
  {
   "cell_type": "code",
   "execution_count": 104,
   "id": "17c36aca-40ff-406e-9fd6-9325f73f4a8f",
   "metadata": {
    "execution": {
     "iopub.execute_input": "2025-03-14T21:54:25.334150Z",
     "iopub.status.busy": "2025-03-14T21:54:25.334026Z",
     "iopub.status.idle": "2025-03-14T21:54:25.514579Z",
     "shell.execute_reply": "2025-03-14T21:54:25.513943Z",
     "shell.execute_reply.started": "2025-03-14T21:54:25.334141Z"
    }
   },
   "outputs": [
    {
     "name": "stdout",
     "output_type": "stream",
     "text": [
      "✅ Model saved successfully at: ../models\\health_care_access_model.pkl\n",
      "Model Version: 1.0\n",
      "Built On: 2025-03-14 14:54:22\n",
      "Features Used: 26 features\n",
      "Total execution time: 1981.84 seconds\n"
     ]
    }
   ],
   "source": [
    "\n",
    "\n",
    "# Define model path\n",
    "modelpath = '../models'\n",
    "os.makedirs(modelpath, exist_ok=True)  # Ensure directory exists\n",
    "\n",
    "# Define filename\n",
    "model_filename = os.path.join(modelpath, \"health_care_access_model.pkl\")\n",
    "\n",
    "try:\n",
    "    # Save the model\n",
    "    joblib.dump(best_model, model_filename)\n",
    "    \n",
    "    # Print confirmation\n",
    "    print(f\"✅ Model saved successfully at: {model_filename}\")\n",
    "    \n",
    "    # Print metadata\n",
    "    print(f\"Model Version: {best_model.metadata['version']}\")\n",
    "    print(f\"Built On: {best_model.metadata['build_datetime']}\")\n",
    "    print(f\"Features Used: {len(best_model.metadata['X_columns'])} features\")\n",
    "    \n",
    "except Exception as e:\n",
    "    print(f\"❌ Error saving model: {e}\")\n",
    "\n",
    "#Stop the timer to check the execution time of the notebook.\n",
    "end_time = time.time()\n",
    "print(f\"Total execution time: {round(end_time - start_time, 2)} seconds\")"
   ]
  },
  {
   "cell_type": "markdown",
   "id": "718fa27b-91b1-4e0c-97e8-bda4bb73bcf4",
   "metadata": {},
   "source": [
    "## <div class=\"alert alert-info\" align='center'><strong>Conclusion</strong></div>"
   ]
  },
  {
   "cell_type": "markdown",
   "id": "61fff493-2987-455b-8a4a-daab1268e3a6",
   "metadata": {},
   "source": [
    "<div class=\"alert alert-info\">\n",
    "This notebook is dedicated to modelling access to medical care using machine learning. The baseline model was based on the prediction of the average value of the target, it was the reference point for the assessment of more complex models.\n",
    "\n",
    "A linear regression model is subsequently built and evaluated. It accounts for approximately 31.98% of the variance in the training data and 31.70% in the test data. Although stable, the model has a high mean absolute error and cannot capture the complexity of the data.\n",
    "\n",
    "Next, I tried a random forest regressor with median imputation. Cross-validation showed the lowest MAE and standard deviation (0.1052 and 0.0014), meaning the model is both accurate and stable. The test set MAE was 0.0766, indicating good generalization. LightGBM was also tested, and while it outperformed linear regression, its error and variance were higher than random forest.\n",
    "\n",
    "The random forest model was chosen based on these results as the most accurate and stable. It proved to have the highest overall accuracy, stability, and generalization and was selected as the most reliable choice for predicting access to medical care. The model was trained and saved to be further applied.\n",
    "</div>"
   ]
  },
  {
   "cell_type": "code",
   "execution_count": null,
   "id": "19a222d6-3661-4a6c-9ff4-88bdd5cf30a4",
   "metadata": {},
   "outputs": [],
   "source": []
  }
 ],
 "metadata": {
  "kernelspec": {
   "display_name": "Python 3 (ipykernel)",
   "language": "python",
   "name": "python3"
  },
  "language_info": {
   "codemirror_mode": {
    "name": "ipython",
    "version": 3
   },
   "file_extension": ".py",
   "mimetype": "text/x-python",
   "name": "python",
   "nbconvert_exporter": "python",
   "pygments_lexer": "ipython3",
   "version": "3.13.1"
  }
 },
 "nbformat": 4,
 "nbformat_minor": 5
}
